{
 "cells": [
  {
   "cell_type": "code",
   "execution_count": 2,
   "outputs": [],
   "source": [
    "import matplotlib.pyplot as plt\n",
    "import os\n",
    "\n",
    "import torch\n",
    "\n",
    "from LookGenerator.config.config import DatasetConfig\n",
    "from torchvision.transforms import ToPILImage\n",
    "from torch.utils.data import Dataset\n",
    "from torchvision.transforms import ToTensor\n",
    "from PIL import Image\n",
    "from LookGenerator.datasets.utils import load_image, DirInfo\n",
    "\n",
    "Config = DatasetConfig(os.environ)"
   ],
   "metadata": {
    "collapsed": false
   }
  },
  {
   "cell_type": "code",
   "execution_count": 3,
   "metadata": {
    "collapsed": true
   },
   "outputs": [],
   "source": [
    "def print_image(image):\n",
    "    \"\"\"\n",
    "    TEMP - delete or change\n",
    "    \"\"\"\n",
    "    fig = plt.figure(figsize=(10, 7))\n",
    "\n",
    "    fig.add_subplot(1, 2, 1)\n",
    "    plt.imshow(ToPILImage()(image[0]))\n",
    "\n",
    "    fig.add_subplot(1, 2, 2)\n",
    "    plt.imshow(ToPILImage()(image[1][0]))"
   ]
  },
  {
   "cell_type": "code",
   "execution_count": null,
   "outputs": [],
   "source": [],
   "metadata": {
    "collapsed": false
   }
  }
 ],
 "metadata": {
  "kernelspec": {
   "display_name": "Python 3",
   "language": "python",
   "name": "python3"
  },
  "language_info": {
   "codemirror_mode": {
    "name": "ipython",
    "version": 2
   },
   "file_extension": ".py",
   "mimetype": "text/x-python",
   "name": "python",
   "nbconvert_exporter": "python",
   "pygments_lexer": "ipython2",
   "version": "2.7.6"
  }
 },
 "nbformat": 4,
 "nbformat_minor": 0
}
