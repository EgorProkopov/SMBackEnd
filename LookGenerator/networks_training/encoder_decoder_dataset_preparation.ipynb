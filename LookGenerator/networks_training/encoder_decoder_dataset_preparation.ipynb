{
 "cells": [
  {
   "cell_type": "markdown",
   "source": [
    "# Подготовка датасета в энкодер-декодер"
   ],
   "metadata": {
    "collapsed": false
   }
  },
  {
   "cell_type": "code",
   "execution_count": 44,
   "metadata": {
    "collapsed": true
   },
   "outputs": [],
   "source": [
    "import os\n",
    "import torch\n",
    "from tqdm import tqdm\n",
    "import torchvision.transforms as transforms\n",
    "import LookGenerator.datasets.transforms as custom_transforms\n",
    "import numpy as np\n",
    "import PIL.Image as Image\n",
    "import cv2\n",
    "import matplotlib.pyplot as plt\n",
    "from LookGenerator.networks.segmentation import UNet\n",
    "from LookGenerator.networks.utils import load_model\n",
    "import albumentations\n",
    "from LookGenerator.datasets.utils import load_image, prepare_image_for_model, to_array_from_model_bin"
   ]
  },
  {
   "cell_type": "code",
   "execution_count": 45,
   "outputs": [],
   "source": [
    "model = UNet(in_channels=3, out_channels=1)\n",
    "\n",
    "transform_input = transforms.Compose([\n",
    "    transforms.Resize((256, 192)),\n",
    "    transforms.Normalize(\n",
    "        mean=[0.5, 0.5, 0.5],\n",
    "        std=[0.25, 0.25, 0.25]\n",
    "    )\n",
    "])\n",
    "\n",
    "transform_output = transforms.Compose([\n",
    "    transforms.Resize((256, 192)),\n",
    "    custom_transforms.MinMaxScale(),\n",
    "    custom_transforms.ThresholdTransform(threshold=0.5)\n",
    "])"
   ],
   "metadata": {
    "collapsed": false
   }
  },
  {
   "cell_type": "code",
   "execution_count": null,
   "outputs": [],
   "source": [
    "model = load_model(model, r\"C:\\Users\\DenisovDmitrii\\Desktop\\segmentation_weits\\session31\\unet_epoch_29_0.00010619719585335233.pt\")\n",
    "device = 'cuda' if torch.cuda.is_available() else 'cpu'\n",
    "print(device)\n",
    "# model.eval()"
   ],
   "metadata": {
    "collapsed": false,
    "pycharm": {
     "is_executing": true
    }
   }
  },
  {
   "cell_type": "code",
   "execution_count": 47,
   "outputs": [],
   "source": [
    "dir_ = r\"C:\\Users\\DenisovDmitrii\\Desktop\\valData\""
   ],
   "metadata": {
    "collapsed": false
   }
  },
  {
   "cell_type": "code",
   "execution_count": 48,
   "outputs": [],
   "source": [
    "def clean_image_by_indexes(array_to_clean, array):\n",
    "\n",
    "    height, width = array.shape[0], array.shape[1]\n",
    "    for i in range(height):\n",
    "        for j in range(width):\n",
    "            if array[i,j]==1:\n",
    "                array_to_clean[i,j] = [255,255, 255]"
   ],
   "metadata": {
    "collapsed": false
   }
  },
  {
   "cell_type": "code",
   "execution_count": 49,
   "outputs": [],
   "source": [
    "list_dir = os.listdir(os.path.join(dir_, r\"image\"))\n",
    "\n",
    "images = [image.split('.')[0] for image in list_dir]"
   ],
   "metadata": {
    "collapsed": false
   }
  },
  {
   "cell_type": "code",
   "execution_count": null,
   "outputs": [],
   "source": [
    "ctr = 0\n",
    "model.to(device)\n",
    "for image in tqdm(images):\n",
    "\n",
    "    real_img = load_image(dir_, \"image\", image, '.jpg').convert('RGB')\n",
    "\n",
    "    real_img_as_np = np.array(real_img)\n",
    "    real_img_as_np = cv2.resize(real_img_as_np, (192, 256))\n",
    "    real_img_to_model = prepare_image_for_model(real_img, transform = transform_input)\n",
    "\n",
    "    modelled = model(real_img_to_model.to(device))\n",
    "    modelled = transform_output(modelled.to('cpu').detach())\n",
    "\n",
    "    torso_img = to_array_from_model_bin(modelled)\n",
    "\n",
    "    clean_image_by_indexes(real_img_as_np, torso_img)\n",
    "    real_img_as_np = np.array(real_img_as_np, dtype = np.uint8)\n",
    "\n",
    "    Image.fromarray(real_img_as_np, 'RGB').save(dir_ + '\\\\image2\\\\' + image + '.png')\n",
    "\n"
   ],
   "metadata": {
    "collapsed": false,
    "pycharm": {
     "is_executing": true
    }
   }
  },
  {
   "cell_type": "code",
   "execution_count": null,
   "outputs": [],
   "source": [],
   "metadata": {
    "collapsed": false
   }
  }
 ],
 "metadata": {
  "kernelspec": {
   "display_name": "Python 3",
   "language": "python",
   "name": "python3"
  },
  "language_info": {
   "codemirror_mode": {
    "name": "ipython",
    "version": 2
   },
   "file_extension": ".py",
   "mimetype": "text/x-python",
   "name": "python",
   "nbconvert_exporter": "python",
   "pygments_lexer": "ipython2",
   "version": "2.7.6"
  }
 },
 "nbformat": 4,
 "nbformat_minor": 0
}
