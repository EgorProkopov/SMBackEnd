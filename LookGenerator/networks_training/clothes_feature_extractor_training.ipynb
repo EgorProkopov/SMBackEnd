{
 "cells": [
  {
   "cell_type": "code",
   "execution_count": 1,
   "metadata": {
    "collapsed": true,
    "ExecuteTime": {
     "start_time": "2023-04-11T15:05:55.494778Z",
     "end_time": "2023-04-11T15:05:56.816342Z"
    }
   },
   "outputs": [],
   "source": [
    "import os\n",
    "import PIL.Image as Image\n",
    "import torch.cuda\n",
    "import torchvision.transforms as transforms\n",
    "from torch.utils.data import DataLoader\n",
    "import numpy as np\n",
    "import torchvision\n",
    "from LookGenerator.networks.clothes_feature_extractor import ClothingAutoEncoder\n",
    "from LookGenerator.datasets.basic_dataset import BasicDataset\n",
    "from LookGenerator.networks.losses import VAELoss\n",
    "from LookGenerator.networks.utils import load_model\n",
    "import matplotlib.pyplot as plt\n",
    "import cv2\n",
    "from tqdm import tqdm\n",
    "from torchsummary import summary\n",
    "from LookGenerator.networks.utils import get_num_digits, save_model\n",
    "from LookGenerator.networks_training.utils import check_path_and_creat"
   ]
  },
  {
   "cell_type": "code",
   "execution_count": 2,
   "outputs": [],
   "source": [
    "transform_input = transforms.Compose([\n",
    "    transforms.Resize((256, 192)),\n",
    "    transforms.Normalize(mean=[0.5, 0.5, 0.5],\n",
    "                         std=[0.5, 0.5, 0.5])\n",
    "])"
   ],
   "metadata": {
    "collapsed": false,
    "ExecuteTime": {
     "start_time": "2023-04-11T15:05:56.816342Z",
     "end_time": "2023-04-11T15:05:56.818637Z"
    }
   }
  },
  {
   "cell_type": "code",
   "execution_count": 3,
   "outputs": [],
   "source": [
    "batch_size_train = 32\n",
    "batch_size_val = 16\n",
    "pin_memory = True\n",
    "num_workers = 4"
   ],
   "metadata": {
    "collapsed": false,
    "ExecuteTime": {
     "start_time": "2023-04-11T15:05:56.819633Z",
     "end_time": "2023-04-11T15:05:56.837336Z"
    }
   }
  },
  {
   "cell_type": "code",
   "execution_count": 4,
   "outputs": [],
   "source": [
    "train_dataset = BasicDataset(\n",
    "    root_dir=r\"C:\\Users\\DenisovDmitrii\\Desktop\\zalando-hd-resize\\train\",\n",
    "    dir_name=r\"cloth\",\n",
    "    transform_input=transform_input\n",
    ")\n",
    "train_dataloader = DataLoader(\n",
    "    train_dataset, batch_size=batch_size_train, shuffle=True, pin_memory=pin_memory,\n",
    "    num_workers=num_workers\n",
    ")"
   ],
   "metadata": {
    "collapsed": false,
    "ExecuteTime": {
     "start_time": "2023-04-11T15:05:56.837336Z",
     "end_time": "2023-04-11T15:05:56.860781Z"
    }
   }
  },
  {
   "cell_type": "code",
   "execution_count": 5,
   "outputs": [],
   "source": [
    "val_dataset = BasicDataset(\n",
    "    root_dir=r\"C:\\Users\\DenisovDmitrii\\Desktop\\zalando-hd-resize\\test\",\n",
    "    dir_name=\"cloth\",\n",
    "    transform_input=transform_input\n",
    ")\n",
    "val_dataloader = DataLoader(\n",
    "    val_dataset, batch_size=batch_size_train, shuffle=False, pin_memory=pin_memory,\n",
    "    num_workers=num_workers\n",
    ")"
   ],
   "metadata": {
    "collapsed": false,
    "ExecuteTime": {
     "start_time": "2023-04-11T15:05:56.861785Z",
     "end_time": "2023-04-11T15:05:56.872266Z"
    }
   }
  },
  {
   "cell_type": "code",
   "execution_count": 6,
   "outputs": [
    {
     "name": "stdout",
     "output_type": "stream",
     "text": [
      "2032 64\n",
      "11647 364\n"
     ]
    }
   ],
   "source": [
    "print(len(val_dataset), len(val_dataloader))\n",
    "print(len(train_dataset), len(train_dataloader))"
   ],
   "metadata": {
    "collapsed": false,
    "ExecuteTime": {
     "start_time": "2023-04-11T15:05:56.873264Z",
     "end_time": "2023-04-11T15:05:56.891292Z"
    }
   }
  },
  {
   "cell_type": "code",
   "execution_count": 7,
   "outputs": [],
   "source": [
    "def _epoch_string(epoch, epoch_num):\n",
    "    num_digits_epoch_num = get_num_digits(epoch_num)\n",
    "    num_digits_epoch = get_num_digits(epoch)\n",
    "\n",
    "    epoch_string = \"0\"*(num_digits_epoch_num - num_digits_epoch) + str(epoch)\n",
    "    return epoch_string"
   ],
   "metadata": {
    "collapsed": false,
    "ExecuteTime": {
     "start_time": "2023-04-11T15:05:56.891292Z",
     "end_time": "2023-04-11T15:05:56.911153Z"
    }
   }
  },
  {
   "cell_type": "code",
   "execution_count": 8,
   "outputs": [],
   "source": [
    "def fit(model, criterion, optimizer, device, train_loader, val_loader, epochs, save_directory, save_step=1):\n",
    "\n",
    "    train_loss=[]\n",
    "    val_loss=[]\n",
    "\n",
    "    criterion = criterion.to(device)\n",
    "    model = model.to(device)\n",
    "\n",
    "    for epoch in range(epochs):\n",
    "        torch.cuda.empty_cache()\n",
    "        model.to(device)\n",
    "        model.train()\n",
    "\n",
    "        train_epoch_loss = []\n",
    "        for X_batch in tqdm(train_loader):\n",
    "            X_batch = X_batch.to(device)\n",
    "            optimizer.zero_grad()\n",
    "            pred = model(X_batch)\n",
    "            reconstructed, mu, log_var = pred\n",
    "            loss = criterion(X_batch, mu, log_var, reconstructed)\n",
    "            loss.backward()\n",
    "            optimizer.step()\n",
    "            # print(mu, log_var)\n",
    "            train_epoch_loss.append(loss.item())\n",
    "            # print(loss.item())\n",
    "        train_loss.append(np.mean(train_epoch_loss))\n",
    "\n",
    "        model.eval()\n",
    "        val_loss_epoch = []\n",
    "        with torch.no_grad():\n",
    "          for X_val in tqdm(val_loader):\n",
    "              X_val = X_val.to(device)\n",
    "              pred = model(X_val)\n",
    "              reconstructed, mu, log_var  = pred\n",
    "              loss = criterion(X_val, mu, log_var, reconstructed)\n",
    "              val_loss_epoch.append(loss.item())\n",
    "        val_loss.append(np.mean(val_loss_epoch))\n",
    "\n",
    "        print(\"Epoch [{}/{}], train_loss: {:.3f}, val_loss: {:.3f}\".format(\n",
    "            epoch+1, epochs,\n",
    "            train_loss[-1], val_loss[-1])\n",
    "        )\n",
    "\n",
    "        if (epoch + 1) % save_step == 0:\n",
    "            save_model(\n",
    "            model.to('cpu'),\n",
    "            path=f\"{save_directory}\\\\epoch_{_epoch_string(epoch, epochs)}.pt\"\n",
    "        )\n",
    "\n",
    "    return train_loss, val_loss"
   ],
   "metadata": {
    "collapsed": false,
    "ExecuteTime": {
     "start_time": "2023-04-11T15:05:56.909147Z",
     "end_time": "2023-04-11T15:05:56.925115Z"
    }
   }
  },
  {
   "cell_type": "code",
   "execution_count": 9,
   "outputs": [
    {
     "data": {
      "text/plain": "True"
     },
     "execution_count": 9,
     "metadata": {},
     "output_type": "execute_result"
    }
   ],
   "source": [
    "save_directory=r\"C:\\Users\\DenisovDmitrii\\OneDrive - ITMO UNIVERSITY\\peopleDetector\\autoDegradation\\weights\\session1\"\n",
    "check_path_and_creat(save_directory)"
   ],
   "metadata": {
    "collapsed": false,
    "ExecuteTime": {
     "start_time": "2023-04-11T15:05:56.925115Z",
     "end_time": "2023-04-11T15:05:56.944787Z"
    }
   }
  },
  {
   "cell_type": "code",
   "execution_count": 10,
   "outputs": [],
   "source": [
    "criterion = VAELoss()\n",
    "model = ClothingAutoEncoder()\n",
    "optimizer = torch.optim.Adam(model.parameters(), lr = 10e-5)\n",
    "torch.backends.cuda.matmul.allow_tf32 = False\n",
    "torch.backends.cudnn.benchmark = True\n",
    "\n",
    "device = 'cuda' if torch.cuda.is_available() else 'cpu'"
   ],
   "metadata": {
    "collapsed": false,
    "ExecuteTime": {
     "start_time": "2023-04-11T15:05:56.943783Z",
     "end_time": "2023-04-11T15:05:57.105060Z"
    }
   }
  },
  {
   "cell_type": "code",
   "execution_count": 11,
   "outputs": [
    {
     "name": "stderr",
     "output_type": "stream",
     "text": [
      "100%|██████████| 364/364 [01:26<00:00,  4.19it/s]\n",
      "100%|██████████| 64/64 [00:11<00:00,  5.45it/s]\n"
     ]
    },
    {
     "name": "stdout",
     "output_type": "stream",
     "text": [
      "Epoch [1/30], train_loss: 1.735, val_loss: 0.589\n"
     ]
    },
    {
     "name": "stderr",
     "output_type": "stream",
     "text": [
      "100%|██████████| 364/364 [01:18<00:00,  4.66it/s]\n",
      "100%|██████████| 64/64 [00:10<00:00,  5.89it/s]\n"
     ]
    },
    {
     "name": "stdout",
     "output_type": "stream",
     "text": [
      "Epoch [2/30], train_loss: 0.384, val_loss: 0.515\n"
     ]
    },
    {
     "name": "stderr",
     "output_type": "stream",
     "text": [
      "100%|██████████| 364/364 [01:17<00:00,  4.71it/s]\n",
      "100%|██████████| 64/64 [00:10<00:00,  6.12it/s]\n"
     ]
    },
    {
     "name": "stdout",
     "output_type": "stream",
     "text": [
      "Epoch [3/30], train_loss: 0.385, val_loss: 0.542\n"
     ]
    },
    {
     "name": "stderr",
     "output_type": "stream",
     "text": [
      "100%|██████████| 364/364 [01:16<00:00,  4.75it/s]\n",
      "100%|██████████| 64/64 [00:10<00:00,  6.11it/s]\n"
     ]
    },
    {
     "name": "stdout",
     "output_type": "stream",
     "text": [
      "Epoch [4/30], train_loss: 0.409, val_loss: 0.493\n"
     ]
    },
    {
     "name": "stderr",
     "output_type": "stream",
     "text": [
      "100%|██████████| 364/364 [01:17<00:00,  4.69it/s]\n",
      "100%|██████████| 64/64 [00:10<00:00,  6.19it/s]\n"
     ]
    },
    {
     "name": "stdout",
     "output_type": "stream",
     "text": [
      "Epoch [5/30], train_loss: 0.364, val_loss: 0.822\n"
     ]
    },
    {
     "name": "stderr",
     "output_type": "stream",
     "text": [
      "100%|██████████| 364/364 [01:15<00:00,  4.81it/s]\n",
      "100%|██████████| 64/64 [00:10<00:00,  5.87it/s]\n"
     ]
    },
    {
     "name": "stdout",
     "output_type": "stream",
     "text": [
      "Epoch [6/30], train_loss: 3.255, val_loss: 0.472\n"
     ]
    },
    {
     "name": "stderr",
     "output_type": "stream",
     "text": [
      "100%|██████████| 364/364 [01:18<00:00,  4.63it/s]\n",
      "100%|██████████| 64/64 [00:10<00:00,  6.04it/s]\n"
     ]
    },
    {
     "name": "stdout",
     "output_type": "stream",
     "text": [
      "Epoch [7/30], train_loss: 0.364, val_loss: 0.472\n"
     ]
    },
    {
     "name": "stderr",
     "output_type": "stream",
     "text": [
      "100%|██████████| 364/364 [01:17<00:00,  4.71it/s]\n",
      "100%|██████████| 64/64 [00:11<00:00,  5.64it/s]\n"
     ]
    },
    {
     "name": "stdout",
     "output_type": "stream",
     "text": [
      "Epoch [8/30], train_loss: 0.342, val_loss: 0.452\n"
     ]
    },
    {
     "name": "stderr",
     "output_type": "stream",
     "text": [
      "100%|██████████| 364/364 [01:17<00:00,  4.67it/s]\n",
      "100%|██████████| 64/64 [00:10<00:00,  5.88it/s]\n"
     ]
    },
    {
     "name": "stdout",
     "output_type": "stream",
     "text": [
      "Epoch [9/30], train_loss: 0.339, val_loss: 0.460\n"
     ]
    },
    {
     "name": "stderr",
     "output_type": "stream",
     "text": [
      "100%|██████████| 364/364 [01:17<00:00,  4.69it/s]\n",
      "100%|██████████| 64/64 [00:10<00:00,  5.95it/s]\n"
     ]
    },
    {
     "name": "stdout",
     "output_type": "stream",
     "text": [
      "Epoch [10/30], train_loss: 0.340, val_loss: 0.458\n"
     ]
    },
    {
     "name": "stderr",
     "output_type": "stream",
     "text": [
      "100%|██████████| 364/364 [01:17<00:00,  4.70it/s]\n",
      "100%|██████████| 64/64 [00:10<00:00,  6.00it/s]\n"
     ]
    },
    {
     "name": "stdout",
     "output_type": "stream",
     "text": [
      "Epoch [11/30], train_loss: 0.401, val_loss: 0.566\n"
     ]
    },
    {
     "name": "stderr",
     "output_type": "stream",
     "text": [
      "100%|██████████| 364/364 [01:16<00:00,  4.78it/s]\n",
      "100%|██████████| 64/64 [00:11<00:00,  5.72it/s]\n"
     ]
    },
    {
     "name": "stdout",
     "output_type": "stream",
     "text": [
      "Epoch [12/30], train_loss: 4.659, val_loss: 0.711\n"
     ]
    },
    {
     "name": "stderr",
     "output_type": "stream",
     "text": [
      "100%|██████████| 364/364 [01:16<00:00,  4.75it/s]\n",
      "100%|██████████| 64/64 [00:10<00:00,  6.24it/s]\n"
     ]
    },
    {
     "name": "stdout",
     "output_type": "stream",
     "text": [
      "Epoch [13/30], train_loss: 0.437, val_loss: 0.509\n"
     ]
    },
    {
     "name": "stderr",
     "output_type": "stream",
     "text": [
      "100%|██████████| 364/364 [01:14<00:00,  4.90it/s]\n",
      "100%|██████████| 64/64 [00:10<00:00,  6.17it/s]\n"
     ]
    },
    {
     "name": "stdout",
     "output_type": "stream",
     "text": [
      "Epoch [14/30], train_loss: 0.362, val_loss: 0.489\n"
     ]
    },
    {
     "name": "stderr",
     "output_type": "stream",
     "text": [
      "100%|██████████| 364/364 [01:15<00:00,  4.80it/s]\n",
      "100%|██████████| 64/64 [00:10<00:00,  6.06it/s]\n"
     ]
    },
    {
     "name": "stdout",
     "output_type": "stream",
     "text": [
      "Epoch [15/30], train_loss: 0.341, val_loss: 0.516\n"
     ]
    },
    {
     "name": "stderr",
     "output_type": "stream",
     "text": [
      "100%|██████████| 364/364 [01:16<00:00,  4.78it/s]\n",
      "100%|██████████| 64/64 [00:10<00:00,  5.99it/s]\n"
     ]
    },
    {
     "name": "stdout",
     "output_type": "stream",
     "text": [
      "Epoch [16/30], train_loss: 0.530, val_loss: 1.695\n"
     ]
    },
    {
     "name": "stderr",
     "output_type": "stream",
     "text": [
      "100%|██████████| 364/364 [01:16<00:00,  4.78it/s]\n",
      "100%|██████████| 64/64 [00:10<00:00,  6.06it/s]\n"
     ]
    },
    {
     "name": "stdout",
     "output_type": "stream",
     "text": [
      "Epoch [17/30], train_loss: 0.415, val_loss: 0.457\n"
     ]
    },
    {
     "name": "stderr",
     "output_type": "stream",
     "text": [
      "100%|██████████| 364/364 [01:16<00:00,  4.78it/s]\n",
      "100%|██████████| 64/64 [00:10<00:00,  6.02it/s]\n"
     ]
    },
    {
     "name": "stdout",
     "output_type": "stream",
     "text": [
      "Epoch [18/30], train_loss: 0.357, val_loss: 0.480\n"
     ]
    },
    {
     "name": "stderr",
     "output_type": "stream",
     "text": [
      "100%|██████████| 364/364 [01:17<00:00,  4.69it/s]\n",
      "100%|██████████| 64/64 [00:11<00:00,  5.82it/s]\n"
     ]
    },
    {
     "name": "stdout",
     "output_type": "stream",
     "text": [
      "Epoch [19/30], train_loss: 0.370, val_loss: 0.451\n"
     ]
    },
    {
     "name": "stderr",
     "output_type": "stream",
     "text": [
      "100%|██████████| 364/364 [01:19<00:00,  4.60it/s]\n",
      "100%|██████████| 64/64 [00:11<00:00,  5.71it/s]\n"
     ]
    },
    {
     "name": "stdout",
     "output_type": "stream",
     "text": [
      "Epoch [20/30], train_loss: 0.425, val_loss: 0.516\n"
     ]
    },
    {
     "name": "stderr",
     "output_type": "stream",
     "text": [
      "100%|██████████| 364/364 [01:16<00:00,  4.77it/s]\n",
      "100%|██████████| 64/64 [00:10<00:00,  5.95it/s]\n"
     ]
    },
    {
     "name": "stdout",
     "output_type": "stream",
     "text": [
      "Epoch [21/30], train_loss: 0.503, val_loss: 1.695\n"
     ]
    },
    {
     "name": "stderr",
     "output_type": "stream",
     "text": [
      "100%|██████████| 364/364 [01:16<00:00,  4.76it/s]\n",
      "100%|██████████| 64/64 [00:10<00:00,  6.04it/s]\n"
     ]
    },
    {
     "name": "stdout",
     "output_type": "stream",
     "text": [
      "Epoch [22/30], train_loss: 0.411, val_loss: 0.499\n"
     ]
    },
    {
     "name": "stderr",
     "output_type": "stream",
     "text": [
      "100%|██████████| 364/364 [01:16<00:00,  4.79it/s]\n",
      "100%|██████████| 64/64 [00:10<00:00,  6.11it/s]\n"
     ]
    },
    {
     "name": "stdout",
     "output_type": "stream",
     "text": [
      "Epoch [23/30], train_loss: 0.397, val_loss: 0.471\n"
     ]
    },
    {
     "name": "stderr",
     "output_type": "stream",
     "text": [
      "100%|██████████| 364/364 [01:15<00:00,  4.79it/s]\n",
      "100%|██████████| 64/64 [00:10<00:00,  5.98it/s]\n"
     ]
    },
    {
     "name": "stdout",
     "output_type": "stream",
     "text": [
      "Epoch [24/30], train_loss: 4.691, val_loss: 1.140\n"
     ]
    },
    {
     "name": "stderr",
     "output_type": "stream",
     "text": [
      "100%|██████████| 364/364 [01:16<00:00,  4.78it/s]\n",
      "100%|██████████| 64/64 [00:10<00:00,  6.12it/s]\n"
     ]
    },
    {
     "name": "stdout",
     "output_type": "stream",
     "text": [
      "Epoch [25/30], train_loss: 0.622, val_loss: 0.468\n"
     ]
    },
    {
     "name": "stderr",
     "output_type": "stream",
     "text": [
      "100%|██████████| 364/364 [01:16<00:00,  4.75it/s]\n",
      "100%|██████████| 64/64 [00:10<00:00,  5.89it/s]\n"
     ]
    },
    {
     "name": "stdout",
     "output_type": "stream",
     "text": [
      "Epoch [26/30], train_loss: 0.348, val_loss: 0.463\n"
     ]
    },
    {
     "name": "stderr",
     "output_type": "stream",
     "text": [
      "100%|██████████| 364/364 [01:15<00:00,  4.83it/s]\n",
      "100%|██████████| 64/64 [00:10<00:00,  6.17it/s]\n"
     ]
    },
    {
     "name": "stdout",
     "output_type": "stream",
     "text": [
      "Epoch [27/30], train_loss: 0.337, val_loss: 0.421\n"
     ]
    },
    {
     "name": "stderr",
     "output_type": "stream",
     "text": [
      "100%|██████████| 364/364 [01:14<00:00,  4.89it/s]\n",
      "100%|██████████| 64/64 [00:10<00:00,  6.13it/s]\n"
     ]
    },
    {
     "name": "stdout",
     "output_type": "stream",
     "text": [
      "Epoch [28/30], train_loss: 0.330, val_loss: 0.450\n"
     ]
    },
    {
     "name": "stderr",
     "output_type": "stream",
     "text": [
      "100%|██████████| 364/364 [01:14<00:00,  4.89it/s]\n",
      "100%|██████████| 64/64 [00:10<00:00,  6.16it/s]\n"
     ]
    },
    {
     "name": "stdout",
     "output_type": "stream",
     "text": [
      "Epoch [29/30], train_loss: 0.329, val_loss: 0.442\n"
     ]
    },
    {
     "name": "stderr",
     "output_type": "stream",
     "text": [
      "100%|██████████| 364/364 [01:14<00:00,  4.89it/s]\n",
      "100%|██████████| 64/64 [00:10<00:00,  6.22it/s]"
     ]
    },
    {
     "name": "stdout",
     "output_type": "stream",
     "text": [
      "Epoch [30/30], train_loss: 0.333, val_loss: 0.408\n"
     ]
    },
    {
     "name": "stderr",
     "output_type": "stream",
     "text": [
      "\n"
     ]
    }
   ],
   "source": [
    "train_loss, val_loss = fit(model=model,\n",
    "                           criterion=criterion,\n",
    "                           optimizer=optimizer,\n",
    "                           train_loader=train_dataloader,\n",
    "                           val_loader=val_dataloader,\n",
    "                           epochs=30,\n",
    "                           save_directory=save_directory,\n",
    "                           device=device)"
   ],
   "metadata": {
    "collapsed": false,
    "ExecuteTime": {
     "start_time": "2023-04-11T15:05:57.105060Z",
     "end_time": "2023-04-11T15:49:52.097068Z"
    }
   }
  },
  {
   "cell_type": "code",
   "execution_count": 12,
   "outputs": [
    {
     "data": {
      "text/plain": "<Figure size 640x480 with 1 Axes>",
      "image/png": "[encoded data removed]"
     },
     "metadata": {},
     "output_type": "display_data"
    }
   ],
   "source": [
    "plt.plot(train_loss, label='train')\n",
    "plt.plot(val_loss, label='val')\n",
    "plt.legend()\n",
    "plt.show()"
   ],
   "metadata": {
    "collapsed": false,
    "ExecuteTime": {
     "start_time": "2023-04-11T16:15:37.515750Z",
     "end_time": "2023-04-11T16:15:37.611453Z"
    }
   }
  },
  {
   "cell_type": "code",
   "execution_count": 16,
   "outputs": [],
   "source": [
    "model.eval()\n",
    "model.to('cpu')\n",
    "for X_val in val_dataloader:\n",
    "  reconstructed, mu, log_var = model(X_val)\n",
    "  img = transforms.ToPILImage()(reconstructed[0]/2+0.5)\n",
    "  cl = transforms.ToPILImage()(X_val[0])\n",
    "  cl.show()\n",
    "  img.show()\n",
    "  break"
   ],
   "metadata": {
    "collapsed": false,
    "ExecuteTime": {
     "start_time": "2023-04-11T16:23:36.978830Z",
     "end_time": "2023-04-11T16:23:56.584210Z"
    }
   }
  },
  {
   "cell_type": "code",
   "execution_count": null,
   "outputs": [],
   "source": [],
   "metadata": {
    "collapsed": false
   }
  }
 ],
 "metadata": {
  "kernelspec": {
   "display_name": "Python 3",
   "language": "python",
   "name": "python3"
  },
  "language_info": {
   "codemirror_mode": {
    "name": "ipython",
    "version": 2
   },
   "file_extension": ".py",
   "mimetype": "text/x-python",
   "name": "python",
   "nbconvert_exporter": "python",
   "pygments_lexer": "ipython2",
   "version": "2.7.6"
  }
 },
 "nbformat": 4,
 "nbformat_minor": 0
}
