{
 "cells": [
  {
   "cell_type": "markdown",
   "source": [
    "# Импорт"
   ],
   "metadata": {
    "collapsed": false
   }
  },
  {
   "cell_type": "code",
   "execution_count": 1,
   "outputs": [],
   "source": [
    "import os\n",
    "\n",
    "import matplotlib.pyplot as plt\n",
    "import numpy as np\n",
    "import PIL.Image as Image\n",
    "from tqdm import tqdm\n",
    "\n",
    "import torch\n",
    "import torch.nn as nn\n",
    "from torch.utils.data import DataLoader\n",
    "import torchvision.transforms as transforms\n",
    "from LookGenerator.networks.losses import WassersteinLoss, GradientPenalty\n",
    "from LookGenerator.datasets.refinement_dataset import RefinementGANDataset\n",
    "from LookGenerator.networks.trainer import WGANGPTrainer\n",
    "from LookGenerator.networks.refinement import RefinementGenerator, RefinementDiscriminator\n",
    "from LookGenerator.networks_training.utils import check_path_and_creat\n",
    "import LookGenerator.datasets.transforms as custom_transforms"
   ],
   "metadata": {
    "collapsed": false,
    "ExecuteTime": {
     "start_time": "2023-03-30T20:38:59.306642Z",
     "end_time": "2023-03-30T20:39:00.732537Z"
    }
   }
  },
  {
   "cell_type": "markdown",
   "source": [
    "# Загрузка данных"
   ],
   "metadata": {
    "collapsed": false
   }
  },
  {
   "cell_type": "code",
   "execution_count": 2,
   "outputs": [],
   "source": [
    "transform_restored = transforms.Compose([\n",
    "    transforms.Resize((256, 192)),\n",
    "    custom_transforms.MinMaxScale()\n",
    "])\n",
    "\n",
    "transform_real = transforms.Compose([\n",
    "    transforms.Resize((256, 192)),\n",
    "    custom_transforms.MinMaxScale()\n",
    "])"
   ],
   "metadata": {
    "collapsed": false,
    "ExecuteTime": {
     "start_time": "2023-03-30T20:44:33.753490Z",
     "end_time": "2023-03-30T20:44:33.755021Z"
    }
   }
  },
  {
   "cell_type": "code",
   "execution_count": 3,
   "outputs": [],
   "source": [
    "batch_size_train = 192\n",
    "pin_memory = True\n",
    "num_workers = 10"
   ],
   "metadata": {
    "collapsed": false,
    "ExecuteTime": {
     "start_time": "2023-03-30T20:44:33.756003Z",
     "end_time": "2023-03-30T20:44:33.825817Z"
    }
   }
  },
  {
   "cell_type": "code",
   "execution_count": 4,
   "outputs": [
    {
     "ename": "FileNotFoundError",
     "evalue": "[WinError 3] Системе не удается найти указанный путь: 'C:\\\\Users\\\\DenisovDmitrii\\\\Desktop\\\\forRefinement\\\\train'",
     "output_type": "error",
     "traceback": [
      "\u001B[1;31m---------------------------------------------------------------------------\u001B[0m",
      "\u001B[1;31mFileNotFoundError\u001B[0m                         Traceback (most recent call last)",
      "Cell \u001B[1;32mIn[4], line 1\u001B[0m\n\u001B[1;32m----> 1\u001B[0m train_dataset \u001B[38;5;241m=\u001B[39m \u001B[43mRefinementGANDataset\u001B[49m\u001B[43m(\u001B[49m\n\u001B[0;32m      2\u001B[0m \u001B[43m    \u001B[49m\u001B[43mrestored_images_dir\u001B[49m\u001B[38;5;241;43m=\u001B[39;49m\u001B[38;5;124;43mr\u001B[39;49m\u001B[38;5;124;43m\"\u001B[39;49m\u001B[38;5;124;43mC:\u001B[39;49m\u001B[38;5;124;43m\\\u001B[39;49m\u001B[38;5;124;43mUsers\u001B[39;49m\u001B[38;5;124;43m\\\u001B[39;49m\u001B[38;5;124;43mDenisovDmitrii\u001B[39;49m\u001B[38;5;124;43m\\\u001B[39;49m\u001B[38;5;124;43mDesktop\u001B[39;49m\u001B[38;5;124;43m\\\u001B[39;49m\u001B[38;5;124;43mforRefinement\u001B[39;49m\u001B[38;5;124;43m\\\u001B[39;49m\u001B[38;5;124;43mtrain\u001B[39;49m\u001B[38;5;124;43m\"\u001B[39;49m\u001B[43m,\u001B[49m\n\u001B[0;32m      3\u001B[0m \u001B[43m    \u001B[49m\u001B[43mreal_images_dir\u001B[49m\u001B[38;5;241;43m=\u001B[39;49m\u001B[38;5;124;43mr\u001B[39;49m\u001B[38;5;124;43m\"\u001B[39;49m\u001B[38;5;124;43mC:\u001B[39;49m\u001B[38;5;124;43m\\\u001B[39;49m\u001B[38;5;124;43mUsers\u001B[39;49m\u001B[38;5;124;43m\\\u001B[39;49m\u001B[38;5;124;43mDenisovDmitrii\u001B[39;49m\u001B[38;5;124;43m\\\u001B[39;49m\u001B[38;5;124;43mDesktop\u001B[39;49m\u001B[38;5;124;43m\\\u001B[39;49m\u001B[38;5;124;43mforEncoder\u001B[39;49m\u001B[38;5;124;43m\\\u001B[39;49m\u001B[38;5;124;43mtrain\u001B[39;49m\u001B[38;5;124;43m\\\u001B[39;49m\u001B[38;5;124;43mimage\u001B[39;49m\u001B[38;5;124;43m\"\u001B[39;49m\u001B[43m,\u001B[49m\n\u001B[0;32m      4\u001B[0m \u001B[43m    \u001B[49m\u001B[43mtransform_restored_images\u001B[49m\u001B[38;5;241;43m=\u001B[39;49m\u001B[43mtransform_restored\u001B[49m\u001B[43m,\u001B[49m\n\u001B[0;32m      5\u001B[0m \u001B[43m    \u001B[49m\u001B[43mtransform_real_images\u001B[49m\u001B[38;5;241;43m=\u001B[39;49m\u001B[43mtransform_real\u001B[49m\n\u001B[0;32m      6\u001B[0m \u001B[43m)\u001B[49m\n",
      "File \u001B[1;32m~\\Desktop\\SMBackEnd\\LookGenerator\\datasets\\refinement_dataset.py:35\u001B[0m, in \u001B[0;36mRefinementGANDataset.__init__\u001B[1;34m(self, restored_images_dir, real_images_dir, transform_restored_images, transform_real_images)\u001B[0m\n\u001B[0;32m     32\u001B[0m \u001B[38;5;28mself\u001B[39m\u001B[38;5;241m.\u001B[39mtransform_restored_images \u001B[38;5;241m=\u001B[39m transform_restored_images\n\u001B[0;32m     33\u001B[0m \u001B[38;5;28mself\u001B[39m\u001B[38;5;241m.\u001B[39mtransform_real_images \u001B[38;5;241m=\u001B[39m transform_real_images\n\u001B[1;32m---> 35\u001B[0m \u001B[38;5;28mself\u001B[39m\u001B[38;5;241m.\u001B[39mlist_of_restored \u001B[38;5;241m=\u001B[39m \u001B[43mos\u001B[49m\u001B[38;5;241;43m.\u001B[39;49m\u001B[43mlistdir\u001B[49m\u001B[43m(\u001B[49m\u001B[38;5;28;43mself\u001B[39;49m\u001B[38;5;241;43m.\u001B[39;49m\u001B[43mrestored_images_dir\u001B[49m\u001B[43m)\u001B[49m\n\u001B[0;32m     36\u001B[0m \u001B[38;5;28mself\u001B[39m\u001B[38;5;241m.\u001B[39mlist_of_real \u001B[38;5;241m=\u001B[39m os\u001B[38;5;241m.\u001B[39mlistdir(\u001B[38;5;28mself\u001B[39m\u001B[38;5;241m.\u001B[39mreal_images_dir)\n",
      "\u001B[1;31mFileNotFoundError\u001B[0m: [WinError 3] Системе не удается найти указанный путь: 'C:\\\\Users\\\\DenisovDmitrii\\\\Desktop\\\\forRefinement\\\\train'"
     ]
    }
   ],
   "source": [
    "train_dataset = RefinementGANDataset(\n",
    "    restored_images_dir=r\"C:\\Users\\DenisovDmitrii\\Desktop\\forRefinement\\train\",\n",
    "    real_images_dir=r\"C:\\Users\\DenisovDmitrii\\Desktop\\forEncoder\\train\\image\",\n",
    "    transform_restored_images=transform_restored,\n",
    "    transform_real_images=transform_real\n",
    ")"
   ],
   "metadata": {
    "collapsed": false,
    "ExecuteTime": {
     "start_time": "2023-03-30T20:44:33.825817Z",
     "end_time": "2023-03-30T20:44:33.842535Z"
    }
   }
  },
  {
   "cell_type": "code",
   "execution_count": null,
   "outputs": [],
   "source": [
    "train_dataloader = DataLoader(\n",
    "    train_dataset, batch_size=batch_size_train, shuffle=True, pin_memory=pin_memory, num_workers=num_workers\n",
    ")"
   ],
   "metadata": {
    "collapsed": false,
    "ExecuteTime": {
     "start_time": "2023-03-30T20:44:33.843309Z",
     "end_time": "2023-03-30T20:44:33.846320Z"
    }
   }
  },
  {
   "cell_type": "markdown",
   "source": [
    "# Обучение модели"
   ],
   "metadata": {
    "collapsed": false
   }
  },
  {
   "cell_type": "code",
   "execution_count": null,
   "outputs": [],
   "source": [
    "generator = RefinementGenerator()\n",
    "discriminator = RefinementDiscriminator()\n",
    "\n",
    "optimizer_generator = torch.optim.Adam(generator.parameters(), lr=5e-5)\n",
    "optimizer_discriminator = torch.optim.Adam(discriminator.parameters(), lr=5e-5)\n",
    "\n",
    "device = 'cuda' if torch.cuda.is_available() else 'cpu'\n",
    "\n",
    "criterion_generator = WassersteinLoss()\n",
    "criterion_discriminator = WassersteinLoss()\n",
    "gradient_penalty = GradientPenalty(discriminator, device=device)\n",
    "\n",
    "print(device)"
   ],
   "metadata": {
    "collapsed": false,
    "ExecuteTime": {
     "start_time": "2023-03-30T20:44:33.846320Z",
     "end_time": "2023-03-30T20:44:33.940073Z"
    }
   }
  },
  {
   "cell_type": "code",
   "execution_count": null,
   "outputs": [],
   "source": [
    "save_directory_generator=r\"C:\\Users\\DenisovDmitrii\\OneDrive - ITMO UNIVERSITY\\peopleDetector\\refinement\\weights\\generator\\session1\"\n",
    "save_directory_discriminator=r\"C:\\Users\\DenisovDmitrii\\OneDrive - ITMO UNIVERSITY\\peopleDetector\\refinement\\weights\\discriminator\\session1\"\n",
    "check_path_and_creat(save_directory_generator)\n",
    "check_path_and_creat(save_directory_discriminator)\n"
   ],
   "metadata": {
    "collapsed": false,
    "ExecuteTime": {
     "start_time": "2023-03-30T20:44:33.940073Z",
     "end_time": "2023-03-30T20:44:33.944756Z"
    }
   }
  },
  {
   "cell_type": "code",
   "execution_count": null,
   "outputs": [],
   "source": [
    "torch.backends.cuda.matmul.allow_tf32 = False\n",
    "torch.backends.cudnn.benchmark = True"
   ],
   "metadata": {
    "collapsed": false,
    "ExecuteTime": {
     "start_time": "2023-03-30T20:44:33.944756Z",
     "end_time": "2023-03-30T20:44:33.950933Z"
    }
   }
  },
  {
   "cell_type": "code",
   "execution_count": null,
   "outputs": [],
   "source": [
    "#trainer = WGANGPTrainer(\n",
    "#    generator=generator,\n",
    "#    discriminator=discriminator,\n",
    "#    optimizer_generator=optimizer_generator,\n",
    "#    optimizer_discriminator=optimizer_discriminator,\n",
    "#    criterion_generator=criterion_generator,\n",
    "#    criterion_discriminator=criterion_discriminator,\n",
    "#    gradient_penalty=gradient_penalty,\n",
    "#    gp_weight=0.2,\n",
    "#    save_step=1,\n",
    "#    save_directory_discriminator=save_directory_discriminator,\n",
    "#    save_directory_generator=save_directory_generator,\n",
    "#    device=device,\n",
    "#    verbose=True\n",
    "#)"
   ],
   "metadata": {
    "collapsed": false,
    "ExecuteTime": {
     "start_time": "2023-03-30T20:44:33.950933Z",
     "end_time": "2023-03-30T20:44:33.958891Z"
    }
   }
  },
  {
   "cell_type": "code",
   "execution_count": null,
   "outputs": [],
   "source": [
    "#trainer.train(train_dataloader, epoch_num=5)"
   ],
   "metadata": {
    "collapsed": false,
    "ExecuteTime": {
     "start_time": "2023-03-30T20:44:33.958891Z",
     "end_time": "2023-03-30T20:50:11.354132Z"
    }
   }
  },
  {
   "cell_type": "code",
   "execution_count": null,
   "outputs": [],
   "source": [
    "model = {\n",
    "    \"discriminator\": RefinementDiscriminator().to(device),\n",
    "    \"generator\": RefinementGenerator().to(device)\n",
    "}\n",
    "\n",
    "criterion = {\n",
    "    \"discriminator\": criterion_discriminator(),\n",
    "    \"generator\": criterion_generator()\n",
    "}"
   ],
   "metadata": {
    "collapsed": false
   }
  },
  {
   "cell_type": "code",
   "execution_count": 5,
   "outputs": [],
   "source": [
    "def fit(model, criterion, train_dl, device, epochs, lr):\n",
    "    model[\"discriminator\"].train()\n",
    "    model[\"generator\"].train()\n",
    "    torch.cuda.empty_cache()\n",
    "\n",
    "    # Losses & scores\n",
    "    losses_g = []\n",
    "    losses_d = []\n",
    "    real_scores = []\n",
    "    fake_scores = []\n",
    "\n",
    "    # Create optimizers\n",
    "    optimizer = {\n",
    "        \"discriminator\": torch.optim.Adam(model[\"discriminator\"].parameters(),\n",
    "                                          lr=lr, betas=(0.5, 0.999)),\n",
    "        \"generator\": torch.optim.Adam(model[\"generator\"].parameters(),\n",
    "                                      lr=lr, betas=(0.5, 0.999))\n",
    "    }\n",
    "\n",
    "    for epoch in range(epochs):\n",
    "        loss_d_per_epoch = []\n",
    "        loss_g_per_epoch = []\n",
    "        real_score_per_epoch = []\n",
    "        fake_score_per_epoch = []\n",
    "        for iteration, (input_images, real_images) in enumerate(tqdm(train_dl), 0):\n",
    "            input_images = input_images.to(device)\n",
    "            real_images = real_images.to(device)\n",
    "            # Train discriminator\n",
    "            # Clear discriminator gradients\n",
    "            optimizer[\"discriminator\"].zero_grad()\n",
    "\n",
    "            real_images = real_images.to(device)\n",
    "\n",
    "            # Pass real images through discriminator\n",
    "            real_preds = model[\"discriminator\"](real_images)\n",
    "            real_targets = torch.ones(real_images.shape[0], 1, device=device)\n",
    "            real_loss = criterion[\"discriminator\"](real_preds, real_targets)\n",
    "            cur_real_score = torch.mean(real_preds).item()\n",
    "\n",
    "            # Generate fake images\n",
    "            fake_images = model[\"generator\"](input_images)\n",
    "\n",
    "            # Pass fake images through discriminator\n",
    "            fake_targets = -torch.ones(fake_images.shape[0], 1, device=device)\n",
    "            fake_preds = model[\"discriminator\"](fake_images)\n",
    "            fake_loss = criterion[\"discriminator\"](fake_preds, fake_targets)\n",
    "            cur_fake_score = torch.mean(fake_preds).item()\n",
    "\n",
    "            real_score_per_epoch.append(cur_real_score)\n",
    "            fake_score_per_epoch.append(cur_fake_score)\n",
    "            gp = gradient_penalty(model[\"discriminator\"], real_images, fake_images, device)\n",
    "\n",
    "            # Update discriminator weights\n",
    "            loss_d = real_loss + fake_loss + 0.2 * gp\n",
    "            loss_d.backward()\n",
    "            optimizer[\"discriminator\"].step()\n",
    "            loss_d_per_epoch.append(loss_d.item())\n",
    "\n",
    "\n",
    "            # Train generator\n",
    "            if iteration % 5 == 0:\n",
    "                # Clear generator gradients\n",
    "                optimizer[\"generator\"].zero_grad()\n",
    "\n",
    "                # Generate fake images\n",
    "                fake_images = model[\"generator\"](input_images)\n",
    "\n",
    "                # Try to fool the discriminator\n",
    "                preds = model[\"discriminator\"](fake_images)\n",
    "                targets = torch.ones(real_images.shape[0], 1, device=device)\n",
    "                loss_g = criterion[\"generator\"](preds, targets)\n",
    "\n",
    "                # Update generator weights\n",
    "                loss_g.backward()\n",
    "                optimizer[\"generator\"].step()\n",
    "                loss_g_per_epoch.append(loss_g.item())\n",
    "\n",
    "                losses_g.append(np.mean(loss_g_per_epoch))\n",
    "\n",
    "        # Record losses & scores\n",
    "        losses_d.append(np.mean(loss_d_per_epoch))\n",
    "        real_scores.append(np.mean(real_score_per_epoch))\n",
    "        fake_scores.append(np.mean(fake_score_per_epoch))\n",
    "\n",
    "        # Log losses & scores (last batch)\n",
    "        print(\"Epoch [{}/{}], loss_g: {:.4f}, loss_d: {:.4f}, real_score: {:.4f}, fake_score: {:.4f}\".format(\n",
    "            epoch+1, epochs,\n",
    "            losses_g[-1], losses_d[-1], real_scores[-1], fake_scores[-1])\n",
    "        )\n",
    "\n",
    "    return losses_g, losses_d, real_scores, fake_scores"
   ],
   "metadata": {
    "collapsed": false
   }
  },
  {
   "cell_type": "code",
   "execution_count": null,
   "outputs": [],
   "source": [
    "history = fit(model, criterion, train_dataloader, device, 2, 0.00005)"
   ],
   "metadata": {
    "collapsed": false
   }
  },
  {
   "cell_type": "code",
   "execution_count": null,
   "outputs": [],
   "source": [
    "image, real_image = train_dataset[1]\n",
    "image = image.unsqueeze(0)\n",
    "print(image.shape)\n",
    "image = generator(image)\n",
    "imaged = discriminator(image)\n",
    "image = transforms.ToPILImage()(image[0, :, :, :])\n",
    "image.show()\n",
    "print(imaged)\n"
   ],
   "metadata": {
    "collapsed": false,
    "ExecuteTime": {
     "start_time": "2023-03-30T21:05:31.926896Z",
     "end_time": "2023-03-30T21:05:35.215217Z"
    }
   }
  },
  {
   "cell_type": "code",
   "execution_count": null,
   "outputs": [],
   "source": [],
   "metadata": {
    "collapsed": false
   }
  }
 ],
 "metadata": {
  "kernelspec": {
   "display_name": "Python 3",
   "language": "python",
   "name": "python3"
  },
  "language_info": {
   "codemirror_mode": {
    "name": "ipython",
    "version": 2
   },
   "file_extension": ".py",
   "mimetype": "text/x-python",
   "name": "python",
   "nbconvert_exporter": "python",
   "pygments_lexer": "ipython2",
   "version": "2.7.6"
  }
 },
 "nbformat": 4,
 "nbformat_minor": 0
}
