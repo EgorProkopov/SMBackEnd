{
 "cells": [
  {
   "cell_type": "markdown",
   "source": [
    "# Импорт"
   ],
   "metadata": {
    "collapsed": false
   }
  },
  {
   "cell_type": "code",
   "execution_count": null,
   "outputs": [],
   "source": [
    "import os\n",
    "\n",
    "import matplotlib.pyplot as plt\n",
    "import numpy as np\n",
    "import PIL.Image as Image\n",
    "\n",
    "import torch\n",
    "import torch.nn as nn\n",
    "from torch.utils.data import DataLoader\n",
    "import torchvision.transforms as transforms\n",
    "from LookGenerator.networks.losses import WassersteinLoss, GradientPenalty\n",
    "from LookGenerator.datasets.refinement_dataset import RefinementGANDataset\n",
    "from LookGenerator.networks.trainer import WGANGPTrainer\n",
    "from LookGenerator.networks.refinement import RefinementGenerator, RefinementDiscriminator\n",
    "from LookGenerator.networks_training.utils import check_path_and_creat\n",
    "import LookGenerator.datasets.transforms as custom_transforms"
   ],
   "metadata": {
    "collapsed": false
   }
  },
  {
   "cell_type": "markdown",
   "source": [
    "# Загрузка данных"
   ],
   "metadata": {
    "collapsed": false
   }
  },
  {
   "cell_type": "code",
   "execution_count": null,
   "outputs": [],
   "source": [
    "transform_restored = transforms.Compose([\n",
    "    transforms.Resize((256, 192)),\n",
    "    custom_transforms.MinMaxScale()\n",
    "])\n",
    "\n",
    "transform_real = transforms.Compose([\n",
    "    transforms.Resize((256, 192)),\n",
    "    custom_transforms.MinMaxScale()\n",
    "])"
   ],
   "metadata": {
    "collapsed": false
   }
  },
  {
   "cell_type": "code",
   "execution_count": null,
   "outputs": [],
   "source": [
    "batch_size_train = 32\n",
    "pin_memory = True\n",
    "num_workers = 0"
   ],
   "metadata": {
    "collapsed": false
   }
  },
  {
   "cell_type": "code",
   "execution_count": null,
   "outputs": [],
   "source": [
    "train_dataset = RefinementGANDataset(\n",
    "    restored_images_dir=r\"\",\n",
    "    real_images_dir=r\"\",\n",
    "    transform_restored_images=transform_restored,\n",
    "    transform_real_images=transform_real\n",
    ")"
   ],
   "metadata": {
    "collapsed": false
   }
  },
  {
   "cell_type": "code",
   "execution_count": null,
   "outputs": [],
   "source": [
    "train_dataloader = DataLoader(\n",
    "    train_dataset, batch_size=batch_size_train, shuffle=True, pin_memory=pin_memory, num_workers=num_workers\n",
    ")"
   ],
   "metadata": {
    "collapsed": false
   }
  },
  {
   "cell_type": "markdown",
   "source": [
    "# Обучение модели"
   ],
   "metadata": {
    "collapsed": false
   }
  },
  {
   "cell_type": "code",
   "execution_count": null,
   "outputs": [],
   "source": [
    "generator = RefinementGenerator()\n",
    "discriminator = RefinementDiscriminator()\n",
    "\n",
    "optimizer_generator = torch.optim.Adam(generator.parameters(), lr=5e-5)\n",
    "optimizer_discriminator = torch.optim.Adam(discriminator.parameters(), lr=5e-5)\n",
    "\n",
    "device = 'cuda' if torch.cuda.is_available() else 'cpu'\n",
    "\n",
    "criterion_generator = WassersteinLoss()\n",
    "criterion_discriminator = WassersteinLoss()\n",
    "gradient_penalty = GradientPenalty(discriminator, device=device)\n",
    "\n",
    "print(device)"
   ],
   "metadata": {
    "collapsed": false
   }
  },
  {
   "cell_type": "code",
   "execution_count": null,
   "outputs": [],
   "source": [
    "save_directory_generator=r\"\"\n",
    "save_directory_discriminator=r\"\"\n",
    "check_path_and_creat(save_directory_generator)\n",
    "check_path_and_creat(save_directory_discriminator)\n"
   ],
   "metadata": {
    "collapsed": false
   }
  },
  {
   "cell_type": "code",
   "execution_count": null,
   "outputs": [],
   "source": [
    "torch.backends.cuda.matmul.allow_tf32 = False\n",
    "torch.backends.cudnn.benchmark = True"
   ],
   "metadata": {
    "collapsed": false
   }
  },
  {
   "cell_type": "code",
   "execution_count": null,
   "outputs": [],
   "source": [
    "trainer = WGANGPTrainer(\n",
    "    generator=generator,\n",
    "    discriminator=discriminator,\n",
    "    optimizer_generator=optimizer_generator,\n",
    "    optimizer_discriminator=optimizer_discriminator,\n",
    "    criterion_generator=criterion_generator,\n",
    "    criterion_discriminator=criterion_discriminator,\n",
    "    gradient_penalty=gradient_penalty,\n",
    "    gp_weight=0.2,\n",
    "    save_step=1,\n",
    "    save_directory_discriminator=save_directory_discriminator,\n",
    "    save_directory_generator=save_directory_generator,\n",
    "    device=device,\n",
    "    verbose=True\n",
    ")"
   ],
   "metadata": {
    "collapsed": false
   }
  },
  {
   "cell_type": "code",
   "execution_count": null,
   "outputs": [],
   "source": [
    "trainer.train(train_dataloader, epoch_num=5)"
   ],
   "metadata": {
    "collapsed": false
   }
  },
  {
   "cell_type": "code",
   "execution_count": null,
   "outputs": [],
   "source": [],
   "metadata": {
    "collapsed": false
   }
  }
 ],
 "metadata": {
  "kernelspec": {
   "display_name": "Python 3",
   "language": "python",
   "name": "python3"
  },
  "language_info": {
   "codemirror_mode": {
    "name": "ipython",
    "version": 2
   },
   "file_extension": ".py",
   "mimetype": "text/x-python",
   "name": "python",
   "nbconvert_exporter": "python",
   "pygments_lexer": "ipython2",
   "version": "2.7.6"
  }
 },
 "nbformat": 4,
 "nbformat_minor": 0
}
