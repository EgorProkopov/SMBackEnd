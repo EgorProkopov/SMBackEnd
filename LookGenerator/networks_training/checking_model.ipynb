{
 "cells": [
  {
   "cell_type": "markdown",
   "source": [
    "# По многочиленным просьбам ленивых"
   ],
   "metadata": {
    "collapsed": false
   }
  },
  {
   "cell_type": "code",
   "execution_count": 1,
   "metadata": {
    "collapsed": true
   },
   "outputs": [],
   "source": [
    "import os\n",
    "import PIL.Image as Image\n",
    "import matplotlib.pyplot as plt\n",
    "import numpy as np\n",
    "import torchvision.transforms as transforms\n",
    "\n",
    "from LookGenerator.networks.segmentation import UNet, train_unet\n",
    "from LookGenerator.networks.utils import load_model\n",
    "import LookGenerator.datasets.transforms as custom_transforms\n"
   ]
  },
  {
   "cell_type": "code",
   "execution_count": 2,
   "outputs": [],
   "source": [
    "model = UNet(in_channels=3, out_channels = 15)\n",
    "transform_input = transforms.Compose([\n",
    "    transforms.Resize((256, 192)),\n",
    "    transforms.Normalize(\n",
    "        mean=[0.5, 0.5, 0.5],\n",
    "        std=[0.25, 0.25, 0.25]\n",
    "    )\n",
    "])\n",
    "\n",
    "transform_output = transforms.Compose([\n",
    "    transforms.Resize((256, 192)),\n",
    "    custom_transforms.MinMaxScale(),\n",
    "    custom_transforms.ThresholdTransform(threshold=0.5)\n",
    "])\n"
   ],
   "metadata": {
    "collapsed": false
   }
  },
  {
   "cell_type": "code",
   "execution_count": null,
   "outputs": [],
   "source": [
    "topil = transforms.ToPILImage()\n",
    "totensor = transforms.ToTensor()"
   ],
   "metadata": {
    "collapsed": false
   }
  },
  {
   "cell_type": "code",
   "execution_count": 3,
   "outputs": [],
   "source": [
    "image = Image.open(r\"C:\\Users\\DenisovDmitrii\\Desktop\\valData\\image\\00006_00.jpg\")\n",
    "img_model = topil(image)\n",
    "img_model.unsqueeze(0)\n",
    "img_model = transform_input(img_model)"
   ],
   "metadata": {
    "collapsed": false
   }
  },
  {
   "cell_type": "code",
   "execution_count": null,
   "outputs": [],
   "source": [
    "url = r'C:\\Users\\DenisovDmitrii\\Desktop\\segmentation_weits\\session36'\n",
    "list_files = os.listdir(url)\n",
    "for file in list_files:\n",
    "    model = load_model(model,\n",
    "                       url + \"\\\\\" + file)\n",
    "    model.eval()\n",
    "    modelled = model(img_model)\n",
    "    modelled.squeeze(0)\n",
    "\n",
    "    # plotting\n",
    "\n",
    "    fig, axes = plt.subplots(2, 8)\n",
    "\n",
    "    for i in range(0, 7):\n",
    "        mask = modelled[i]\n",
    "        mask = topil(mask)\n",
    "        mask = np.array(mask)\n",
    "\n",
    "        axes[0,i].imshow(mask)\n",
    "\n",
    "    for i in range(8, 16):\n",
    "        mask = modelled[i]\n",
    "        mask = topil(mask)\n",
    "        mask = np.array(mask)\n",
    "\n",
    "        axes[1, i // 8].imshow(mask)\n",
    "\n"
   ],
   "metadata": {
    "collapsed": false,
    "pycharm": {
     "is_executing": true
    }
   }
  },
  {
   "cell_type": "code",
   "execution_count": null,
   "outputs": [],
   "source": [
    "list_files"
   ],
   "metadata": {
    "collapsed": false,
    "pycharm": {
     "is_executing": true
    }
   }
  },
  {
   "cell_type": "code",
   "execution_count": 16,
   "outputs": [],
   "source": [],
   "metadata": {
    "collapsed": false
   }
  }
 ],
 "metadata": {
  "kernelspec": {
   "display_name": "Python 3",
   "language": "python",
   "name": "python3"
  },
  "language_info": {
   "codemirror_mode": {
    "name": "ipython",
    "version": 2
   },
   "file_extension": ".py",
   "mimetype": "text/x-python",
   "name": "python",
   "nbconvert_exporter": "python",
   "pygments_lexer": "ipython2",
   "version": "2.7.6"
  }
 },
 "nbformat": 4,
 "nbformat_minor": 0
}
