{
 "cells": [
  {
   "cell_type": "markdown",
   "source": [
    "# По многочиленным просьбам ленивых"
   ],
   "metadata": {
    "collapsed": false
   }
  },
  {
   "cell_type": "code",
   "execution_count": 1,
   "metadata": {
    "collapsed": true,
    "ExecuteTime": {
     "end_time": "2023-06-02T10:17:11.010975800Z",
     "start_time": "2023-06-02T10:17:09.603747600Z"
    }
   },
   "outputs": [],
   "source": [
    "import os\n",
    "import PIL.Image as Image\n",
    "import matplotlib.pyplot as plt\n",
    "import numpy as np\n",
    "import torchvision.transforms as transforms\n",
    "\n",
    "from LookGenerator.networks.segmentation import UNet, train_unet\n",
    "from LookGenerator.networks.utils import load_model\n",
    "import LookGenerator.datasets.transforms as custom_transforms\n"
   ]
  },
  {
   "cell_type": "code",
   "execution_count": 7,
   "outputs": [],
   "source": [
    "model = UNet(in_channels=3, out_channels = 12, features=(16, 32, 64, 128, 256, 512))\n",
    "transform_input = transforms.Compose([\n",
    "    transforms.Resize((256, 192)),\n",
    "    transforms.Normalize(\n",
    "        mean=[0.5, 0.5, 0.5],\n",
    "        std=[0.25, 0.25, 0.25]\n",
    "    )\n",
    "])\n",
    "\n",
    "transform_output = transforms.Compose([\n",
    "    transforms.Resize((256, 192)),\n",
    "    custom_transforms.MinMaxScale(),\n",
    "    custom_transforms.ThresholdTransform(threshold=0.5)\n",
    "])\n"
   ],
   "metadata": {
    "collapsed": false,
    "ExecuteTime": {
     "end_time": "2023-06-02T10:17:48.086090600Z",
     "start_time": "2023-06-02T10:17:47.951873700Z"
    }
   }
  },
  {
   "cell_type": "code",
   "execution_count": 8,
   "outputs": [],
   "source": [
    "topil = transforms.ToPILImage()\n",
    "totensor = transforms.ToTensor()"
   ],
   "metadata": {
    "collapsed": false,
    "ExecuteTime": {
     "end_time": "2023-06-02T10:17:48.591668900Z",
     "start_time": "2023-06-02T10:17:48.587154200Z"
    }
   }
  },
  {
   "cell_type": "code",
   "execution_count": 53,
   "outputs": [
    {
     "name": "stderr",
     "output_type": "stream",
     "text": [
      "C:\\Users\\DenisovDmitrii\\AppData\\Local\\Programs\\Python\\Python311\\Lib\\site-packages\\torchvision\\transforms\\functional.py:1603: UserWarning: The default value of the antialias parameter of all the resizing transforms (Resize(), RandomResizedCrop(), etc.) will change from None to True in v0.17, in order to be consistent across the PIL and Tensor backends. To suppress this warning, directly pass antialias=True (recommended, future default), antialias=None (current default, which means False for Tensors and True for PIL), or antialias=False (only works on Tensors - PIL will still use antialiasing). This also applies if you are using the inference transforms from the models weights: update the call to weights.transforms(antialias=True).\n",
      "  warnings.warn(\n"
     ]
    }
   ],
   "source": [
    "image = Image.open(r\"C:\\Users\\DenisovDmitrii\\Desktop\\12channels\\valData\\image_2023-05-31_13-07-55.png\")\n",
    "img_model = transforms.ToTensor()(image)\n",
    "img_model = img_model.unsqueeze(0)\n",
    "img_model = transform_input(img_model)"
   ],
   "metadata": {
    "collapsed": false,
    "ExecuteTime": {
     "end_time": "2023-06-02T10:35:20.373660200Z",
     "start_time": "2023-06-02T10:35:20.360389Z"
    }
   }
  },
  {
   "cell_type": "code",
   "execution_count": 54,
   "outputs": [
    {
     "name": "stdout",
     "output_type": "stream",
     "text": [
      "torch.Size([1, 3, 256, 192])\n"
     ]
    },
    {
     "data": {
      "text/plain": "<Figure size 640x480 with 16 Axes>",
      "image/png": "[encoded data removed]"
     },
     "metadata": {},
     "output_type": "display_data"
    }
   ],
   "source": [
    "url = r'C:\\Users\\DenisovDmitrii\\OneDrive - ITMO UNIVERSITY\\peopleDetector\\segmentationMulty\\weights\\testMulty_out_12_6features'\n",
    "list_files = os.listdir(url)\n",
    "print(img_model.shape)\n",
    "for file in list_files[29:]:\n",
    "    model = load_model(model,\n",
    "                       url + \"\\\\\" + file)\n",
    "    model.eval()\n",
    "    modelled = model(img_model)\n",
    "    modelled = transform_output(modelled)\n",
    "    modelled = modelled.squeeze(0)\n",
    "\n",
    "    # plotting\n",
    "\n",
    "    fig, axes = plt.subplots(2, 8)\n",
    "\n",
    "    for i in range(0, 8):\n",
    "        mask = modelled[i]\n",
    "        mask = topil(mask)\n",
    "        mask = np.array(mask)\n",
    "\n",
    "        axes[0,i].imshow(mask, cmap='gray')\n",
    "\n",
    "    for i in range(8, 12):\n",
    "        mask = modelled[i]\n",
    "        mask = topil(mask)\n",
    "        mask = np.array(mask)\n",
    "\n",
    "        axes[1, i % 8].imshow(mask, cmap='gray')\n",
    "\n",
    "plt.show()"
   ],
   "metadata": {
    "collapsed": false,
    "pycharm": {
     "is_executing": true
    },
    "ExecuteTime": {
     "end_time": "2023-06-02T10:35:21.103609200Z",
     "start_time": "2023-06-02T10:35:20.550519800Z"
    }
   }
  },
  {
   "cell_type": "code",
   "execution_count": 6,
   "outputs": [
    {
     "data": {
      "text/plain": "['epoch_000.pt',\n 'epoch_01.pt',\n 'epoch_02.pt',\n 'epoch_03.pt',\n 'epoch_04.pt',\n 'epoch_05.pt',\n 'epoch_06.pt',\n 'epoch_07.pt',\n 'epoch_08.pt',\n 'epoch_09.pt',\n 'epoch_10.pt',\n 'epoch_11.pt',\n 'epoch_12.pt',\n 'epoch_13.pt',\n 'epoch_14.pt',\n 'epoch_15.pt',\n 'epoch_16.pt',\n 'epoch_17.pt',\n 'epoch_18.pt',\n 'epoch_19.pt',\n 'epoch_20.pt',\n 'epoch_21.pt',\n 'epoch_22.pt',\n 'epoch_23.pt',\n 'epoch_24.pt',\n 'epoch_25.pt',\n 'epoch_26.pt',\n 'epoch_27.pt',\n 'epoch_28.pt',\n 'epoch_29.pt']"
     },
     "execution_count": 6,
     "metadata": {},
     "output_type": "execute_result"
    }
   ],
   "source": [
    "list_files"
   ],
   "metadata": {
    "collapsed": false,
    "pycharm": {
     "is_executing": true
    },
    "ExecuteTime": {
     "end_time": "2023-05-26T22:19:58.697334200Z",
     "start_time": "2023-05-26T22:19:58.693615500Z"
    }
   }
  },
  {
   "cell_type": "code",
   "execution_count": 16,
   "outputs": [],
   "source": [],
   "metadata": {
    "collapsed": false
   }
  }
 ],
 "metadata": {
  "kernelspec": {
   "display_name": "Python 3",
   "language": "python",
   "name": "python3"
  },
  "language_info": {
   "codemirror_mode": {
    "name": "ipython",
    "version": 2
   },
   "file_extension": ".py",
   "mimetype": "text/x-python",
   "name": "python",
   "nbconvert_exporter": "python",
   "pygments_lexer": "ipython2",
   "version": "2.7.6"
  }
 },
 "nbformat": 4,
 "nbformat_minor": 0
}
