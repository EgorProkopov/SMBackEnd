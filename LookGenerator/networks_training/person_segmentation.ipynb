{
 "cells": [
  {
   "cell_type": "markdown",
   "metadata": {
    "collapsed": false
   },
   "source": [
    "# Импорт"
   ]
  },
  {
   "cell_type": "code",
   "execution_count": 1,
   "metadata": {
    "collapsed": true,
    "ExecuteTime": {
     "end_time": "2023-05-27T16:37:59.469743800Z",
     "start_time": "2023-05-27T16:37:57.923155100Z"
    }
   },
   "outputs": [],
   "source": [
    "import os\n",
    "\n",
    "import matplotlib.pyplot as plt\n",
    "import numpy as np\n",
    "import PIL.Image as Image\n",
    "\n",
    "import torch\n",
    "from torch.utils.data import DataLoader\n",
    "import torchvision.transforms as transforms\n",
    "\n",
    "from LookGenerator.datasets.utils import load_image\n",
    "from LookGenerator.datasets.person_segmentation_dataset import PersonSegmentationDataset, PersonSegmentationDatasetMultichannel\n",
    "from LookGenerator.networks.segmentation import UNet\n",
    "from LookGenerator.networks.trainer import Trainer\n",
    "from LookGenerator.networks.losses import FocalLossMulti\n",
    "from LookGenerator.networks.utils import load_model\n",
    "import LookGenerator.datasets.transforms as custom_transforms\n",
    "from LookGenerator.networks_training.utils import check_path_and_creat"
   ]
  },
  {
   "cell_type": "markdown",
   "metadata": {
    "collapsed": false
   },
   "source": [
    "# Загрузка данных"
   ]
  },
  {
   "cell_type": "code",
   "execution_count": 2,
   "metadata": {
    "collapsed": false,
    "ExecuteTime": {
     "end_time": "2023-05-27T16:37:59.473561Z",
     "start_time": "2023-05-27T16:37:59.472528100Z"
    }
   },
   "outputs": [],
   "source": [
    "transform_input = transforms.Compose([\n",
    "    transforms.Resize((256, 192)),\n",
    "    transforms.RandomAffine(scale=(0.8, 1), degrees=(-90,90), fill = 0.9),\n",
    "    transforms.ColorJitter(brightness=(0.5, 1), contrast=(0.4,1),  hue=(0, 0.3)),\n",
    "    transforms.Normalize(\n",
    "        mean=[0.5, 0.5, 0.5],\n",
    "        std=[0.25, 0.25, 0.25]\n",
    "    )\n",
    "])\n",
    "\n",
    "transform_output = transforms.Compose([\n",
    "    transforms.Resize((256, 192)),\n",
    "    transforms.RandomAffine(scale=(0.8, 1), degrees=(-90,90), fill = 0),\n",
    "    custom_transforms.MinMaxScale(),\n",
    "    custom_transforms.ThresholdTransform(threshold=0.5)\n",
    "])"
   ]
  },
  {
   "cell_type": "code",
   "execution_count": 3,
   "metadata": {
    "collapsed": false,
    "ExecuteTime": {
     "end_time": "2023-05-27T16:37:59.482584Z",
     "start_time": "2023-05-27T16:37:59.474556300Z"
    }
   },
   "outputs": [],
   "source": [
    "batch_size_train = 32\n",
    "batch_size_val = 16\n",
    "pin_memory = True\n",
    "num_workers = 12"
   ]
  },
  {
   "cell_type": "code",
   "execution_count": 4,
   "metadata": {
    "collapsed": false,
    "ExecuteTime": {
     "end_time": "2023-05-27T16:37:59.501008200Z",
     "start_time": "2023-05-27T16:37:59.481990100Z"
    }
   },
   "outputs": [
    {
     "data": {
      "text/plain": "(11647, 364)"
     },
     "execution_count": 4,
     "metadata": {},
     "output_type": "execute_result"
    }
   ],
   "source": [
    "train_dataset = PersonSegmentationDatasetMultichannel(r'C:\\Users\\DenisovDmitrii\\Desktop\\trainData',\n",
    "    #r\"C:\\Users\\DenisovDmitrii\\Desktop\\trainData\",\n",
    "                                                      transform_input=transform_input,\n",
    "                                                      transform_output=transform_output)\n",
    "train_dataloader = DataLoader(train_dataset, batch_size=batch_size_train, shuffle=True, pin_memory=pin_memory, num_workers=num_workers)\n",
    "(len(train_dataset), len(train_dataloader))"
   ]
  },
  {
   "cell_type": "code",
   "execution_count": 5,
   "metadata": {
    "collapsed": false,
    "ExecuteTime": {
     "end_time": "2023-05-27T16:37:59.503514300Z",
     "start_time": "2023-05-27T16:37:59.497317Z"
    }
   },
   "outputs": [
    {
     "data": {
      "text/plain": "(2032, 127)"
     },
     "execution_count": 5,
     "metadata": {},
     "output_type": "execute_result"
    }
   ],
   "source": [
    "val_dataset = PersonSegmentationDatasetMultichannel(r'C:\\Users\\DenisovDmitrii\\Desktop\\valData',\n",
    "    #r\"C:\\Users\\DenisovDmitrii\\Desktop\\trainData\",\n",
    "                                                      transform_input=transform_input,\n",
    "                                                      transform_output=transform_output\n",
    "                                                    )#r\"C:\\Users\\DenisovDmitrii\\Desktop\\valData\")\n",
    "val_dataloader = DataLoader(val_dataset, batch_size=batch_size_val, shuffle=False, pin_memory=pin_memory, num_workers=num_workers)\n",
    "(len(val_dataset), len(val_dataloader))"
   ]
  },
  {
   "cell_type": "markdown",
   "source": [
    "Test load train_dataloader. and val."
   ],
   "metadata": {
    "collapsed": false
   }
  },
  {
   "cell_type": "code",
   "execution_count": null,
   "metadata": {
    "collapsed": false
   },
   "outputs": [],
   "source": [
    "for X, y in train_dataloader:\n",
    "    print(X.shape)\n",
    "    print(y.shape)\n",
    "    print(X.requires_grad)\n",
    "    X = transforms.ToPILImage() (X[0])\n",
    "    X = np.array(X)\n",
    "    plt.imshow(X)\n",
    "    plt.show()\n",
    "    y = transforms.ToPILImage()(y[0,11])\n",
    "    y = np.array(y)\n",
    "    plt.imshow(y, cmap='binary')\n",
    "    plt.show()\n",
    "\n",
    "    break"
   ]
  },
  {
   "cell_type": "markdown",
   "metadata": {
    "collapsed": false
   },
   "source": [
    "# Обучение модели"
   ]
  },
  {
   "cell_type": "code",
   "execution_count": null,
   "outputs": [],
   "source": [
    "for X, y in val_dataloader:\n",
    "    print(X.shape)\n",
    "    print(y.shape)\n",
    "    print(X.requires_grad)\n",
    "    X = transforms.ToPILImage() (X[0])\n",
    "    X = np.array(X)\n",
    "    plt.imshow(X)\n",
    "    plt.show()\n",
    "    y = transforms.ToPILImage()(y[0,11])\n",
    "    y = np.array(y)\n",
    "    plt.imshow(y, cmap='binary')\n",
    "    plt.show()\n",
    "\n",
    "    break"
   ],
   "metadata": {
    "collapsed": false
   }
  },
  {
   "cell_type": "markdown",
   "metadata": {
    "collapsed": false
   },
   "source": [
    "Метки классов на изображении:\n",
    "\n",
    "1. Левое лицо                       248,251,14\n",
    "2. Правое лицо                      251,235,25\n",
    "3. Туловище                         20,80,194\n",
    "4. Внешняя верхняя левая рука       190,189,96\n",
    "5. Внешняя верхняя правая рука      215,187,88\n",
    "6. Внешняя нижняя левая рука        252,206,48\n",
    "7. Внешняя нижняя правая рука       250,220,36\n",
    "8. Внутренняя верхняя левая рука    145,191,116\n",
    "9. Внутренняя верхняя правая рука   170,190,105\n",
    "10. Внетренняя нижняя левая рука     228,191,74\n",
    "11. Внутренняя нижняя правая рука    240,198,60\n",
    "12. Левая кисть                      8,110,221\n",
    "13. Правая кисть                     4,98,224\n",
    "14. Левая нога                       22,173,184\n",
    "15. Правая нога                      6,166,198"
   ]
  },
  {
   "cell_type": "code",
   "execution_count": 8,
   "metadata": {
    "collapsed": false,
    "ExecuteTime": {
     "end_time": "2023-05-27T16:38:37.385989600Z",
     "start_time": "2023-05-27T16:38:37.173268200Z"
    }
   },
   "outputs": [
    {
     "name": "stdout",
     "output_type": "stream",
     "text": [
      "cuda\n"
     ]
    }
   ],
   "source": [
    "model = UNet(in_channels=3, out_channels = 15, features=(64, 128, 256, 512, 1024))\n",
    "#model = load_model(model, r'C:\\Users\\DenisovDmitrii\\Desktop\\segmentation_weits\\session12\\asd.pt')\n",
    "optimizer = torch.optim.Adam(model.parameters(), lr = 1e-3)\n",
    "device = 'cuda' if torch.cuda.is_available() else 'cpu'\n",
    "criterion = FocalLossMulti(device=device)\n",
    "print(device)"
   ]
  },
  {
   "cell_type": "code",
   "execution_count": 9,
   "outputs": [
    {
     "data": {
      "text/plain": "True"
     },
     "execution_count": 9,
     "metadata": {},
     "output_type": "execute_result"
    }
   ],
   "source": [
    "save_directory = r'C:\\Users\\DenisovDmitrii\\OneDrive - ITMO UNIVERSITY\\peopleDetector\\segmentationMulty\\weights\\testMulty_64_128_256_512_1024'\n",
    "check_path_and_creat(save_directory)"
   ],
   "metadata": {
    "collapsed": false,
    "ExecuteTime": {
     "end_time": "2023-05-27T16:38:37.388409200Z",
     "start_time": "2023-05-27T16:38:37.384985600Z"
    }
   }
  },
  {
   "cell_type": "code",
   "execution_count": 10,
   "outputs": [],
   "source": [
    "torch.backends.cuda.matmul.allow_tf32 = False\n",
    "torch.backends.cudnn.benchmark = True"
   ],
   "metadata": {
    "collapsed": false,
    "ExecuteTime": {
     "end_time": "2023-05-27T16:38:37.393417400Z",
     "start_time": "2023-05-27T16:38:37.388409200Z"
    }
   }
  },
  {
   "cell_type": "code",
   "execution_count": 11,
   "outputs": [],
   "source": [
    "trainer = Trainer(\n",
    "    model_=model, optimizer=optimizer, criterion=criterion,\n",
    "    device=device, save_directory=save_directory, save_step=1, verbose=True\n",
    ")"
   ],
   "metadata": {
    "collapsed": false,
    "ExecuteTime": {
     "end_time": "2023-05-27T16:38:37.399637300Z",
     "start_time": "2023-05-27T16:38:37.394416900Z"
    }
   }
  },
  {
   "cell_type": "code",
   "execution_count": 12,
   "outputs": [],
   "source": [
    "epoch_num=30"
   ],
   "metadata": {
    "collapsed": false,
    "ExecuteTime": {
     "end_time": "2023-05-27T16:38:37.405807900Z",
     "start_time": "2023-05-27T16:38:37.400634Z"
    }
   }
  },
  {
   "cell_type": "code",
   "execution_count": null,
   "outputs": [],
   "source": [
    "trainer.train(train_dataloader=train_dataloader, val_dataloader=val_dataloader, epoch_num=epoch_num)"
   ],
   "metadata": {
    "collapsed": false
   }
  },
  {
   "cell_type": "code",
   "execution_count": 14,
   "outputs": [
    {
     "data": {
      "text/plain": "<Figure size 640x480 with 1 Axes>",
      "image/png": "[encoded data removed]"
     },
     "metadata": {},
     "output_type": "display_data"
    }
   ],
   "source": [
    "trainer.draw_history_plots()"
   ],
   "metadata": {
    "collapsed": false,
    "ExecuteTime": {
     "end_time": "2023-05-27T19:05:20.049601900Z",
     "start_time": "2023-05-27T19:05:19.969536800Z"
    }
   }
  },
  {
   "cell_type": "code",
   "execution_count": 15,
   "outputs": [
    {
     "name": "stdout",
     "output_type": "stream",
     "text": [
      "----------------------------------------------------------------\n",
      "        Layer (type)               Output Shape         Param #\n",
      "================================================================\n",
      "            Conv2d-1         [-1, 64, 256, 192]           1,792\n",
      "       BatchNorm2d-2         [-1, 64, 256, 192]             128\n",
      "         LeakyReLU-3         [-1, 64, 256, 192]               0\n",
      "         LeakyReLU-4         [-1, 64, 256, 192]               0\n",
      "           Conv3x3-5         [-1, 64, 256, 192]               0\n",
      "            Conv2d-6         [-1, 64, 256, 192]          36,928\n",
      "       BatchNorm2d-7         [-1, 64, 256, 192]             128\n",
      "           Conv3x3-8         [-1, 64, 256, 192]               0\n",
      "         LeakyReLU-9         [-1, 64, 256, 192]               0\n",
      "        LeakyReLU-10         [-1, 64, 256, 192]               0\n",
      "          Conv5x5-11         [-1, 64, 256, 192]               0\n",
      "        MaxPool2d-12          [-1, 64, 128, 96]               0\n",
      "           Conv2d-13         [-1, 128, 128, 96]          73,856\n",
      "      BatchNorm2d-14         [-1, 128, 128, 96]             256\n",
      "        LeakyReLU-15         [-1, 128, 128, 96]               0\n",
      "        LeakyReLU-16         [-1, 128, 128, 96]               0\n",
      "          Conv3x3-17         [-1, 128, 128, 96]               0\n",
      "           Conv2d-18         [-1, 128, 128, 96]         147,584\n",
      "      BatchNorm2d-19         [-1, 128, 128, 96]             256\n",
      "          Conv3x3-20         [-1, 128, 128, 96]               0\n",
      "        LeakyReLU-21         [-1, 128, 128, 96]               0\n",
      "        LeakyReLU-22         [-1, 128, 128, 96]               0\n",
      "          Conv5x5-23         [-1, 128, 128, 96]               0\n",
      "        MaxPool2d-24          [-1, 128, 64, 48]               0\n",
      "           Conv2d-25          [-1, 256, 64, 48]         295,168\n",
      "      BatchNorm2d-26          [-1, 256, 64, 48]             512\n",
      "        LeakyReLU-27          [-1, 256, 64, 48]               0\n",
      "        LeakyReLU-28          [-1, 256, 64, 48]               0\n",
      "          Conv3x3-29          [-1, 256, 64, 48]               0\n",
      "           Conv2d-30          [-1, 256, 64, 48]         590,080\n",
      "      BatchNorm2d-31          [-1, 256, 64, 48]             512\n",
      "          Conv3x3-32          [-1, 256, 64, 48]               0\n",
      "        LeakyReLU-33          [-1, 256, 64, 48]               0\n",
      "        LeakyReLU-34          [-1, 256, 64, 48]               0\n",
      "          Conv5x5-35          [-1, 256, 64, 48]               0\n",
      "        MaxPool2d-36          [-1, 256, 32, 24]               0\n",
      "           Conv2d-37          [-1, 512, 32, 24]       1,180,160\n",
      "      BatchNorm2d-38          [-1, 512, 32, 24]           1,024\n",
      "        LeakyReLU-39          [-1, 512, 32, 24]               0\n",
      "        LeakyReLU-40          [-1, 512, 32, 24]               0\n",
      "          Conv3x3-41          [-1, 512, 32, 24]               0\n",
      "           Conv2d-42          [-1, 512, 32, 24]       2,359,808\n",
      "      BatchNorm2d-43          [-1, 512, 32, 24]           1,024\n",
      "          Conv3x3-44          [-1, 512, 32, 24]               0\n",
      "        LeakyReLU-45          [-1, 512, 32, 24]               0\n",
      "        LeakyReLU-46          [-1, 512, 32, 24]               0\n",
      "          Conv5x5-47          [-1, 512, 32, 24]               0\n",
      "        MaxPool2d-48          [-1, 512, 16, 12]               0\n",
      "           Conv2d-49         [-1, 1024, 16, 12]       4,719,616\n",
      "      BatchNorm2d-50         [-1, 1024, 16, 12]           2,048\n",
      "        LeakyReLU-51         [-1, 1024, 16, 12]               0\n",
      "        LeakyReLU-52         [-1, 1024, 16, 12]               0\n",
      "          Conv3x3-53         [-1, 1024, 16, 12]               0\n",
      "           Conv2d-54         [-1, 1024, 16, 12]       9,438,208\n",
      "      BatchNorm2d-55         [-1, 1024, 16, 12]           2,048\n",
      "          Conv3x3-56         [-1, 1024, 16, 12]               0\n",
      "        LeakyReLU-57         [-1, 1024, 16, 12]               0\n",
      "        LeakyReLU-58         [-1, 1024, 16, 12]               0\n",
      "          Conv5x5-59         [-1, 1024, 16, 12]               0\n",
      "        MaxPool2d-60           [-1, 1024, 8, 6]               0\n",
      "           Conv2d-61           [-1, 2048, 8, 6]      18,876,416\n",
      "      BatchNorm2d-62           [-1, 2048, 8, 6]           4,096\n",
      "             ReLU-63           [-1, 2048, 8, 6]               0\n",
      "          Conv3x3-64           [-1, 2048, 8, 6]               0\n",
      "  ConvTranspose2d-65         [-1, 1024, 16, 12]       8,389,632\n",
      "           Conv2d-66         [-1, 1024, 16, 12]      18,875,392\n",
      "      BatchNorm2d-67         [-1, 1024, 16, 12]           2,048\n",
      "             ReLU-68         [-1, 1024, 16, 12]               0\n",
      "             ReLU-69         [-1, 1024, 16, 12]               0\n",
      "          Conv3x3-70         [-1, 1024, 16, 12]               0\n",
      "           Conv2d-71         [-1, 1024, 16, 12]       9,438,208\n",
      "      BatchNorm2d-72         [-1, 1024, 16, 12]           2,048\n",
      "          Conv3x3-73         [-1, 1024, 16, 12]               0\n",
      "             ReLU-74         [-1, 1024, 16, 12]               0\n",
      "             ReLU-75         [-1, 1024, 16, 12]               0\n",
      "          Conv5x5-76         [-1, 1024, 16, 12]               0\n",
      "  ConvTranspose2d-77          [-1, 512, 32, 24]       2,097,664\n",
      "           Conv2d-78          [-1, 512, 32, 24]       4,719,104\n",
      "      BatchNorm2d-79          [-1, 512, 32, 24]           1,024\n",
      "             ReLU-80          [-1, 512, 32, 24]               0\n",
      "             ReLU-81          [-1, 512, 32, 24]               0\n",
      "          Conv3x3-82          [-1, 512, 32, 24]               0\n",
      "           Conv2d-83          [-1, 512, 32, 24]       2,359,808\n",
      "      BatchNorm2d-84          [-1, 512, 32, 24]           1,024\n",
      "          Conv3x3-85          [-1, 512, 32, 24]               0\n",
      "             ReLU-86          [-1, 512, 32, 24]               0\n",
      "             ReLU-87          [-1, 512, 32, 24]               0\n",
      "          Conv5x5-88          [-1, 512, 32, 24]               0\n",
      "  ConvTranspose2d-89          [-1, 256, 64, 48]         524,544\n",
      "           Conv2d-90          [-1, 256, 64, 48]       1,179,904\n",
      "      BatchNorm2d-91          [-1, 256, 64, 48]             512\n",
      "             ReLU-92          [-1, 256, 64, 48]               0\n",
      "             ReLU-93          [-1, 256, 64, 48]               0\n",
      "          Conv3x3-94          [-1, 256, 64, 48]               0\n",
      "           Conv2d-95          [-1, 256, 64, 48]         590,080\n",
      "      BatchNorm2d-96          [-1, 256, 64, 48]             512\n",
      "          Conv3x3-97          [-1, 256, 64, 48]               0\n",
      "             ReLU-98          [-1, 256, 64, 48]               0\n",
      "             ReLU-99          [-1, 256, 64, 48]               0\n",
      "         Conv5x5-100          [-1, 256, 64, 48]               0\n",
      " ConvTranspose2d-101         [-1, 128, 128, 96]         131,200\n",
      "          Conv2d-102         [-1, 128, 128, 96]         295,040\n",
      "     BatchNorm2d-103         [-1, 128, 128, 96]             256\n",
      "            ReLU-104         [-1, 128, 128, 96]               0\n",
      "            ReLU-105         [-1, 128, 128, 96]               0\n",
      "         Conv3x3-106         [-1, 128, 128, 96]               0\n",
      "          Conv2d-107         [-1, 128, 128, 96]         147,584\n",
      "     BatchNorm2d-108         [-1, 128, 128, 96]             256\n",
      "         Conv3x3-109         [-1, 128, 128, 96]               0\n",
      "            ReLU-110         [-1, 128, 128, 96]               0\n",
      "            ReLU-111         [-1, 128, 128, 96]               0\n",
      "         Conv5x5-112         [-1, 128, 128, 96]               0\n",
      " ConvTranspose2d-113         [-1, 64, 256, 192]          32,832\n",
      "          Conv2d-114         [-1, 64, 256, 192]          73,792\n",
      "     BatchNorm2d-115         [-1, 64, 256, 192]             128\n",
      "            ReLU-116         [-1, 64, 256, 192]               0\n",
      "            ReLU-117         [-1, 64, 256, 192]               0\n",
      "         Conv3x3-118         [-1, 64, 256, 192]               0\n",
      "          Conv2d-119         [-1, 64, 256, 192]          36,928\n",
      "     BatchNorm2d-120         [-1, 64, 256, 192]             128\n",
      "         Conv3x3-121         [-1, 64, 256, 192]               0\n",
      "            ReLU-122         [-1, 64, 256, 192]               0\n",
      "            ReLU-123         [-1, 64, 256, 192]               0\n",
      "         Conv5x5-124         [-1, 64, 256, 192]               0\n",
      "          Conv2d-125         [-1, 15, 256, 192]             975\n",
      "         Softmax-126         [-1, 15, 256, 192]               0\n",
      "================================================================\n",
      "Total params: 86,632,271\n",
      "Trainable params: 86,632,271\n",
      "Non-trainable params: 0\n",
      "----------------------------------------------------------------\n",
      "Input size (MB): 0.56\n",
      "Forward/backward pass size (MB): 1095.38\n",
      "Params size (MB): 330.48\n",
      "Estimated Total Size (MB): 1426.41\n",
      "----------------------------------------------------------------\n"
     ]
    }
   ],
   "source": [
    "from torchsummary import summary\n",
    "summary(model.to('cuda'), (3, 256, 192))"
   ],
   "metadata": {
    "collapsed": false,
    "ExecuteTime": {
     "end_time": "2023-05-27T19:05:24.475404700Z",
     "start_time": "2023-05-27T19:05:23.474892300Z"
    }
   }
  },
  {
   "cell_type": "code",
   "execution_count": null,
   "outputs": [],
   "source": [
    "model = load_model(model, r'C:\\Users\\Даша\\PycharmProjects\\SMBackEnd\\LookGenerator\\weights\\unet_epoch_0_0.0161572862694324.pt')\n",
    "model.eval()"
   ],
   "metadata": {
    "collapsed": false,
    "pycharm": {
     "is_executing": true
    }
   }
  },
  {
   "cell_type": "code",
   "execution_count": null,
   "outputs": [],
   "source": [
    "test_dir = r\"\"\n",
    "test_folder = \"\"\n",
    "save_masks_dir = r\"\"\n",
    "list_files = os.listdir(test_dir)\n",
    "images = [file.split('.') for file in list_files]"
   ],
   "metadata": {
    "collapsed": false
   }
  },
  {
   "cell_type": "code",
   "execution_count": null,
   "outputs": [],
   "source": [
    "for image in images:\n",
    "    print(image)\n",
    "    img = load_image(test_dir, test_folder, image, '.jpg')\n",
    "    img_to_model = prepare_image_for_model(img, transform_input)\n",
    "    modelled = model(img_to_model)\n",
    "    mask = to_array_from_model_bin(modelled)\n",
    "\n",
    "    plt.figure(figsize=(18, 6))\n",
    "    plt.subplot(1,2,0)\n",
    "    plt.imshow(img)\n",
    "    plt.subplot(1,2,1)\n",
    "    plt.imshow(mask)\n",
    "\n",
    "    Image.fromarray(mask, 'L').save(save_masks_dir + image + '.png')\n"
   ],
   "metadata": {
    "collapsed": false
   }
  }
 ],
 "metadata": {
  "kernelspec": {
   "display_name": "Python 3.8.10 64-bit",
   "language": "python",
   "name": "python3"
  },
  "language_info": {
   "codemirror_mode": {
    "name": "ipython",
    "version": 2
   },
   "file_extension": ".py",
   "mimetype": "text/x-python",
   "name": "python",
   "nbconvert_exporter": "python",
   "pygments_lexer": "ipython2",
   "version": "3.8.10"
  },
  "vscode": {
   "interpreter": {
    "hash": "916dbcbb3f70747c44a77c7bcd40155683ae19c65e1c03b4aa3499c5328201f1"
   }
  }
 },
 "nbformat": 4,
 "nbformat_minor": 0
}
