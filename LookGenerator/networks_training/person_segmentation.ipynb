{
 "cells": [
  {
   "cell_type": "markdown",
   "metadata": {
    "collapsed": false
   },
   "source": [
    "# Импорт"
   ]
  },
  {
   "cell_type": "code",
   "execution_count": 1,
   "metadata": {
    "collapsed": true
   },
   "outputs": [],
   "source": [
    "import matplotlib.pyplot as plt\n",
    "import numpy as np\n",
    "import PIL.Image as Image\n",
    "import torch\n",
    "from torch.utils.data import DataLoader\n",
    "import torchvision.transforms as transforms\n",
    "from LookGenerator.datasets.person_segmantation_dataset import PersonSegmentationDataset, PersonSegmentationDatasetMultichannel\n",
    "from LookGenerator.networks.segmentation import UNet, train_unet\n",
    "from LookGenerator.networks.utils import load_model"
   ]
  },
  {
   "cell_type": "markdown",
   "metadata": {
    "collapsed": false
   },
   "source": [
    "# Загрузка данных"
   ]
  },
  {
   "cell_type": "code",
   "execution_count": 2,
   "metadata": {
    "collapsed": false
   },
   "outputs": [],
   "source": [
    "transform_input = transforms.Compose([\n",
    "    transforms.Resize((192, 256)),\n",
    "    transforms.Normalize(\n",
    "        mean=[0.5, 0.5, 0.5],\n",
    "        std=[0.25, 0.25, 0.25]\n",
    "    )\n",
    "])\n",
    "\n",
    "transform_output = transforms.Compose([\n",
    "    transforms.Resize((192, 256)),\n",
    "    transforms.Normalize(\n",
    "        mean=[0.5],\n",
    "        std=[0.25]\n",
    "    )\n",
    "])"
   ]
  },
  {
   "cell_type": "code",
   "execution_count": 3,
   "metadata": {
    "collapsed": false
   },
   "outputs": [],
   "source": [
    "batch_size_train = 12\n",
    "batch_size_val = 8"
   ]
  },
  {
   "cell_type": "code",
   "execution_count": 4,
   "metadata": {
    "collapsed": false
   },
   "outputs": [
    {
     "data": {
      "text/plain": "270"
     },
     "execution_count": 4,
     "metadata": {},
     "output_type": "execute_result"
    }
   ],
   "source": [
    "train_dataset = PersonSegmentationDatasetMultichannel(\"C:\\\\Users\\\\DenisovDmitrii\\\\Desktop\\\\train\", transform_input=transform_input, transform_mask=transform_output)\n",
    "train_dataloader = DataLoader(train_dataset, batch_size=batch_size_train, shuffle=True)\n",
    "len(train_dataloader)"
   ]
  },
  {
   "cell_type": "code",
   "execution_count": 5,
   "metadata": {
    "collapsed": false
   },
   "outputs": [
    {
     "data": {
      "text/plain": "103"
     },
     "execution_count": 5,
     "metadata": {},
     "output_type": "execute_result"
    }
   ],
   "source": [
    "val_dataset = PersonSegmentationDatasetMultichannel(\"C:\\\\Users\\\\DenisovDmitrii\\\\Desktop\\\\test\", transform_input=transform_input, transform_mask=transform_output)\n",
    "val_dataloader = DataLoader(val_dataset, batch_size=batch_size_val, shuffle=False)\n",
    "len(val_dataloader)"
   ]
  },
  {
   "cell_type": "markdown",
   "source": [
    "Test load train_dataloader. and val."
   ],
   "metadata": {
    "collapsed": false
   }
  },
  {
   "cell_type": "code",
   "execution_count": 6,
   "metadata": {
    "collapsed": false
   },
   "outputs": [
    {
     "name": "stdout",
     "output_type": "stream",
     "text": [
      "torch.Size([12, 3, 192, 256])\n",
      "torch.Size([12, 16, 192, 256])\n"
     ]
    }
   ],
   "source": [
    "for X, y in train_dataloader:\n",
    "    print(X.shape)\n",
    "    print(y.shape)\n",
    "    break"
   ]
  },
  {
   "cell_type": "markdown",
   "metadata": {
    "collapsed": false
   },
   "source": [
    "# Обучение модели"
   ]
  },
  {
   "cell_type": "markdown",
   "metadata": {
    "collapsed": false
   },
   "source": [
    "Метки классов на изображении:\n",
    "\n",
    "1. Левое лицо                       248,251,14\n",
    "2. Правое лицо                      251,235,25\n",
    "3. Туловище                         20,80,194\n",
    "4. Внешняя верхняя левая рука       190,189,96\n",
    "5. Внешняя верхняя правая рука      215,187,88\n",
    "6. Внешняя нижняя левая рука        252,206,48\n",
    "7. Внешняя нижняя правая рука       250,220,36\n",
    "8. Внутренняя верхняя левая рука    145,191,116\n",
    "9. Внутренняя верхняя правая рука   170,190,105\n",
    "10. Внетренняя нижняя левая рука     228,191,74\n",
    "11. Внутренняя нижняя правая рука    240,198,60\n",
    "12. Левая кисть                      8,110,221\n",
    "13. Правая кисть                     4,98,224\n",
    "14. Левая нога                       22,173,184\n",
    "15. Правая нога                      6,166,198"
   ]
  },
  {
   "cell_type": "code",
   "execution_count": 2,
   "metadata": {
    "collapsed": false
   },
   "outputs": [
    {
     "name": "stdout",
     "output_type": "stream",
     "text": [
      "cpu\n"
     ]
    }
   ],
   "source": [
    "model = UNet(in_channels=3, out_channels = 16)\n",
    "optimizer = torch.optim.Adam(model.parameters(), lr = 1e-3)\n",
    "device = 'cuda' if torch.cuda.is_available() else 'cpu'\n",
    "print(device)"
   ]
  },
  {
   "cell_type": "code",
   "execution_count": 8,
   "metadata": {
    "collapsed": false
   },
   "outputs": [
    {
     "name": "stdout",
     "output_type": "stream",
     "text": [
      "Epoch 0 of 9, train loss: 0.004\n",
      "Epoch 0 of 9, val loss: 0.016\n",
      "Epoch 1 of 9, train loss: 0.000\n",
      "Epoch 1 of 9, val loss: 0.028\n",
      "Epoch 2 of 9, train loss: 0.000\n",
      "Epoch 2 of 9, val loss: 0.019\n",
      "Epoch 3 of 9, train loss: 0.000\n",
      "Epoch 3 of 9, val loss: 0.041\n",
      "Epoch 4 of 9, train loss: 0.000\n",
      "Epoch 4 of 9, val loss: 0.025\n",
      "Epoch 5 of 9, train loss: 0.000\n",
      "Epoch 5 of 9, val loss: 0.042\n",
      "Epoch 6 of 9, train loss: 0.000\n",
      "Epoch 6 of 9, val loss: 0.029\n",
      "Epoch 7 of 9, train loss: 0.000\n",
      "Epoch 7 of 9, val loss: 0.027\n",
      "Epoch 8 of 9, train loss: 0.000\n",
      "Epoch 8 of 9, val loss: 0.033\n",
      "Epoch 9 of 9, train loss: 0.000\n",
      "Epoch 9 of 9, val loss: 0.039\n",
      "7209.106112718582\n"
     ]
    }
   ],
   "source": [
    "import time\n",
    "startTime = time.time()\n",
    "\n",
    "train_history, val_history = train_unet(\n",
    "    model,\n",
    "    train_dataloader,\n",
    "    val_dataloader,\n",
    "    optimizer,\n",
    "    device=device,\n",
    "    epoch_num=10,\n",
    "    save_directory=\"C:\\\\Users\\\\DenisovDmitrii\\\\Desktop\\\\segmentation_weits\\\\session5\"\n",
    ")\n",
    "\n",
    "print(time.time() - startTime)\n"
   ]
  },
  {
   "cell_type": "code",
   "execution_count": 3,
   "outputs": [
    {
     "ename": "RuntimeError",
     "evalue": "Error(s) in loading state_dict for UNet:\n\tMissing key(s) in state_dict: \"ups.1.net.0.net.1.weight\", \"ups.1.net.0.net.1.bias\", \"ups.1.net.0.net.1.running_mean\", \"ups.1.net.0.net.1.running_var\", \"ups.1.net.1.net.1.weight\", \"ups.1.net.1.net.1.bias\", \"ups.1.net.1.net.1.running_mean\", \"ups.1.net.1.net.1.running_var\", \"ups.3.net.0.net.1.weight\", \"ups.3.net.0.net.1.bias\", \"ups.3.net.0.net.1.running_mean\", \"ups.3.net.0.net.1.running_var\", \"ups.3.net.1.net.1.weight\", \"ups.3.net.1.net.1.bias\", \"ups.3.net.1.net.1.running_mean\", \"ups.3.net.1.net.1.running_var\", \"ups.5.net.0.net.1.weight\", \"ups.5.net.0.net.1.bias\", \"ups.5.net.0.net.1.running_mean\", \"ups.5.net.0.net.1.running_var\", \"ups.5.net.1.net.1.weight\", \"ups.5.net.1.net.1.bias\", \"ups.5.net.1.net.1.running_mean\", \"ups.5.net.1.net.1.running_var\", \"ups.7.net.0.net.1.weight\", \"ups.7.net.0.net.1.bias\", \"ups.7.net.0.net.1.running_mean\", \"ups.7.net.0.net.1.running_var\", \"ups.7.net.1.net.1.weight\", \"ups.7.net.1.net.1.bias\", \"ups.7.net.1.net.1.running_mean\", \"ups.7.net.1.net.1.running_var\", \"downs.0.net.0.net.1.weight\", \"downs.0.net.0.net.1.bias\", \"downs.0.net.0.net.1.running_mean\", \"downs.0.net.0.net.1.running_var\", \"downs.0.net.1.net.1.weight\", \"downs.0.net.1.net.1.bias\", \"downs.0.net.1.net.1.running_mean\", \"downs.0.net.1.net.1.running_var\", \"downs.1.net.0.net.1.weight\", \"downs.1.net.0.net.1.bias\", \"downs.1.net.0.net.1.running_mean\", \"downs.1.net.0.net.1.running_var\", \"downs.1.net.1.net.1.weight\", \"downs.1.net.1.net.1.bias\", \"downs.1.net.1.net.1.running_mean\", \"downs.1.net.1.net.1.running_var\", \"downs.2.net.0.net.1.weight\", \"downs.2.net.0.net.1.bias\", \"downs.2.net.0.net.1.running_mean\", \"downs.2.net.0.net.1.running_var\", \"downs.2.net.1.net.1.weight\", \"downs.2.net.1.net.1.bias\", \"downs.2.net.1.net.1.running_mean\", \"downs.2.net.1.net.1.running_var\", \"downs.3.net.0.net.1.weight\", \"downs.3.net.0.net.1.bias\", \"downs.3.net.0.net.1.running_mean\", \"downs.3.net.0.net.1.running_var\", \"downs.3.net.1.net.1.weight\", \"downs.3.net.1.net.1.bias\", \"downs.3.net.1.net.1.running_mean\", \"downs.3.net.1.net.1.running_var\", \"bottleneck.net.1.weight\", \"bottleneck.net.1.bias\", \"bottleneck.net.1.running_mean\", \"bottleneck.net.1.running_var\". \n\tUnexpected key(s) in state_dict: \"ups.1.net.0.net.2.weight\", \"ups.1.net.0.net.2.bias\", \"ups.1.net.0.net.2.running_mean\", \"ups.1.net.0.net.2.running_var\", \"ups.1.net.0.net.2.num_batches_tracked\", \"ups.1.net.1.net.2.weight\", \"ups.1.net.1.net.2.bias\", \"ups.1.net.1.net.2.running_mean\", \"ups.1.net.1.net.2.running_var\", \"ups.1.net.1.net.2.num_batches_tracked\", \"ups.3.net.0.net.2.weight\", \"ups.3.net.0.net.2.bias\", \"ups.3.net.0.net.2.running_mean\", \"ups.3.net.0.net.2.running_var\", \"ups.3.net.0.net.2.num_batches_tracked\", \"ups.3.net.1.net.2.weight\", \"ups.3.net.1.net.2.bias\", \"ups.3.net.1.net.2.running_mean\", \"ups.3.net.1.net.2.running_var\", \"ups.3.net.1.net.2.num_batches_tracked\", \"ups.5.net.0.net.2.weight\", \"ups.5.net.0.net.2.bias\", \"ups.5.net.0.net.2.running_mean\", \"ups.5.net.0.net.2.running_var\", \"ups.5.net.0.net.2.num_batches_tracked\", \"ups.5.net.1.net.2.weight\", \"ups.5.net.1.net.2.bias\", \"ups.5.net.1.net.2.running_mean\", \"ups.5.net.1.net.2.running_var\", \"ups.5.net.1.net.2.num_batches_tracked\", \"ups.7.net.0.net.2.weight\", \"ups.7.net.0.net.2.bias\", \"ups.7.net.0.net.2.running_mean\", \"ups.7.net.0.net.2.running_var\", \"ups.7.net.0.net.2.num_batches_tracked\", \"ups.7.net.1.net.2.weight\", \"ups.7.net.1.net.2.bias\", \"ups.7.net.1.net.2.running_mean\", \"ups.7.net.1.net.2.running_var\", \"ups.7.net.1.net.2.num_batches_tracked\", \"downs.0.net.0.net.2.weight\", \"downs.0.net.0.net.2.bias\", \"downs.0.net.0.net.2.running_mean\", \"downs.0.net.0.net.2.running_var\", \"downs.0.net.0.net.2.num_batches_tracked\", \"downs.0.net.1.net.2.weight\", \"downs.0.net.1.net.2.bias\", \"downs.0.net.1.net.2.running_mean\", \"downs.0.net.1.net.2.running_var\", \"downs.0.net.1.net.2.num_batches_tracked\", \"downs.1.net.0.net.2.weight\", \"downs.1.net.0.net.2.bias\", \"downs.1.net.0.net.2.running_mean\", \"downs.1.net.0.net.2.running_var\", \"downs.1.net.0.net.2.num_batches_tracked\", \"downs.1.net.1.net.2.weight\", \"downs.1.net.1.net.2.bias\", \"downs.1.net.1.net.2.running_mean\", \"downs.1.net.1.net.2.running_var\", \"downs.1.net.1.net.2.num_batches_tracked\", \"downs.2.net.0.net.2.weight\", \"downs.2.net.0.net.2.bias\", \"downs.2.net.0.net.2.running_mean\", \"downs.2.net.0.net.2.running_var\", \"downs.2.net.0.net.2.num_batches_tracked\", \"downs.2.net.1.net.2.weight\", \"downs.2.net.1.net.2.bias\", \"downs.2.net.1.net.2.running_mean\", \"downs.2.net.1.net.2.running_var\", \"downs.2.net.1.net.2.num_batches_tracked\", \"downs.3.net.0.net.2.weight\", \"downs.3.net.0.net.2.bias\", \"downs.3.net.0.net.2.running_mean\", \"downs.3.net.0.net.2.running_var\", \"downs.3.net.0.net.2.num_batches_tracked\", \"downs.3.net.1.net.2.weight\", \"downs.3.net.1.net.2.bias\", \"downs.3.net.1.net.2.running_mean\", \"downs.3.net.1.net.2.running_var\", \"downs.3.net.1.net.2.num_batches_tracked\", \"bottleneck.net.2.weight\", \"bottleneck.net.2.bias\", \"bottleneck.net.2.running_mean\", \"bottleneck.net.2.running_var\", \"bottleneck.net.2.num_batches_tracked\". ",
     "output_type": "error",
     "traceback": [
      "\u001B[1;31m---------------------------------------------------------------------------\u001B[0m",
      "\u001B[1;31mRuntimeError\u001B[0m                              Traceback (most recent call last)",
      "Cell \u001B[1;32mIn[3], line 1\u001B[0m\n\u001B[1;32m----> 1\u001B[0m model \u001B[38;5;241m=\u001B[39m \u001B[43mload_model\u001B[49m\u001B[43m(\u001B[49m\u001B[43mmodel\u001B[49m\u001B[43m,\u001B[49m\u001B[43m \u001B[49m\u001B[38;5;124;43mr\u001B[39;49m\u001B[38;5;124;43m'\u001B[39;49m\u001B[38;5;124;43mC:\u001B[39;49m\u001B[38;5;124;43m\\\u001B[39;49m\u001B[38;5;124;43mUsers\u001B[39;49m\u001B[38;5;124;43m\\\u001B[39;49m\u001B[38;5;124;43mДаша\u001B[39;49m\u001B[38;5;124;43m\\\u001B[39;49m\u001B[38;5;124;43mPycharmProjects\u001B[39;49m\u001B[38;5;124;43m\\\u001B[39;49m\u001B[38;5;124;43mSMBackEnd\u001B[39;49m\u001B[38;5;124;43m\\\u001B[39;49m\u001B[38;5;124;43mLookGenerator\u001B[39;49m\u001B[38;5;124;43m\\\u001B[39;49m\u001B[38;5;124;43mweights\u001B[39;49m\u001B[38;5;124;43m\\\u001B[39;49m\u001B[38;5;124;43munet_epoch_0_0.0161572862694324.pt\u001B[39;49m\u001B[38;5;124;43m'\u001B[39;49m\u001B[43m)\u001B[49m\n\u001B[0;32m      2\u001B[0m model\u001B[38;5;241m.\u001B[39meval()\n",
      "File \u001B[1;32m~\\PycharmProjects\\SMBackEnd\\LookGenerator\\networks\\utils.py:12\u001B[0m, in \u001B[0;36mload_model\u001B[1;34m(model, path)\u001B[0m\n\u001B[0;32m     11\u001B[0m \u001B[38;5;28;01mdef\u001B[39;00m \u001B[38;5;21mload_model\u001B[39m(model, path: \u001B[38;5;28mstr\u001B[39m):\n\u001B[1;32m---> 12\u001B[0m     \u001B[43mmodel\u001B[49m\u001B[38;5;241;43m.\u001B[39;49m\u001B[43mload_state_dict\u001B[49m\u001B[43m(\u001B[49m\u001B[43mtorch\u001B[49m\u001B[38;5;241;43m.\u001B[39;49m\u001B[43mload\u001B[49m\u001B[43m(\u001B[49m\u001B[43mpath\u001B[49m\u001B[43m)\u001B[49m\u001B[43m)\u001B[49m\n\u001B[0;32m     13\u001B[0m     \u001B[38;5;28;01mreturn\u001B[39;00m model\n",
      "File \u001B[1;32m~\\PycharmProjects\\SMBackEnd\\venv\\lib\\site-packages\\torch\\nn\\modules\\module.py:1671\u001B[0m, in \u001B[0;36mModule.load_state_dict\u001B[1;34m(self, state_dict, strict)\u001B[0m\n\u001B[0;32m   1666\u001B[0m         error_msgs\u001B[38;5;241m.\u001B[39minsert(\n\u001B[0;32m   1667\u001B[0m             \u001B[38;5;241m0\u001B[39m, \u001B[38;5;124m'\u001B[39m\u001B[38;5;124mMissing key(s) in state_dict: \u001B[39m\u001B[38;5;132;01m{}\u001B[39;00m\u001B[38;5;124m. \u001B[39m\u001B[38;5;124m'\u001B[39m\u001B[38;5;241m.\u001B[39mformat(\n\u001B[0;32m   1668\u001B[0m                 \u001B[38;5;124m'\u001B[39m\u001B[38;5;124m, \u001B[39m\u001B[38;5;124m'\u001B[39m\u001B[38;5;241m.\u001B[39mjoin(\u001B[38;5;124m'\u001B[39m\u001B[38;5;124m\"\u001B[39m\u001B[38;5;132;01m{}\u001B[39;00m\u001B[38;5;124m\"\u001B[39m\u001B[38;5;124m'\u001B[39m\u001B[38;5;241m.\u001B[39mformat(k) \u001B[38;5;28;01mfor\u001B[39;00m k \u001B[38;5;129;01min\u001B[39;00m missing_keys)))\n\u001B[0;32m   1670\u001B[0m \u001B[38;5;28;01mif\u001B[39;00m \u001B[38;5;28mlen\u001B[39m(error_msgs) \u001B[38;5;241m>\u001B[39m \u001B[38;5;241m0\u001B[39m:\n\u001B[1;32m-> 1671\u001B[0m     \u001B[38;5;28;01mraise\u001B[39;00m \u001B[38;5;167;01mRuntimeError\u001B[39;00m(\u001B[38;5;124m'\u001B[39m\u001B[38;5;124mError(s) in loading state_dict for \u001B[39m\u001B[38;5;132;01m{}\u001B[39;00m\u001B[38;5;124m:\u001B[39m\u001B[38;5;130;01m\\n\u001B[39;00m\u001B[38;5;130;01m\\t\u001B[39;00m\u001B[38;5;132;01m{}\u001B[39;00m\u001B[38;5;124m'\u001B[39m\u001B[38;5;241m.\u001B[39mformat(\n\u001B[0;32m   1672\u001B[0m                        \u001B[38;5;28mself\u001B[39m\u001B[38;5;241m.\u001B[39m\u001B[38;5;18m__class__\u001B[39m\u001B[38;5;241m.\u001B[39m\u001B[38;5;18m__name__\u001B[39m, \u001B[38;5;124m\"\u001B[39m\u001B[38;5;130;01m\\n\u001B[39;00m\u001B[38;5;130;01m\\t\u001B[39;00m\u001B[38;5;124m\"\u001B[39m\u001B[38;5;241m.\u001B[39mjoin(error_msgs)))\n\u001B[0;32m   1673\u001B[0m \u001B[38;5;28;01mreturn\u001B[39;00m _IncompatibleKeys(missing_keys, unexpected_keys)\n",
      "\u001B[1;31mRuntimeError\u001B[0m: Error(s) in loading state_dict for UNet:\n\tMissing key(s) in state_dict: \"ups.1.net.0.net.1.weight\", \"ups.1.net.0.net.1.bias\", \"ups.1.net.0.net.1.running_mean\", \"ups.1.net.0.net.1.running_var\", \"ups.1.net.1.net.1.weight\", \"ups.1.net.1.net.1.bias\", \"ups.1.net.1.net.1.running_mean\", \"ups.1.net.1.net.1.running_var\", \"ups.3.net.0.net.1.weight\", \"ups.3.net.0.net.1.bias\", \"ups.3.net.0.net.1.running_mean\", \"ups.3.net.0.net.1.running_var\", \"ups.3.net.1.net.1.weight\", \"ups.3.net.1.net.1.bias\", \"ups.3.net.1.net.1.running_mean\", \"ups.3.net.1.net.1.running_var\", \"ups.5.net.0.net.1.weight\", \"ups.5.net.0.net.1.bias\", \"ups.5.net.0.net.1.running_mean\", \"ups.5.net.0.net.1.running_var\", \"ups.5.net.1.net.1.weight\", \"ups.5.net.1.net.1.bias\", \"ups.5.net.1.net.1.running_mean\", \"ups.5.net.1.net.1.running_var\", \"ups.7.net.0.net.1.weight\", \"ups.7.net.0.net.1.bias\", \"ups.7.net.0.net.1.running_mean\", \"ups.7.net.0.net.1.running_var\", \"ups.7.net.1.net.1.weight\", \"ups.7.net.1.net.1.bias\", \"ups.7.net.1.net.1.running_mean\", \"ups.7.net.1.net.1.running_var\", \"downs.0.net.0.net.1.weight\", \"downs.0.net.0.net.1.bias\", \"downs.0.net.0.net.1.running_mean\", \"downs.0.net.0.net.1.running_var\", \"downs.0.net.1.net.1.weight\", \"downs.0.net.1.net.1.bias\", \"downs.0.net.1.net.1.running_mean\", \"downs.0.net.1.net.1.running_var\", \"downs.1.net.0.net.1.weight\", \"downs.1.net.0.net.1.bias\", \"downs.1.net.0.net.1.running_mean\", \"downs.1.net.0.net.1.running_var\", \"downs.1.net.1.net.1.weight\", \"downs.1.net.1.net.1.bias\", \"downs.1.net.1.net.1.running_mean\", \"downs.1.net.1.net.1.running_var\", \"downs.2.net.0.net.1.weight\", \"downs.2.net.0.net.1.bias\", \"downs.2.net.0.net.1.running_mean\", \"downs.2.net.0.net.1.running_var\", \"downs.2.net.1.net.1.weight\", \"downs.2.net.1.net.1.bias\", \"downs.2.net.1.net.1.running_mean\", \"downs.2.net.1.net.1.running_var\", \"downs.3.net.0.net.1.weight\", \"downs.3.net.0.net.1.bias\", \"downs.3.net.0.net.1.running_mean\", \"downs.3.net.0.net.1.running_var\", \"downs.3.net.1.net.1.weight\", \"downs.3.net.1.net.1.bias\", \"downs.3.net.1.net.1.running_mean\", \"downs.3.net.1.net.1.running_var\", \"bottleneck.net.1.weight\", \"bottleneck.net.1.bias\", \"bottleneck.net.1.running_mean\", \"bottleneck.net.1.running_var\". \n\tUnexpected key(s) in state_dict: \"ups.1.net.0.net.2.weight\", \"ups.1.net.0.net.2.bias\", \"ups.1.net.0.net.2.running_mean\", \"ups.1.net.0.net.2.running_var\", \"ups.1.net.0.net.2.num_batches_tracked\", \"ups.1.net.1.net.2.weight\", \"ups.1.net.1.net.2.bias\", \"ups.1.net.1.net.2.running_mean\", \"ups.1.net.1.net.2.running_var\", \"ups.1.net.1.net.2.num_batches_tracked\", \"ups.3.net.0.net.2.weight\", \"ups.3.net.0.net.2.bias\", \"ups.3.net.0.net.2.running_mean\", \"ups.3.net.0.net.2.running_var\", \"ups.3.net.0.net.2.num_batches_tracked\", \"ups.3.net.1.net.2.weight\", \"ups.3.net.1.net.2.bias\", \"ups.3.net.1.net.2.running_mean\", \"ups.3.net.1.net.2.running_var\", \"ups.3.net.1.net.2.num_batches_tracked\", \"ups.5.net.0.net.2.weight\", \"ups.5.net.0.net.2.bias\", \"ups.5.net.0.net.2.running_mean\", \"ups.5.net.0.net.2.running_var\", \"ups.5.net.0.net.2.num_batches_tracked\", \"ups.5.net.1.net.2.weight\", \"ups.5.net.1.net.2.bias\", \"ups.5.net.1.net.2.running_mean\", \"ups.5.net.1.net.2.running_var\", \"ups.5.net.1.net.2.num_batches_tracked\", \"ups.7.net.0.net.2.weight\", \"ups.7.net.0.net.2.bias\", \"ups.7.net.0.net.2.running_mean\", \"ups.7.net.0.net.2.running_var\", \"ups.7.net.0.net.2.num_batches_tracked\", \"ups.7.net.1.net.2.weight\", \"ups.7.net.1.net.2.bias\", \"ups.7.net.1.net.2.running_mean\", \"ups.7.net.1.net.2.running_var\", \"ups.7.net.1.net.2.num_batches_tracked\", \"downs.0.net.0.net.2.weight\", \"downs.0.net.0.net.2.bias\", \"downs.0.net.0.net.2.running_mean\", \"downs.0.net.0.net.2.running_var\", \"downs.0.net.0.net.2.num_batches_tracked\", \"downs.0.net.1.net.2.weight\", \"downs.0.net.1.net.2.bias\", \"downs.0.net.1.net.2.running_mean\", \"downs.0.net.1.net.2.running_var\", \"downs.0.net.1.net.2.num_batches_tracked\", \"downs.1.net.0.net.2.weight\", \"downs.1.net.0.net.2.bias\", \"downs.1.net.0.net.2.running_mean\", \"downs.1.net.0.net.2.running_var\", \"downs.1.net.0.net.2.num_batches_tracked\", \"downs.1.net.1.net.2.weight\", \"downs.1.net.1.net.2.bias\", \"downs.1.net.1.net.2.running_mean\", \"downs.1.net.1.net.2.running_var\", \"downs.1.net.1.net.2.num_batches_tracked\", \"downs.2.net.0.net.2.weight\", \"downs.2.net.0.net.2.bias\", \"downs.2.net.0.net.2.running_mean\", \"downs.2.net.0.net.2.running_var\", \"downs.2.net.0.net.2.num_batches_tracked\", \"downs.2.net.1.net.2.weight\", \"downs.2.net.1.net.2.bias\", \"downs.2.net.1.net.2.running_mean\", \"downs.2.net.1.net.2.running_var\", \"downs.2.net.1.net.2.num_batches_tracked\", \"downs.3.net.0.net.2.weight\", \"downs.3.net.0.net.2.bias\", \"downs.3.net.0.net.2.running_mean\", \"downs.3.net.0.net.2.running_var\", \"downs.3.net.0.net.2.num_batches_tracked\", \"downs.3.net.1.net.2.weight\", \"downs.3.net.1.net.2.bias\", \"downs.3.net.1.net.2.running_mean\", \"downs.3.net.1.net.2.running_var\", \"downs.3.net.1.net.2.num_batches_tracked\", \"bottleneck.net.2.weight\", \"bottleneck.net.2.bias\", \"bottleneck.net.2.running_mean\", \"bottleneck.net.2.running_var\", \"bottleneck.net.2.num_batches_tracked\". "
     ]
    }
   ],
   "source": [
    "model = load_model(model, r'C:\\Users\\Даша\\PycharmProjects\\SMBackEnd\\LookGenerator\\weights\\unet_epoch_0_0.0161572862694324.pt')\n",
    "model.eval()"
   ],
   "metadata": {
    "collapsed": false
   }
  },
  {
   "cell_type": "code",
   "execution_count": null,
   "outputs": [],
   "source": [],
   "metadata": {
    "collapsed": false
   }
  }
 ],
 "metadata": {
  "kernelspec": {
   "display_name": "Python 3.8.10 64-bit",
   "language": "python",
   "name": "python3"
  },
  "language_info": {
   "codemirror_mode": {
    "name": "ipython",
    "version": 2
   },
   "file_extension": ".py",
   "mimetype": "text/x-python",
   "name": "python",
   "nbconvert_exporter": "python",
   "pygments_lexer": "ipython2",
   "version": "3.8.10"
  },
  "vscode": {
   "interpreter": {
    "hash": "916dbcbb3f70747c44a77c7bcd40155683ae19c65e1c03b4aa3499c5328201f1"
   }
  }
 },
 "nbformat": 4,
 "nbformat_minor": 0
}
