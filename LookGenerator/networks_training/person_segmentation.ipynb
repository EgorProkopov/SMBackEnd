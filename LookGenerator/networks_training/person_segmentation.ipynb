{
 "cells": [
  {
   "cell_type": "markdown",
   "metadata": {
    "collapsed": false
   },
   "source": [
    "# Импорт"
   ]
  },
  {
   "cell_type": "code",
   "execution_count": 1,
   "metadata": {
    "collapsed": true
   },
   "outputs": [],
   "source": [
    "import matplotlib.pyplot as plt\n",
    "import numpy as np\n",
    "import PIL.Image as Image\n",
    "\n",
    "import torch\n",
    "from torch.utils.data import DataLoader\n",
    "import torchvision.transforms as transforms\n",
    "\n",
    "from LookGenerator.datasets.person_segmantation_dataset import PersonSegmentationDataset, PersonSegmentationDatasetMultichannel\n",
    "from LookGenerator.networks.segmentation import UNet, train_unet\n",
    "from LookGenerator.networks.utils import load_model\n",
    "import LookGenerator.datasets.transforms as custom_transforms\n",
    "from LookGenerator.datasets.utils import prepare_image_for_model_transpose, to_array_from_model_transpose, show_array_multichannel\n"
   ]
  },
  {
   "cell_type": "markdown",
   "metadata": {
    "collapsed": false
   },
   "source": [
    "# Загрузка данных"
   ]
  },
  {
   "cell_type": "code",
   "execution_count": 2,
   "metadata": {
    "collapsed": false
   },
   "outputs": [],
   "source": [
    "transform_input = transforms.Compose([\n",
    "    transforms.Resize((256, 192)),\n",
    "    transforms.Normalize(\n",
    "        mean=[0.5, 0.5, 0.5],\n",
    "        std=[0.25, 0.25, 0.25]\n",
    "    )\n",
    "])\n",
    "\n",
    "transform_output = transforms.Compose([\n",
    "    transforms.Resize((256, 192)),\n",
    "    custom_transforms.MinMaxScale(),\n",
    "    custom_transforms.ThresholdTransform(threshold=0.5)\n",
    "])"
   ]
  },
  {
   "cell_type": "code",
   "execution_count": 3,
   "metadata": {
    "collapsed": false
   },
   "outputs": [],
   "source": [
    "batch_size_train = 32\n",
    "batch_size_val = 16"
   ]
  },
  {
   "cell_type": "code",
   "execution_count": 4,
   "metadata": {
    "collapsed": false
   },
   "outputs": [
    {
     "data": {
      "text/plain": "101"
     },
     "execution_count": 4,
     "metadata": {},
     "output_type": "execute_result"
    }
   ],
   "source": [
    "train_dataset = PersonSegmentationDataset(\"C:\\\\Users\\\\DenisovDmitrii\\\\Desktop\\\\train\", transform_input=transform_input, transform_mask=transform_output)\n",
    "train_dataloader = DataLoader(train_dataset, batch_size=batch_size_train, shuffle=True)\n",
    "len(train_dataloader)"
   ]
  },
  {
   "cell_type": "code",
   "execution_count": 5,
   "metadata": {
    "collapsed": false
   },
   "outputs": [
    {
     "data": {
      "text/plain": "52"
     },
     "execution_count": 5,
     "metadata": {},
     "output_type": "execute_result"
    }
   ],
   "source": [
    "val_dataset = PersonSegmentationDataset(\"C:\\\\Users\\\\DenisovDmitrii\\\\Desktop\\\\test\", transform_input=transform_input, transform_mask=transform_output)\n",
    "val_dataloader = DataLoader(val_dataset, batch_size=batch_size_val, shuffle=False)\n",
    "len(val_dataloader)"
   ]
  },
  {
   "cell_type": "markdown",
   "source": [
    "Test load train_dataloader. and val."
   ],
   "metadata": {
    "collapsed": false
   }
  },
  {
   "cell_type": "code",
   "execution_count": 6,
   "metadata": {
    "collapsed": false
   },
   "outputs": [
    {
     "name": "stdout",
     "output_type": "stream",
     "text": [
      "torch.Size([32, 3, 256, 192])\n",
      "torch.Size([32, 256, 192, 16])\n"
     ]
    }
   ],
   "source": [
    "for X, y in train_dataloader:\n",
    "    print(X.shape)\n",
    "    print(y.shape)\n",
    "    break"
   ]
  },
  {
   "cell_type": "markdown",
   "metadata": {
    "collapsed": false
   },
   "source": [
    "# Обучение модели"
   ]
  },
  {
   "cell_type": "markdown",
   "metadata": {
    "collapsed": false
   },
   "source": [
    "Метки классов на изображении:\n",
    "\n",
    "1. Левое лицо                       248,251,14\n",
    "2. Правое лицо                      251,235,25\n",
    "3. Туловище                         20,80,194\n",
    "4. Внешняя верхняя левая рука       190,189,96\n",
    "5. Внешняя верхняя правая рука      215,187,88\n",
    "6. Внешняя нижняя левая рука        252,206,48\n",
    "7. Внешняя нижняя правая рука       250,220,36\n",
    "8. Внутренняя верхняя левая рука    145,191,116\n",
    "9. Внутренняя верхняя правая рука   170,190,105\n",
    "10. Внетренняя нижняя левая рука     228,191,74\n",
    "11. Внутренняя нижняя правая рука    240,198,60\n",
    "12. Левая кисть                      8,110,221\n",
    "13. Правая кисть                     4,98,224\n",
    "14. Левая нога                       22,173,184\n",
    "15. Правая нога                      6,166,198"
   ]
  },
  {
   "cell_type": "code",
   "execution_count": 7,
   "metadata": {
    "collapsed": false
   },
   "outputs": [
    {
     "name": "stdout",
     "output_type": "stream",
     "text": [
      "cuda\n"
     ]
    }
   ],
   "source": [
    "model = UNet(in_channels=3, out_channels = 1)\n",
    "#model = load_model(model, r'C:\\Users\\DenisovDmitrii\\Desktop\\segmentation_weits\\session12\\asd.pt')\n",
    "optimizer = torch.optim.Adam(model.parameters(), lr = 1e-3)\n",
    "device = 'cuda' if torch.cuda.is_available() else 'cpu'\n",
    "print(device)"
   ]
  },
  {
   "cell_type": "code",
   "execution_count": 8,
   "metadata": {
    "collapsed": false
   },
   "outputs": [
    {
     "name": "stdout",
     "output_type": "stream",
     "text": [
      "start time 23-02-2023 00:10\n",
      "Epoch 0 of 49, train loss: 9868281.525\n",
      "Epoch 0 of 49, val loss: 9863163.058\n",
      "Epoch 1 of 49, train loss: 9858499.238\n",
      "Epoch 1 of 49, val loss: 9858879.981\n",
      "Epoch 2 of 49, train loss: 9856174.960\n",
      "Epoch 2 of 49, val loss: 9858769.865\n",
      "Epoch 3 of 49, train loss: 9853858.267\n",
      "Epoch 3 of 49, val loss: 9853913.519\n",
      "Epoch 4 of 49, train loss: 9851929.000\n",
      "Epoch 4 of 49, val loss: 9857060.769\n",
      "Epoch 5 of 49, train loss: 9850858.604\n",
      "Epoch 5 of 49, val loss: 9852029.173\n",
      "Epoch 6 of 49, train loss: 9850176.733\n",
      "Epoch 6 of 49, val loss: 9851334.365\n",
      "Epoch 7 of 49, train loss: 9849451.376\n",
      "Epoch 7 of 49, val loss: 9850554.058\n",
      "Epoch 8 of 49, train loss: 9848880.337\n",
      "Epoch 8 of 49, val loss: 9850152.596\n",
      "Epoch 9 of 49, train loss: 9848511.257\n",
      "Epoch 9 of 49, val loss: 9850330.942\n",
      "Epoch 10 of 49, train loss: 9848135.525\n",
      "Epoch 10 of 49, val loss: 9849679.769\n",
      "Epoch 11 of 49, train loss: 9847799.485\n",
      "Epoch 11 of 49, val loss: 9849597.019\n",
      "Epoch 12 of 49, train loss: 9847539.376\n",
      "Epoch 12 of 49, val loss: 9849402.462\n",
      "Epoch 13 of 49, train loss: 9847372.465\n",
      "Epoch 13 of 49, val loss: 9849187.192\n",
      "Epoch 14 of 49, train loss: 9847250.851\n",
      "Epoch 14 of 49, val loss: 9849138.154\n",
      "Epoch 15 of 49, train loss: 9847055.960\n",
      "Epoch 15 of 49, val loss: 9849075.404\n",
      "Epoch 16 of 49, train loss: 9846847.743\n",
      "Epoch 16 of 49, val loss: 9848835.038\n",
      "Epoch 17 of 49, train loss: 9846666.079\n",
      "Epoch 17 of 49, val loss: 9849622.423\n",
      "Epoch 18 of 49, train loss: 9846595.069\n",
      "Epoch 18 of 49, val loss: 9849478.327\n",
      "Epoch 19 of 49, train loss: 9846516.089\n",
      "Epoch 19 of 49, val loss: 9848827.635\n",
      "Epoch 20 of 49, train loss: 9846294.594\n",
      "Epoch 20 of 49, val loss: 9848898.615\n",
      "Epoch 21 of 49, train loss: 9846213.386\n",
      "Epoch 21 of 49, val loss: 9848853.096\n",
      "Epoch 22 of 49, train loss: 9846128.307\n",
      "Epoch 22 of 49, val loss: 9848539.962\n",
      "Epoch 23 of 49, train loss: 9846055.277\n",
      "Epoch 23 of 49, val loss: 9849048.288\n",
      "Epoch 24 of 49, train loss: 9846019.356\n",
      "Epoch 24 of 49, val loss: 9849192.904\n",
      "Epoch 25 of 49, train loss: 9845884.941\n",
      "Epoch 25 of 49, val loss: 9848688.115\n",
      "Epoch 26 of 49, train loss: 9845692.851\n",
      "Epoch 26 of 49, val loss: 9848585.654\n",
      "Epoch 27 of 49, train loss: 9845639.099\n",
      "Epoch 27 of 49, val loss: 9849032.981\n",
      "Epoch 28 of 49, train loss: 9845584.584\n",
      "Epoch 28 of 49, val loss: 9848870.192\n",
      "Epoch 29 of 49, train loss: 9845490.693\n",
      "Epoch 29 of 49, val loss: 9849127.000\n",
      "Epoch 30 of 49, train loss: 9845209.604\n",
      "Epoch 30 of 49, val loss: 9849646.750\n",
      "Epoch 31 of 49, train loss: 9845399.871\n",
      "Epoch 31 of 49, val loss: 9849170.538\n",
      "Epoch 32 of 49, train loss: 9845142.020\n",
      "Epoch 32 of 49, val loss: 9849199.173\n",
      "Epoch 33 of 49, train loss: 9844985.465\n",
      "Epoch 33 of 49, val loss: 9848909.442\n",
      "Epoch 34 of 49, train loss: 9844822.505\n",
      "Epoch 34 of 49, val loss: 9848744.346\n",
      "Epoch 35 of 49, train loss: 9844772.802\n",
      "Epoch 35 of 49, val loss: 9848939.135\n",
      "Epoch 36 of 49, train loss: 9844526.931\n",
      "Epoch 36 of 49, val loss: 9848741.904\n",
      "Epoch 37 of 49, train loss: 9844650.624\n",
      "Epoch 37 of 49, val loss: 9848693.712\n",
      "Epoch 38 of 49, train loss: 9844456.465\n",
      "Epoch 38 of 49, val loss: 9849404.788\n",
      "Epoch 39 of 49, train loss: 9844579.327\n",
      "Epoch 39 of 49, val loss: 9849033.173\n",
      "Epoch 40 of 49, train loss: 9844138.386\n",
      "Epoch 40 of 49, val loss: 9848602.731\n",
      "Epoch 41 of 49, train loss: 9844054.485\n",
      "Epoch 41 of 49, val loss: 9849102.750\n",
      "Epoch 42 of 49, train loss: 9844014.446\n",
      "Epoch 42 of 49, val loss: 9848827.827\n",
      "Epoch 43 of 49, train loss: 9844044.139\n",
      "Epoch 43 of 49, val loss: 9849014.442\n",
      "Epoch 44 of 49, train loss: 9843837.446\n",
      "Epoch 44 of 49, val loss: 9848971.500\n",
      "Epoch 45 of 49, train loss: 9843652.545\n",
      "Epoch 45 of 49, val loss: 9849039.115\n",
      "Epoch 46 of 49, train loss: 9843462.228\n",
      "Epoch 46 of 49, val loss: 9848910.500\n",
      "Epoch 47 of 49, train loss: 9843423.762\n",
      "Epoch 47 of 49, val loss: 9849134.885\n",
      "Epoch 48 of 49, train loss: 9843302.574\n",
      "Epoch 48 of 49, val loss: 9849236.423\n",
      "Epoch 49 of 49, train loss: 9843176.366\n",
      "Epoch 49 of 49, val loss: 9849152.096\n",
      "end time 23-02-2023 09:17\n",
      "delta -1 day, 14:52:30.944391\n"
     ]
    }
   ],
   "source": [
    "import datetime\n",
    "now = datetime.datetime.now()\n",
    "print(\"start time\", now.strftime(\"%d-%m-%Y %H:%M\"))\n",
    "\n",
    "train_history, val_history = train_unet(\n",
    "    model,\n",
    "    train_dataloader,\n",
    "    val_dataloader,\n",
    "    optimizer,\n",
    "    device=device,\n",
    "    epoch_num=15,\n",
    "    save_directory=\"C:\\\\Users\\\\DenisovDmitrii\\\\Desktop\\\\segmentation_weits\\\\session20\"\n",
    ")\n",
    "old = now\n",
    "now = datetime.datetime.now()\n",
    "print(\"end time\", now.strftime(\"%d-%m-%Y %H:%M\"))\n",
    "print(\"delta\", now - old)\n"
   ]
  },
  {
   "cell_type": "code",
   "execution_count": null,
   "outputs": [],
   "source": [
    "model = load_model(model, r'C:\\Users\\Даша\\PycharmProjects\\SMBackEnd\\LookGenerator\\weights\\unet_epoch_0_0.0161572862694324.pt')\n",
    "model.eval()"
   ],
   "metadata": {
    "collapsed": false,
    "pycharm": {
     "is_executing": true
    }
   }
  },
  {
   "cell_type": "code",
   "execution_count": null,
   "outputs": [],
   "source": [],
   "metadata": {
    "collapsed": false
   }
  }
 ],
 "metadata": {
  "kernelspec": {
   "display_name": "Python 3.8.10 64-bit",
   "language": "python",
   "name": "python3"
  },
  "language_info": {
   "codemirror_mode": {
    "name": "ipython",
    "version": 2
   },
   "file_extension": ".py",
   "mimetype": "text/x-python",
   "name": "python",
   "nbconvert_exporter": "python",
   "pygments_lexer": "ipython2",
   "version": "3.8.10"
  },
  "vscode": {
   "interpreter": {
    "hash": "916dbcbb3f70747c44a77c7bcd40155683ae19c65e1c03b4aa3499c5328201f1"
   }
  }
 },
 "nbformat": 4,
 "nbformat_minor": 0
}
