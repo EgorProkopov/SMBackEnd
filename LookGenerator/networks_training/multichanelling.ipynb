{
 "cells": [
  {
   "cell_type": "markdown",
   "source": [
    "# Импорт"
   ],
   "metadata": {
    "collapsed": false
   }
  },
  {
   "cell_type": "code",
   "execution_count": 14,
   "metadata": {
    "collapsed": true
   },
   "outputs": [],
   "source": [
    "import matplotlib.pyplot as plt\n",
    "import matplotlib.image\n",
    "import numpy as np\n",
    "import PIL.Image as Image\n",
    "from tqdm import tqdm\n",
    "\n",
    "import torch\n",
    "from torch.utils.data import DataLoader\n",
    "import torchvision.transforms as transforms"
   ]
  },
  {
   "cell_type": "code",
   "execution_count": 15,
   "outputs": [],
   "source": [
    "import os"
   ],
   "metadata": {
    "collapsed": false
   }
  },
  {
   "cell_type": "markdown",
   "source": [
    "# Загрузка данных"
   ],
   "metadata": {
    "collapsed": false
   }
  },
  {
   "cell_type": "markdown",
   "source": [
    "# Подготовка данных"
   ],
   "metadata": {
    "collapsed": false
   }
  },
  {
   "cell_type": "code",
   "execution_count": 16,
   "outputs": [],
   "source": [
    "initial_tags = np.asarray([\n",
    "    [0,0,0],            # фон\n",
    "    [0,254,254],        # правая рука\n",
    "    [51, 169, 220],     # левая рука\n",
    "    [85,51,0],          # шея\n",
    "    [254, 0,0],         # волосы\n",
    "    [0,0,254],          # лицо\n",
    "    [254, 85, 0],       # торс\n",
    "    [0, 85, 85],        # штаны\n",
    "    [0, 128, 0],        # юбка\n",
    "    [85, 254, 169],     # левая нога\n",
    "    [169, 254, 85],     # правая нога\n",
    "    [0, 119, 220],      # верхняя одежда\n",
    "    [0, 0, 85],         # верх нестандартного вида: платья, боди етс\n",
    "    [254, 254, 0],      # левая стопа\n",
    "    [254, 169, 0],      # правая стопа\n",
    "    # [],вв\n",
    "    # [],\n",
    "    # [],\n",
    "])"
   ],
   "metadata": {
    "collapsed": false
   }
  },
  {
   "cell_type": "code",
   "execution_count": 17,
   "outputs": [],
   "source": [
    "tag_labels = np.array( ['Фон',\n",
    "                        'Правая рука',\n",
    "                       'Левая рука',\n",
    "                       'Шея',\n",
    "                       'Волосы',\n",
    "                       'Лицо',\n",
    "                       'Торс',\n",
    "                       'Штаны',\n",
    "                       'Юбка',\n",
    "                       'Левая нога',\n",
    "                       'Правая нога',\n",
    "                       'Верхняя одежда',\n",
    "                       'Платье',\n",
    "                       'Левая стопа',\n",
    "                       'Правая стопа',\n",
    "                        ])"
   ],
   "metadata": {
    "collapsed": false
   }
  },
  {
   "cell_type": "markdown",
   "source": [
    " ## Прямое преобразование"
   ],
   "metadata": {
    "collapsed": false
   }
  },
  {
   "cell_type": "code",
   "execution_count": 18,
   "outputs": [],
   "source": [
    "def get_tag(pixel, num_tags, tags):\n",
    "    \"\"\"\n",
    "    получаем пиксель, выясняем, какому классу принадлежит, возвращаем принадлежность классу\n",
    "    \"\"\"\n",
    "    for i in range(num_tags):\n",
    "        if pixel.tolist() == tags[i].tolist():\n",
    "            return i"
   ],
   "metadata": {
    "collapsed": false
   }
  },
  {
   "cell_type": "code",
   "execution_count": 19,
   "outputs": [],
   "source": [
    "def rgb_to_tags(image, tags):\n",
    "    \"\"\"\n",
    "    Функция, принимающая трехканальное rgb-изображение из pillow\n",
    "    и выдающая многоканальное а-ля one-hot изображение.\n",
    "    Метки должны быть массивом чисел-значений пикселей, пажожьда.\n",
    "    \"\"\"\n",
    "    np_image = np.asarray(image)\n",
    "    num_tags = len(tags)\n",
    "    image_shape = np_image.shape\n",
    "\n",
    "    height, width = image_shape[0], image_shape[1]\n",
    "    new_image = np.zeros([height, width, 15])\n",
    "\n",
    "    for i in range(height):\n",
    "        for j in range(width-1):\n",
    "            new_image[i,j, get_tag(np_image[i,j], num_tags, tags)] = 1\n",
    "\n",
    "    return new_image"
   ],
   "metadata": {
    "collapsed": false
   }
  },
  {
   "cell_type": "code",
   "execution_count": 20,
   "outputs": [],
   "source": [
    "def save_to_file(filepath, array):\n",
    "    Image.fromarray(np.uint8(array*255), 'L').save(filepath)"
   ],
   "metadata": {
    "collapsed": false
   }
  },
  {
   "cell_type": "code",
   "execution_count": 21,
   "outputs": [],
   "source": [
    "def export_from_file(filepath):\n",
    "    return np.asarray((Image.open(filepath).convert('L'))) / 255"
   ],
   "metadata": {
    "collapsed": false
   }
  },
  {
   "cell_type": "code",
   "execution_count": 22,
   "outputs": [],
   "source": [
    "def save_multichannel(filepath, num_channel, array):\n",
    "    for i in range(num_channel):\n",
    "        save_to_file(filepath + f'{i}.png', array[:,:,i])"
   ],
   "metadata": {
    "collapsed": false
   }
  },
  {
   "cell_type": "code",
   "execution_count": 23,
   "outputs": [],
   "source": [
    "def create_image_directory(dirpath):\n",
    "    os.mkdir(dirpath)"
   ],
   "metadata": {
    "collapsed": false
   }
  },
  {
   "cell_type": "markdown",
   "source": [
    "## Вывод расканаливания, сохранение данных"
   ],
   "metadata": {
    "collapsed": false
   }
  },
  {
   "cell_type": "code",
   "execution_count": 24,
   "outputs": [],
   "source": [
    "folder = \"C:\\\\Users\\\\DenisovDmitrii\\\\OneDrive - ITMO UNIVERSITY\\\\peopleDetector\\\\segmentation\\\\bigData\\\\image-parse-v3\\\\\""
   ],
   "metadata": {
    "collapsed": false
   }
  },
  {
   "cell_type": "code",
   "execution_count": 25,
   "outputs": [],
   "source": [
    "save_folder = \"C:\\\\Users\\\\DenisovDmitrii\\\\OneDrive - ITMO UNIVERSITY\\\\peopleDetector\\\\segmentation\\\\bigData\\\\image-parse-v3-multichannel\\\\\""
   ],
   "metadata": {
    "collapsed": false
   }
  },
  {
   "cell_type": "code",
   "execution_count": 26,
   "outputs": [
    {
     "name": "stderr",
     "output_type": "stream",
     "text": [
      "100%|██████████| 11647/11647 [2:17:32<00:00,  1.41it/s] \n"
     ]
    }
   ],
   "source": [
    "list_files = os.listdir(folder)\n",
    "for images in tqdm(list_files):\n",
    "    if images.endswith(\".png\"):\n",
    "        #print(images)\n",
    "        img = Image.open(folder + images).convert('RGB')\n",
    "        #print(' --- segmenting the image...')\n",
    "\n",
    "        seg = rgb_to_tags(img, initial_tags)\n",
    "\n",
    "        image_name = images.split('.')[0]\n",
    "\n",
    "        dirname = save_folder + image_name + '\\\\'\n",
    "\n",
    "        #print(' --- creating the directory...')\n",
    "\n",
    "        create_image_directory(dirname)\n",
    "\n",
    "        #print(' --- saving images...')\n",
    "\n",
    "        save_multichannel(dirname + image_name, 15, seg)\n",
    "        #print(' --- done.')\n"
   ],
   "metadata": {
    "collapsed": false
   }
  },
  {
   "cell_type": "code",
   "execution_count": 47,
   "outputs": [
    {
     "data": {
      "text/plain": "<Figure size 1800x600 with 7 Axes>",
      "image/png": "[encoded data removed]"
     },
     "metadata": {},
     "output_type": "display_data"
    },
    {
     "data": {
      "text/plain": "<Figure size 1800x600 with 7 Axes>",
      "image/png": "[encoded data removed]"
     },
     "metadata": {},
     "output_type": "display_data"
    }
   ],
   "source": [
    "# ЧЕРНЫЙ - 0, БЕЛЫЙ - 1.\n",
    "plt.figure(figsize = (18,6))\n",
    "for i in range(1,len(initial_tags)//2+1):\n",
    "    plt.subplot(1,8,i)\n",
    "    plt.xlabel(tag_labels[i-1])\n",
    "    plt.xticks([])\n",
    "    plt.yticks([])\n",
    "    plt.imshow(seg[:,:,i-1],cmap = 'gray')\n",
    "\n",
    "plt.figure(figsize = (18,6))\n",
    "ctr = 0\n",
    "for i in range(8,len(initial_tags)):\n",
    "    ctr+=1\n",
    "    plt.subplot(1,8,ctr)\n",
    "    plt.xlabel(tag_labels[i])\n",
    "    plt.xticks([])\n",
    "    plt.yticks([])\n",
    "    plt.imshow(seg[:,:,i],cmap = 'gray')"
   ],
   "metadata": {
    "collapsed": false
   }
  },
  {
   "cell_type": "code",
   "execution_count": null,
   "outputs": [],
   "source": [],
   "metadata": {
    "collapsed": false
   }
  }
 ],
 "metadata": {
  "kernelspec": {
   "display_name": "Python 3",
   "language": "python",
   "name": "python3"
  },
  "language_info": {
   "codemirror_mode": {
    "name": "ipython",
    "version": 2
   },
   "file_extension": ".py",
   "mimetype": "text/x-python",
   "name": "python",
   "nbconvert_exporter": "python",
   "pygments_lexer": "ipython2",
   "version": "2.7.6"
  }
 },
 "nbformat": 4,
 "nbformat_minor": 0
}
