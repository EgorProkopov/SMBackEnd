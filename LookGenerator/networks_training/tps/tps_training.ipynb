{
 "cells": [
  {
   "cell_type": "code",
   "execution_count": 1,
   "metadata": {
    "collapsed": true,
    "ExecuteTime": {
     "end_time": "2023-06-01T12:17:06.313063200Z",
     "start_time": "2023-06-01T12:17:05.087173700Z"
    }
   },
   "outputs": [],
   "source": [
    "import torch\n",
    "import torchvision.transforms as transforms\n",
    "from LookGenerator.datasets.tps_dataset import ShirtsDataset\n",
    "from torch.utils.data import DataLoader\n",
    "from LookGenerator.networks.bpgm.model.models import BPGM\n",
    "from LookGenerator.networks.bpgm.train_bpgm import train_bpgm\n",
    "import torch.nn.functional as F\n",
    "import numpy as np\n",
    "import os\n",
    "import PIL.Image as Image\n",
    "import matplotlib.pyplot as plt\n",
    "from LookGenerator.networks_training.utils import check_path_and_creat\n",
    "from LookGenerator.networks.utils import save_model, load_model"
   ]
  },
  {
   "cell_type": "code",
   "execution_count": 2,
   "outputs": [],
   "source": [
    "transform = transforms.Compose([\n",
    "    transforms.Resize((256,192)),\n",
    "   transforms.Normalize(\n",
    "        mean=[0.5, 0.5, 0.5],\n",
    "        std=[0.25, 0.25, 0.25]\n",
    "    )\n",
    "])\n",
    "mask_transform = transforms.Compose([\n",
    "    transforms.Resize((256,192)),\n",
    "])\n"
   ],
   "metadata": {
    "collapsed": false,
    "ExecuteTime": {
     "end_time": "2023-06-01T12:17:06.316033900Z",
     "start_time": "2023-06-01T12:17:06.313063200Z"
    }
   }
  },
  {
   "cell_type": "code",
   "execution_count": 3,
   "outputs": [],
   "source": [
    "batch_size = 1\n",
    "num_workers = 0\n",
    "pin_memory = True"
   ],
   "metadata": {
    "collapsed": false,
    "ExecuteTime": {
     "end_time": "2023-06-01T12:17:06.323884800Z",
     "start_time": "2023-06-01T12:17:06.316033900Z"
    }
   }
  },
  {
   "cell_type": "code",
   "execution_count": 4,
   "outputs": [],
   "source": [
    "dataset = ShirtsDataset(\n",
    "    root=r'C:\\Users\\Даша\\кто\\мусор\\zalando-hd-resized\\train',\n",
    "    #r\"C:\\Users\\DenisovDmitrii\\Desktop\\zalando-hd-resize\\train\",\n",
    "    transform=transform,\n",
    "    transform_mask=mask_transform\n",
    ")\n",
    "dataloader = DataLoader(dataset, batch_size=batch_size, shuffle=True, pin_memory=pin_memory, num_workers=num_workers)"
   ],
   "metadata": {
    "collapsed": false,
    "ExecuteTime": {
     "end_time": "2023-06-01T12:17:06.333370300Z",
     "start_time": "2023-06-01T12:17:06.324888800Z"
    }
   }
  },
  {
   "cell_type": "code",
   "execution_count": null,
   "outputs": [],
   "source": [
    "save_directory = r'C:\\Users\\DenisovDmitrii\\OneDrive - ITMO UNIVERSITY\\peopleDetector\\tps\\weights\\test'\n",
    "check_path_and_creat(save_directory)"
   ],
   "metadata": {
    "collapsed": false,
    "ExecuteTime": {
     "end_time": "2023-06-01T12:17:06.342000400Z",
     "start_time": "2023-06-01T12:17:06.333370300Z"
    },
    "pycharm": {
     "is_executing": true
    }
   }
  },
  {
   "cell_type": "code",
   "execution_count": 5,
   "outputs": [
    {
     "name": "stdout",
     "output_type": "stream",
     "text": [
      "['01677_000.png', '01677_001.png', '01677_0011.png', '01677_0012.png', '01677_002.png', '01677_003.png', '01677_004.png', '01677_005.png', '01677_006.png', '01677_007.png', '01677_008.png', '01677_009.png']\n"
     ]
    }
   ],
   "source": [
    "for data in dataloader:\n",
    "    break"
   ],
   "metadata": {
    "collapsed": false,
    "ExecuteTime": {
     "end_time": "2023-06-01T12:17:11.713478500Z",
     "start_time": "2023-06-01T12:17:06.336982600Z"
    }
   }
  },
  {
   "cell_type": "code",
   "execution_count": 6,
   "outputs": [
    {
     "data": {
      "text/plain": "'cpu'"
     },
     "execution_count": 6,
     "metadata": {},
     "output_type": "execute_result"
    }
   ],
   "source": [
    "device = \"cuda\" if torch.cuda.is_available() else \"cpu\"\n",
    "device"
   ],
   "metadata": {
    "collapsed": false,
    "ExecuteTime": {
     "end_time": "2023-06-01T12:17:11.718496200Z",
     "start_time": "2023-06-01T12:17:11.713478500Z"
    }
   }
  },
  {
   "cell_type": "code",
   "execution_count": 7,
   "outputs": [
    {
     "name": "stdout",
     "output_type": "stream",
     "text": [
      "initialization method [normal]\n",
      "initialization method [normal]\n"
     ]
    }
   ],
   "source": [
    "model = BPGM(device=device)"
   ],
   "metadata": {
    "collapsed": false,
    "ExecuteTime": {
     "end_time": "2023-06-01T12:17:11.858848Z",
     "start_time": "2023-06-01T12:17:11.717492900Z"
    }
   }
  },
  {
   "cell_type": "code",
   "execution_count": null,
   "outputs": [],
   "source": [
    "loss = train_bpgm(dataloader=dataloader,\n",
    "                  model=model, device=device, epochs=1)"
   ],
   "metadata": {
    "collapsed": false,
    "ExecuteTime": {
     "end_time": "2023-06-01T12:33:10.833093900Z",
     "start_time": "2023-06-01T12:17:11.857844800Z"
    },
    "pycharm": {
     "is_executing": true
    }
   }
  },
  {
   "cell_type": "code",
   "execution_count": null,
   "outputs": [],
   "source": [
    "save_model(model.to('cpu'), path=f\"{save_directory}\\\\epoch_02.pt\")"
   ],
   "metadata": {
    "collapsed": false,
    "ExecuteTime": {
     "end_time": "2023-06-01T12:33:10.897222300Z",
     "start_time": "2023-06-01T12:33:10.834097600Z"
    }
   }
  },
  {
   "cell_type": "markdown",
   "source": [
    "# тест"
   ],
   "metadata": {
    "collapsed": false
   }
  },
  {
   "cell_type": "code",
   "execution_count": 21,
   "outputs": [],
   "source": [
    "testtransform = transforms.Compose([\n",
    "    transforms.Resize((256,192)),\n",
    "    transforms.Normalize(\n",
    "        mean=[0.5, 0.5, 0.5],\n",
    "        std=[0.25, 0.25, 0.25]\n",
    "    )\n",
    "])\n",
    "testmask_transform = transforms.Compose([\n",
    "    transforms.Resize((256,192)),\n",
    "   ])\n"
   ],
   "metadata": {
    "collapsed": false
   }
  },
  {
   "cell_type": "code",
   "execution_count": 22,
   "outputs": [],
   "source": [
    "test_dataset = ShirtsDataset(\n",
    "    root=r\"C:\\Users\\Даша\\кто\\мусор\\zalando-hd-resized\\test\",\n",
    "    transform=testtransform,\n",
    "    transform_mask=testmask_transform\n",
    ")"
   ],
   "metadata": {
    "collapsed": false,
    "ExecuteTime": {
     "end_time": "2023-05-31T19:10:15.686014600Z",
     "start_time": "2023-05-31T19:10:15.670314500Z"
    }
   }
  },
  {
   "cell_type": "code",
   "execution_count": 23,
   "outputs": [],
   "source": [
    "topil = transforms.ToPILImage()\n",
    "toten = transforms.ToTensor()"
   ],
   "metadata": {
    "collapsed": false,
    "ExecuteTime": {
     "end_time": "2023-06-01T12:33:10.899626500Z",
     "start_time": "2023-06-01T12:33:10.897222300Z"
    }
   }
  },
  {
   "cell_type": "code",
   "execution_count": 24,
   "outputs": [],
   "source": [
    "testdataloader = DataLoader(test_dataset, batch_size=1, pin_memory=True)"
   ],
   "metadata": {
    "collapsed": false,
    "ExecuteTime": {
     "end_time": "2023-05-31T19:10:18.664984300Z",
     "start_time": "2023-05-31T19:10:18.635883100Z"
    }
   }
  },
  {
   "cell_type": "code",
   "execution_count": 25,
   "outputs": [],
   "source": [
    "weights_dir = r'C:\\Users\\Даша\\кто\\мусор\\epoch_02.pt'\n",
    "#r\"C:\\Users\\DenisovDmitrii\\OneDrive - ITMO UNIVERSITY\\peopleDetector\\tps\\weights\\test\\epoch_00.pt\""
   ],
   "metadata": {
    "collapsed": false,
    "ExecuteTime": {
     "end_time": "2023-06-01T10:33:06.662842800Z",
     "start_time": "2023-06-01T10:33:06.660835700Z"
    }
   }
  },
  {
   "cell_type": "code",
   "execution_count": 26,
   "outputs": [],
   "source": [
    "model = load_model(model, weights_dir)"
   ],
   "metadata": {
    "collapsed": false,
    "ExecuteTime": {
     "end_time": "2023-06-01T10:33:07.259770400Z",
     "start_time": "2023-06-01T10:33:07.211677800Z"
    }
   }
  },
  {
   "cell_type": "code",
   "execution_count": 10,
   "outputs": [],
   "source": [
    "count = 0\n",
    "for data in testdataloader:\n",
    "    mask = data['segmentation'].to(device)\n",
    "    shirt = data['shirt'].to(device)\n",
    "    shirt_mask = data['shirt_mask'].to(device)\n",
    "\n",
    "    model = model.to(device)\n",
    "    theta = model(mask, shirt)\n",
    "\n",
    "    warped = F.grid_sample(shirt, theta, padding_mode='border', align_corners=True).to('cpu')\n",
    "\n",
    "    warped_mask = F.grid_sample(shirt_mask, theta, padding_mode='border', align_corners=True).to('cpu')\n",
    "    warped_mask = topil(warped_mask[0])\n",
    "    warped_mask.show()\n",
    "    warped = topil(warped[0]/2+0.5)\n",
    "    warped.show()\n",
    "    count += 1\n",
    "    if count == 4:\n",
    "        break"
   ],
   "metadata": {
    "collapsed": false,
    "ExecuteTime": {
     "end_time": "2023-05-31T19:20:02.683557500Z",
     "start_time": "2023-05-31T19:19:37.118697300Z"
    }
   }
  },
  {
   "cell_type": "markdown",
   "source": [
    "подготовка"
   ],
   "metadata": {
    "collapsed": false
   }
  },
  {
   "cell_type": "code",
   "execution_count": 28,
   "outputs": [],
   "source": [
    "path_people = r'C:\\Users\\Даша\\кто\\мусор\\zalando-hd-resized\\test\\imageWithNoCloth'\n",
    "#r'C:\\Users\\DenisovDmitrii\\Desktop\\forEncoderNew\\train\\imageWithNoCloth'"
   ],
   "metadata": {
    "collapsed": false,
    "ExecuteTime": {
     "end_time": "2023-06-01T12:33:10.906372700Z",
     "start_time": "2023-06-01T12:33:10.899626500Z"
    }
   }
  },
  {
   "cell_type": "code",
   "execution_count": 29,
   "outputs": [],
   "source": [
    "cloud_people = os.listdir(path_people)"
   ],
   "metadata": {
    "collapsed": false,
    "ExecuteTime": {
     "end_time": "2023-06-01T12:33:10.921412900Z",
     "start_time": "2023-06-01T12:33:10.906372700Z"
    }
   }
  },
  {
   "cell_type": "code",
   "execution_count": 30,
   "outputs": [
    {
     "data": {
      "text/plain": "2032"
     },
     "execution_count": 30,
     "metadata": {},
     "output_type": "execute_result"
    }
   ],
   "source": [
    "len(cloud_people)"
   ],
   "metadata": {
    "collapsed": false,
    "ExecuteTime": {
     "end_time": "2023-06-01T12:33:10.923714600Z",
     "start_time": "2023-06-01T12:33:10.921412900Z"
    }
   }
  },
  {
   "cell_type": "code",
   "execution_count": null,
   "outputs": [],
   "source": [
    "# ИСПОЛЬЗОВАТЬ batch_size=1\n",
    "count = 0\n",
    "for index, data in enumerate(testdataloader):\n",
    "\n",
    "    cloud_person = Image.open(path_people + \"\\\\\" + cloud_people[index])\n",
    "    cloud_person = toten(cloud_person)\n",
    "\n",
    "    mask = data['segmentation'].to(device)\n",
    "    shirt = data['shirt'].to(device)\n",
    "    cwm = data['torso'].to(device)\n",
    "\n",
    "    cwm = torch.tensor(cwm, dtype=torch.bool)\n",
    "\n",
    "    model = model.to(device)\n",
    "    theta = model(mask, shirt)\n",
    "\n",
    "    warped = F.grid_sample(shirt, theta, padding_mode='border', align_corners=True).to('cpu')\n",
    "    warped = warped / 2 + 0.5\n",
    "    warped = warped * cwm\n",
    "\n",
    "    cwm = ~cwm\n",
    "\n",
    "    person = cloud_person * cwm + warped\n",
    "    # wc = transforms.Resize((256 + 256 // 2, 192 + 192 // 2))(wc)\n",
    "    # wc = transforms.CenterCrop((256, 192))(wc)\n",
    "    #warped_mask = np.array(topil(warped_mask[0]))\n",
    "    # warped = np.array(topil(warped[0]))\n",
    "    #wc = np.array(topil(wc[0]))\n",
    "\n",
    "    person = topil(person[0]).convert('RGB')\n",
    "\n",
    "    person.save(path_people + \"2\\\\\" + cloud_people[index])"
   ],
   "metadata": {
    "collapsed": false,
    "ExecuteTime": {
     "end_time": "2023-06-01T12:33:29.288322100Z",
     "start_time": "2023-06-01T12:33:10.924711Z"
    },
    "pycharm": {
     "is_executing": true
    }
   }
  },
  {
   "cell_type": "code",
   "execution_count": null,
   "outputs": [],
   "source": [],
   "metadata": {
    "collapsed": false
   }
  }
 ],
 "metadata": {
  "kernelspec": {
   "display_name": "Python 3",
   "language": "python",
   "name": "python3"
  },
  "language_info": {
   "codemirror_mode": {
    "name": "ipython",
    "version": 2
   },
   "file_extension": ".py",
   "mimetype": "text/x-python",
   "name": "python",
   "nbconvert_exporter": "python",
   "pygments_lexer": "ipython2",
   "version": "2.7.6"
  }
 },
 "nbformat": 4,
 "nbformat_minor": 0
}
