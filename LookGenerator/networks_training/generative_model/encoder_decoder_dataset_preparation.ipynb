{
 "cells": [
  {
   "cell_type": "code",
   "execution_count": 1,
   "metadata": {
    "collapsed": true,
    "ExecuteTime": {
     "end_time": "2023-05-30T19:09:46.022647700Z",
     "start_time": "2023-05-30T19:09:39.881754100Z"
    }
   },
   "outputs": [],
   "source": [
    "import os\n",
    "import torch\n",
    "from tqdm import tqdm\n",
    "import torchvision.transforms as transforms\n",
    "import LookGenerator.datasets.transforms as custom_transforms\n",
    "import numpy as np\n",
    "import PIL.Image as Image\n",
    "import cv2\n",
    "import matplotlib.pyplot as plt\n",
    "from LookGenerator.networks.segmentation import UNet\n",
    "from LookGenerator.networks.utils import load_model\n",
    "import albumentations\n",
    "from LookGenerator.datasets.utils import load_image, prepare_image_for_segmentation"
   ]
  },
  {
   "cell_type": "markdown",
   "source": [
    "# Подготовка датасета"
   ],
   "metadata": {
    "collapsed": false
   }
  },
  {
   "cell_type": "code",
   "execution_count": 2,
   "outputs": [],
   "source": [
    "model = UNet(in_channels=3, out_channels=1)\n",
    "\n",
    "transform_input = transforms.Compose([\n",
    "    transforms.Resize((256, 192)),\n",
    "    transforms.Normalize(\n",
    "        mean=[0.5, 0.5, 0.5],\n",
    "        std=[0.25, 0.25, 0.25]\n",
    "    )\n",
    "])\n",
    "\n",
    "transform_output = transforms.Compose([\n",
    "    transforms.Resize((256, 192)),\n",
    "    custom_transforms.MinMaxScale(),\n",
    "    custom_transforms.ThresholdTransform(threshold=0.5)\n",
    "])"
   ],
   "metadata": {
    "collapsed": false,
    "ExecuteTime": {
     "end_time": "2023-05-30T19:09:46.094330100Z",
     "start_time": "2023-05-30T19:09:46.023651400Z"
    }
   }
  },
  {
   "cell_type": "code",
   "execution_count": 3,
   "outputs": [
    {
     "name": "stdout",
     "output_type": "stream",
     "text": [
      "cuda\n"
     ]
    }
   ],
   "source": [
    "model = load_model(model, r\"C:\\Users\\DenisovDmitrii\\OneDrive - ITMO UNIVERSITY\\peopleDetector\\segmetationBackground\\weights\\testResults\\epoch_29.pt\")\n",
    "device = 'cuda' if torch.cuda.is_available() else 'cpu'\n",
    "print(device)\n",
    "# model.eval()"
   ],
   "metadata": {
    "collapsed": false,
    "pycharm": {
     "is_executing": true
    },
    "ExecuteTime": {
     "end_time": "2023-05-30T19:09:46.159886100Z",
     "start_time": "2023-05-30T19:09:46.095333500Z"
    }
   }
  },
  {
   "cell_type": "code",
   "execution_count": 14,
   "outputs": [],
   "source": [
    "dir_ = r\"C:\\Users\\DenisovDmitrii\\Desktop\\valData\""
   ],
   "metadata": {
    "collapsed": false,
    "ExecuteTime": {
     "end_time": "2023-05-30T19:33:09.044587700Z",
     "start_time": "2023-05-30T19:33:09.037563300Z"
    }
   }
  },
  {
   "cell_type": "code",
   "execution_count": 15,
   "outputs": [],
   "source": [
    "def clean_image_by_indexes(array_to_clean, array):\n",
    "\n",
    "    height, width = array.shape[0], array.shape[1]\n",
    "    for i in range(height):\n",
    "        for j in range(width):\n",
    "            if array[i,j]==1:\n",
    "                array_to_clean[i,j] = [255,255, 255]"
   ],
   "metadata": {
    "collapsed": false,
    "ExecuteTime": {
     "end_time": "2023-05-30T19:33:09.383173800Z",
     "start_time": "2023-05-30T19:33:09.376650900Z"
    }
   }
  },
  {
   "cell_type": "code",
   "execution_count": 16,
   "outputs": [],
   "source": [
    "list_dir = os.listdir(os.path.join(dir_, r\"image\"))\n",
    "\n",
    "images = [image.split('.')[0] for image in list_dir]"
   ],
   "metadata": {
    "collapsed": false,
    "ExecuteTime": {
     "end_time": "2023-05-30T19:33:09.743007500Z",
     "start_time": "2023-05-30T19:33:09.735444400Z"
    }
   }
  },
  {
   "cell_type": "code",
   "execution_count": 17,
   "outputs": [
    {
     "name": "stderr",
     "output_type": "stream",
     "text": [
      "100%|██████████| 2032/2032 [03:30<00:00,  9.67it/s]\n"
     ]
    }
   ],
   "source": [
    "ctr = 0\n",
    "model.to(device)\n",
    "for image in tqdm(images):\n",
    "\n",
    "    real_img = load_image(dir_, \"image\", image, '.jpg').convert('RGB')\n",
    "\n",
    "    real_img_as_np = np.array(real_img)\n",
    "    real_img_as_np = cv2.resize(real_img_as_np, (192, 256))\n",
    "    real_img_to_model = prepare_image_for_segmentation(real_img, transform = transform_input)\n",
    "\n",
    "    modelled = model(real_img_to_model.to(device))\n",
    "    modelled = transform_output(modelled.to('cpu').detach())\n",
    "\n",
    "    torso_img = modelled.detach().numpy()[0, 0, :, :]\n",
    "\n",
    "    clean_image_by_indexes(real_img_as_np, torso_img)\n",
    "    real_img_as_np = np.array(real_img_as_np, dtype = np.uint8)\n",
    "\n",
    "    Image.fromarray(real_img_as_np, 'RGB').save(dir_ + '\\\\image3\\\\' + image + '.png')\n",
    "\n"
   ],
   "metadata": {
    "collapsed": false,
    "pycharm": {
     "is_executing": true
    },
    "ExecuteTime": {
     "end_time": "2023-05-30T19:36:40.202766300Z",
     "start_time": "2023-05-30T19:33:10.168386200Z"
    }
   }
  },
  {
   "cell_type": "code",
   "execution_count": null,
   "outputs": [],
   "source": [],
   "metadata": {
    "collapsed": false
   }
  }
 ],
 "metadata": {
  "kernelspec": {
   "display_name": "Python 3",
   "language": "python",
   "name": "python3"
  },
  "language_info": {
   "codemirror_mode": {
    "name": "ipython",
    "version": 2
   },
   "file_extension": ".py",
   "mimetype": "text/x-python",
   "name": "python",
   "nbconvert_exporter": "python",
   "pygments_lexer": "ipython2",
   "version": "2.7.6"
  }
 },
 "nbformat": 4,
 "nbformat_minor": 0
}
