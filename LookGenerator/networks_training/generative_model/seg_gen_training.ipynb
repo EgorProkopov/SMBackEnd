{
 "cells": [
  {
   "cell_type": "code",
   "execution_count": 2,
   "metadata": {
    "collapsed": true
   },
   "outputs": [],
   "source": [
    "import os\n",
    "import torch\n",
    "import torchvision.transforms as transforms\n",
    "import albumentations as A\n",
    "import matplotlib.pyplot as plt\n",
    "import numpy as np\n",
    "from torch.utils.data import DataLoader\n",
    "from LookGenerator.datasets.segmentation_generator_dataset import SegGenDataset\n",
    "from LookGenerator.networks.encoder_decoder import EncoderDecoder\n",
    "from LookGenerator.networks.losses import FocalLoss\n",
    "from LookGenerator.networks.trainer import Trainer\n",
    "from LookGenerator.networks.utils import load_model\n",
    "from LookGenerator.networks_training.utils import check_path_and_creat\n",
    "from torchvision.transforms import ToTensor, ToPILImage"
   ]
  },
  {
   "cell_type": "code",
   "execution_count": null,
   "outputs": [],
   "source": [
    "toten = ToTensor()\n",
    "topil = ToPILImage()"
   ],
   "metadata": {
    "collapsed": false
   }
  },
  {
   "cell_type": "code",
   "execution_count": 3,
   "outputs": [],
   "source": [
    "augment = A.Resize(256,192)\n",
    "batch_size = 1"
   ],
   "metadata": {
    "collapsed": false
   }
  },
  {
   "cell_type": "code",
   "execution_count": 4,
   "outputs": [],
   "source": [
    "train_dataset = SegGenDataset(image_dir=r\"C:\\Users\\Даша\\кто\\мусор\\zalando-hd-resized\\train\",\n",
    "                        augment=augment)\n",
    "train_dataloader = DataLoader(train_dataset, batch_size=batch_size)"
   ],
   "metadata": {
    "collapsed": false
   }
  },
  {
   "cell_type": "code",
   "execution_count": 6,
   "outputs": [],
   "source": [
    "for input_, target in train_dataloader:\n",
    "    input_ = input_.squeeze(0)\n",
    "    pic = transforms.ToPILImage()(input_[:3])\n",
    "    pic.show()\n",
    "    for i in range(3,11):\n",
    "        pic = transforms.ToPILImage()(input_[i])\n",
    "        pic.show()\n",
    "    break"
   ],
   "metadata": {
    "collapsed": false
   }
  },
  {
   "cell_type": "code",
   "execution_count": null,
   "outputs": [],
   "source": [
    "val_dataset = SegGenDataset(image_dir=r\"\",\n",
    "                        augment=augment)\n",
    "val_dataloader = DataLoader(train_dataset, batch_size=batch_size)"
   ],
   "metadata": {
    "collapsed": false
   }
  },
  {
   "cell_type": "code",
   "execution_count": null,
   "outputs": [],
   "source": [
    "model = EncoderDecoder(in_channels=16,\n",
    "                       out_channels=3)\n",
    "optimizer = torch.optim.Adam(model.parameters(), lr = 1e-3)\n",
    "device = 'cuda' if torch.cuda.is_available() else 'cpu'\n",
    "criterion = FocalLoss()\n",
    "print(device)"
   ],
   "metadata": {
    "collapsed": false
   }
  },
  {
   "cell_type": "code",
   "execution_count": null,
   "outputs": [],
   "source": [
    "save_directory = r'C:\\Users\\DenisovDmitrii\\OneDrive - ITMO UNIVERSITY\\peopleDetector\\segmentationMulty\\weights\\testMulty_out_12_6features_noGauss'\n",
    "check_path_and_creat(save_directory)"
   ],
   "metadata": {
    "collapsed": false
   }
  },
  {
   "cell_type": "code",
   "execution_count": null,
   "outputs": [],
   "source": [
    "trainer = Trainer(\n",
    "    model_=model, optimizer=optimizer, criterion=criterion,\n",
    "    device=device, save_directory=save_directory, save_step=1, verbose=True\n",
    ")"
   ],
   "metadata": {
    "collapsed": false
   }
  },
  {
   "cell_type": "code",
   "execution_count": null,
   "outputs": [],
   "source": [
    "epoch_num=80"
   ],
   "metadata": {
    "collapsed": false
   }
  },
  {
   "cell_type": "code",
   "execution_count": null,
   "outputs": [],
   "source": [
    "trainer.train(train_dataloader=train_dataloader, val_dataloader=val_dataloader, epoch_num=epoch_num)"
   ],
   "metadata": {
    "collapsed": false
   }
  },
  {
   "cell_type": "code",
   "execution_count": null,
   "outputs": [],
   "source": [
    "trainer.draw_history_plots()"
   ],
   "metadata": {
    "collapsed": false
   }
  },
  {
   "cell_type": "code",
   "execution_count": null,
   "outputs": [],
   "source": [
    "trainer.save_history_plots(save_directory)"
   ],
   "metadata": {
    "collapsed": false
   }
  },
  {
   "cell_type": "markdown",
   "source": [
    "わたしの最後はあなたがいい"
   ],
   "metadata": {
    "collapsed": false
   }
  },
  {
   "cell_type": "code",
   "execution_count": null,
   "outputs": [],
   "source": [
    "model = load_model(model, r'C:\\Users\\DenisovDmitrii\\OneDrive - ITMO UNIVERSITY\\peopleDetector\\segmentationMulty\\weights\\testMulty_out_12_6features_noGauss\\epoch_39.pt')"
   ],
   "metadata": {
    "collapsed": false
   }
  },
  {
   "cell_type": "code",
   "execution_count": null,
   "outputs": [],
   "source": [
    "test_dataset = SegGenDataset(image_dir=r\"\",\n",
    "                        augment=augment)\n",
    "test_dataloader = DataLoader(test_dataset, batch_size=1)"
   ],
   "metadata": {
    "collapsed": false
   }
  },
  {
   "cell_type": "code",
   "execution_count": null,
   "outputs": [],
   "source": [
    "for input_, target in test_dataloader:\n",
    "    result = model(input_)\n",
    "\n",
    "    result = result.squueze(0)\n",
    "\n",
    "    fig, axes = plt.subplots(2, 3)\n",
    "\n",
    "    for i in range(3):\n",
    "        axes[0,i].imshow(np.array(topil(result[i])), cmap = 'gray')\n",
    "        axes[1,i]. imshow(np.array(topil(target[i])), cmap = 'gray')\n",
    "    break"
   ],
   "metadata": {
    "collapsed": false
   }
  }
 ],
 "metadata": {
  "kernelspec": {
   "display_name": "Python 3",
   "language": "python",
   "name": "python3"
  },
  "language_info": {
   "codemirror_mode": {
    "name": "ipython",
    "version": 2
   },
   "file_extension": ".py",
   "mimetype": "text/x-python",
   "name": "python",
   "nbconvert_exporter": "python",
   "pygments_lexer": "ipython2",
   "version": "2.7.6"
  }
 },
 "nbformat": 4,
 "nbformat_minor": 0
}
