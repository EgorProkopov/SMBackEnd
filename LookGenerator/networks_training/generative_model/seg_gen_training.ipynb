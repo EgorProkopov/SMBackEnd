{
 "cells": [
  {
   "cell_type": "code",
   "execution_count": 1,
   "metadata": {
    "collapsed": true,
    "ExecuteTime": {
     "end_time": "2023-06-09T16:40:08.256267400Z",
     "start_time": "2023-06-09T16:40:06.506274400Z"
    }
   },
   "outputs": [],
   "source": [
    "import os\n",
    "import torch\n",
    "import torch.nn as nn\n",
    "import torchvision.transforms as transforms\n",
    "import albumentations as A\n",
    "import matplotlib.pyplot as plt\n",
    "import numpy as np\n",
    "from torch.utils.data import DataLoader\n",
    "from LookGenerator.datasets.segmentation_generator_dataset import SegGenDataset\n",
    "from LookGenerator.networks.encoder_decoder import EncoderDecoder\n",
    "from LookGenerator.networks.losses import FocalLoss\n",
    "from LookGenerator.networks.segmentation import UNet\n",
    "from LookGenerator.networks.trainer import Trainer\n",
    "from LookGenerator.networks.utils import load_model\n",
    "from LookGenerator.networks_training.utils import check_path_and_creat\n",
    "from torchvision.transforms import ToTensor, ToPILImage\n",
    "from LookGenerator.networks.clothes_feature_extractor import ClothAutoencoder"
   ]
  },
  {
   "cell_type": "code",
   "execution_count": 2,
   "outputs": [],
   "source": [
    "toten = ToTensor()\n",
    "topil = ToPILImage()"
   ],
   "metadata": {
    "collapsed": false,
    "ExecuteTime": {
     "end_time": "2023-06-09T16:40:08.822881200Z",
     "start_time": "2023-06-09T16:40:08.817363100Z"
    }
   }
  },
  {
   "cell_type": "code",
   "execution_count": 3,
   "outputs": [],
   "source": [
    "augment = A.Resize(256,192)\n",
    "batch_size_train = 32\n",
    "batch_size_val = 16\n",
    "pin_memory = True\n",
    "num_workers = 0"
   ],
   "metadata": {
    "collapsed": false,
    "ExecuteTime": {
     "end_time": "2023-06-09T16:40:09.670375800Z",
     "start_time": "2023-06-09T16:40:09.646910100Z"
    }
   }
  },
  {
   "cell_type": "code",
   "execution_count": 4,
   "outputs": [],
   "source": [
    "train_dataset = SegGenDataset(image_dir=r'C:\\Users\\Даша\\кто\\мусор\\zalando-hd-resized\\train',\n",
    "                              #r\"C:\\Users\\DenisovDmitrii\\Desktop\\zalando-hd-resize\\train\",\n",
    "                        augment=augment)\n",
    "train_dataloader = DataLoader(train_dataset, batch_size=batch_size_train, pin_memory=pin_memory, num_workers=num_workers)"
   ],
   "metadata": {
    "collapsed": false,
    "ExecuteTime": {
     "end_time": "2023-06-09T16:40:10.242175300Z",
     "start_time": "2023-06-09T16:40:10.230814600Z"
    }
   }
  },
  {
   "cell_type": "code",
   "execution_count": 13,
   "outputs": [
    {
     "name": "stdout",
     "output_type": "stream",
     "text": [
      "torch.Size([32, 11, 256, 192])\n"
     ]
    }
   ],
   "source": [
    "for input_, target in train_dataloader:\n",
    "    print(input_.shape)\n",
    "    # input_ = input_[0]\n",
    "    # pic = transforms.ToPILImage()(input_[:3])\n",
    "    # pic.show()\n",
    "    # for i in range(3,11):\n",
    "    #     pic = transforms.ToPILImage()(input_[i])\n",
    "    #     pic.show()\n",
    "    break"
   ],
   "metadata": {
    "collapsed": false,
    "ExecuteTime": {
     "end_time": "2023-06-09T16:40:58.519965Z",
     "start_time": "2023-06-09T16:40:28.395647600Z"
    }
   }
  },
  {
   "cell_type": "code",
   "execution_count": 6,
   "outputs": [],
   "source": [
    "val_dataset = SegGenDataset(image_dir=r'C:\\Users\\Даша\\кто\\мусор\\zalando-hd-resized\\test',\n",
    "                            #r\"C:\\Users\\DenisovDmitrii\\Desktop\\zalando-hd-resize\\test\",\n",
    "                        augment=augment)\n",
    "val_dataloader = DataLoader(train_dataset, batch_size=batch_size_val, pin_memory=pin_memory, num_workers=num_workers)"
   ],
   "metadata": {
    "collapsed": false,
    "ExecuteTime": {
     "end_time": "2023-06-09T16:41:01.613508300Z",
     "start_time": "2023-06-09T16:41:01.600758100Z"
    }
   }
  },
  {
   "cell_type": "code",
   "execution_count": 7,
   "outputs": [],
   "source": [
    "# clothes_feature_extractor = ClothAutoencoder(\n",
    "#     in_channels=3,\n",
    "#     out_channels=3,\n",
    "#     features=(8, 16, 32, 64),\n",
    "#     latent_dim_size=128,\n",
    "#     encoder_activation_func=nn.LeakyReLU(),\n",
    "#     decoder_activation_func=nn.ReLU()\n",
    "# )\n",
    "# clothes_feature_extractor = load_model(clothes_feature_extractor, r\"C:\\Users\\DenisovDmitrii\\OneDrive - ITMO UNIVERSITY\\peopleDetector\\autoDegradation\\weights\\testClothes_L1Loss_4features\\epoch_39.pt\")"
   ],
   "metadata": {
    "collapsed": false,
    "ExecuteTime": {
     "end_time": "2023-06-09T16:41:03.299168900Z",
     "start_time": "2023-06-09T16:41:03.279419100Z"
    }
   }
  },
  {
   "cell_type": "code",
   "execution_count": 14,
   "outputs": [
    {
     "name": "stdout",
     "output_type": "stream",
     "text": [
      "cpu\n"
     ]
    }
   ],
   "source": [
    "model = UNet(in_channels=11,out_channels=3)\n",
    "optimizer = torch.optim.Adam(model.parameters(), lr = 1e-3)\n",
    "device = 'cuda' if torch.cuda.is_available() else 'cpu'\n",
    "criterion = FocalLoss()\n",
    "print(device)"
   ],
   "metadata": {
    "collapsed": false,
    "ExecuteTime": {
     "end_time": "2023-06-09T16:41:05.040860100Z",
     "start_time": "2023-06-09T16:41:04.991945800Z"
    }
   }
  },
  {
   "cell_type": "code",
   "execution_count": 9,
   "outputs": [
    {
     "ename": "RuntimeError",
     "evalue": "",
     "output_type": "error",
     "traceback": [
      "\u001B[1;31m---------------------------------------------------------------------------\u001B[0m",
      "\u001B[1;31mRuntimeError\u001B[0m                              Traceback (most recent call last)",
      "Cell \u001B[1;32mIn[9], line 2\u001B[0m\n\u001B[0;32m      1\u001B[0m save_directory \u001B[38;5;241m=\u001B[39m \u001B[38;5;124mr\u001B[39m\u001B[38;5;124m'\u001B[39m\u001B[38;5;124mC:\u001B[39m\u001B[38;5;124m\\\u001B[39m\u001B[38;5;124mUsers\u001B[39m\u001B[38;5;124m\\\u001B[39m\u001B[38;5;124mDenisovDmitrii\u001B[39m\u001B[38;5;124m\\\u001B[39m\u001B[38;5;124mOneDrive - ITMO UNIVERSITY\u001B[39m\u001B[38;5;124m\\\u001B[39m\u001B[38;5;124mpeopleDetector\u001B[39m\u001B[38;5;124m\\\u001B[39m\u001B[38;5;124msegGen\u001B[39m\u001B[38;5;124m\\\u001B[39m\u001B[38;5;124mweights\u001B[39m\u001B[38;5;124m\\\u001B[39m\u001B[38;5;124mbaseParam\u001B[39m\u001B[38;5;124m'\u001B[39m\n\u001B[1;32m----> 2\u001B[0m \u001B[43mcheck_path_and_creat\u001B[49m\u001B[43m(\u001B[49m\u001B[43msave_directory\u001B[49m\u001B[43m)\u001B[49m\n",
      "File \u001B[1;32m~\\PycharmProjects\\SMBackEnd\\LookGenerator\\networks_training\\utils.py:8\u001B[0m, in \u001B[0;36mcheck_path_and_creat\u001B[1;34m(path)\u001B[0m\n\u001B[0;32m      6\u001B[0m     \u001B[38;5;28;01mreturn\u001B[39;00m \u001B[38;5;28;01mTrue\u001B[39;00m\n\u001B[0;32m      7\u001B[0m \u001B[38;5;28;01mif\u001B[39;00m \u001B[38;5;129;01mnot\u001B[39;00m os\u001B[38;5;241m.\u001B[39mpath\u001B[38;5;241m.\u001B[39misdir(path\u001B[38;5;241m.\u001B[39mrsplit(\u001B[38;5;124m'\u001B[39m\u001B[38;5;130;01m\\\\\u001B[39;00m\u001B[38;5;124m'\u001B[39m, \u001B[38;5;241m1\u001B[39m)[\u001B[38;5;241m0\u001B[39m]):\n\u001B[1;32m----> 8\u001B[0m     \u001B[38;5;28;01mraise\u001B[39;00m \u001B[38;5;167;01mRuntimeError\u001B[39;00m\n\u001B[0;32m      9\u001B[0m os\u001B[38;5;241m.\u001B[39mmkdir(path)\n\u001B[0;32m     10\u001B[0m \u001B[38;5;28;01mreturn\u001B[39;00m \u001B[38;5;28;01mTrue\u001B[39;00m\n",
      "\u001B[1;31mRuntimeError\u001B[0m: "
     ]
    }
   ],
   "source": [
    "save_directory = r'C:\\Users\\DenisovDmitrii\\OneDrive - ITMO UNIVERSITY\\peopleDetector\\segGen\\weights\\baseParam'\n",
    "check_path_and_creat(save_directory)"
   ],
   "metadata": {
    "collapsed": false,
    "ExecuteTime": {
     "end_time": "2023-06-09T16:41:06.369482700Z",
     "start_time": "2023-06-09T16:41:06.353501900Z"
    }
   }
  },
  {
   "cell_type": "code",
   "execution_count": 15,
   "outputs": [],
   "source": [
    "trainer = Trainer(\n",
    "    model_=model, optimizer=optimizer, criterion=criterion,\n",
    "    device=device, save_directory=save_directory, save_step=1, verbose=True\n",
    ")"
   ],
   "metadata": {
    "collapsed": false,
    "ExecuteTime": {
     "end_time": "2023-06-09T16:41:10.294541500Z",
     "start_time": "2023-06-09T16:41:10.285009800Z"
    }
   }
  },
  {
   "cell_type": "code",
   "execution_count": 16,
   "outputs": [],
   "source": [
    "epoch_num=40"
   ],
   "metadata": {
    "collapsed": false,
    "ExecuteTime": {
     "end_time": "2023-06-09T16:41:11.001490Z",
     "start_time": "2023-06-09T16:41:10.991664900Z"
    }
   }
  },
  {
   "cell_type": "code",
   "execution_count": 17,
   "outputs": [
    {
     "name": "stdout",
     "output_type": "stream",
     "text": [
      "start time 10-06-2023 08:46\n"
     ]
    },
    {
     "name": "stderr",
     "output_type": "stream",
     "text": [
      "  0%|          | 0/364 [00:00<?, ?it/s]Exception ignored in: <generator object tqdm.__iter__ at 0x000002134EDCA120>\n",
      "Traceback (most recent call last):\n",
      "  File \"C:\\Users\\Даша\\PycharmProjects\\SMBackEnd\\venv\\lib\\site-packages\\tqdm\\std.py\", line 1196, in __iter__\n",
      "KeyboardInterrupt: \n",
      "  0%|          | 0/364 [00:21<?, ?it/s]\n",
      "\n",
      "KeyboardInterrupt\n",
      "\n"
     ]
    }
   ],
   "source": [
    "trainer.train(train_dataloader=train_dataloader, val_dataloader=val_dataloader, epoch_num=epoch_num)"
   ],
   "metadata": {
    "collapsed": false,
    "ExecuteTime": {
     "end_time": "2023-06-09T16:41:13.812585700Z",
     "start_time": "2023-06-09T16:41:11.487799400Z"
    }
   }
  },
  {
   "cell_type": "code",
   "execution_count": null,
   "outputs": [],
   "source": [
    "trainer.draw_history_plots()"
   ],
   "metadata": {
    "collapsed": false
   }
  },
  {
   "cell_type": "code",
   "execution_count": null,
   "outputs": [],
   "source": [
    "trainer.save_history_plots(save_directory)"
   ],
   "metadata": {
    "collapsed": false
   }
  },
  {
   "cell_type": "markdown",
   "source": [
    "わたしの最後はあなたがいい"
   ],
   "metadata": {
    "collapsed": false
   }
  },
  {
   "cell_type": "code",
   "execution_count": null,
   "outputs": [],
   "source": [
    "model = load_model(model, r'C:\\Users\\DenisovDmitrii\\OneDrive - ITMO UNIVERSITY\\peopleDetector\\segmentationMulty\\weights\\testMulty_out_12_6features_noGauss\\epoch_39.pt')"
   ],
   "metadata": {
    "collapsed": false
   }
  },
  {
   "cell_type": "code",
   "execution_count": null,
   "outputs": [],
   "source": [
    "test_dataset = SegGenDataset(image_dir=r\"\",\n",
    "                        augment=augment)\n",
    "test_dataloader = DataLoader(test_dataset, batch_size=1)"
   ],
   "metadata": {
    "collapsed": false
   }
  },
  {
   "cell_type": "code",
   "execution_count": null,
   "outputs": [],
   "source": [
    "for input_, target in test_dataloader:\n",
    "    result = model(input_)\n",
    "\n",
    "    result = result.squueze(0)\n",
    "\n",
    "    fig, axes = plt.subplots(2, 3)\n",
    "\n",
    "    for i in range(3):\n",
    "        axes[0,i].imshow(np.array(topil(result[i])), cmap = 'gray')\n",
    "        axes[1,i]. imshow(np.array(topil(target[i])), cmap = 'gray')\n",
    "    break"
   ],
   "metadata": {
    "collapsed": false
   }
  }
 ],
 "metadata": {
  "kernelspec": {
   "display_name": "Python 3",
   "language": "python",
   "name": "python3"
  },
  "language_info": {
   "codemirror_mode": {
    "name": "ipython",
    "version": 2
   },
   "file_extension": ".py",
   "mimetype": "text/x-python",
   "name": "python",
   "nbconvert_exporter": "python",
   "pygments_lexer": "ipython2",
   "version": "2.7.6"
  }
 },
 "nbformat": 4,
 "nbformat_minor": 0
}
