{
 "cells": [
  {
   "cell_type": "markdown",
   "source": [
    "# Импорт"
   ],
   "metadata": {
    "collapsed": false
   }
  },
  {
   "cell_type": "code",
   "execution_count": 1,
   "outputs": [],
   "source": [
    "import os\n",
    "\n",
    "import matplotlib.pyplot as plt\n",
    "import numpy as np\n",
    "import PIL.Image as Image\n",
    "\n",
    "import torch\n",
    "import torch.nn as nn\n",
    "from torch.utils.data import DataLoader\n",
    "import torchvision.transforms as transforms\n",
    "\n",
    "from LookGenerator.datasets.refinement_dataset import RefinementDiscriminatorDataset\n",
    "from LookGenerator.networks.refinement import RefinementDiscriminator\n",
    "from LookGenerator.networks.trainer import Trainer\n",
    "from LookGenerator.networks_training.utils import check_path_and_creat\n",
    "import LookGenerator.datasets.transforms as custom_transforms"
   ],
   "metadata": {
    "collapsed": false
   }
  },
  {
   "cell_type": "markdown",
   "source": [
    "# Загрузка данных"
   ],
   "metadata": {
    "collapsed": false
   }
  },
  {
   "cell_type": "code",
   "execution_count": 2,
   "outputs": [],
   "source": [
    "transform = transforms.Compose([\n",
    "    transforms.Resize((256, 192)),\n",
    "    custom_transforms.MinMaxScale()\n",
    "])"
   ],
   "metadata": {
    "collapsed": false
   }
  },
  {
   "cell_type": "code",
   "execution_count": 3,
   "outputs": [],
   "source": [
    "batch_size_train = 32\n",
    "batch_size_val = 16\n",
    "pin_memory = True\n",
    "num_workers = 0"
   ],
   "metadata": {
    "collapsed": false
   }
  },
  {
   "cell_type": "code",
   "execution_count": 4,
   "outputs": [],
   "source": [
    "train_dataset = RefinementDiscriminatorDataset(\n",
    "    fake_images_dir=r\"C:\\Users\\DenisovDmitrii\\Desktop\\forRefinement\\train\",\n",
    "    real_images_dir=r\"C:\\Users\\DenisovDmitrii\\Desktop\\forEncoder\\train\\image\",\n",
    "    transform=transform\n",
    ")\n",
    "\n",
    "val_dataset = RefinementDiscriminatorDataset(\n",
    "    fake_images_dir=r\"C:\\Users\\DenisovDmitrii\\Desktop\\forRefinement\\val\",\n",
    "    real_images_dir=r\"C:\\Users\\DenisovDmitrii\\Desktop\\forEncoder\\val\\image\",\n",
    "    transform=transform\n",
    ")"
   ],
   "metadata": {
    "collapsed": false
   }
  },
  {
   "cell_type": "code",
   "execution_count": 5,
   "outputs": [],
   "source": [
    "train_dataloader = DataLoader(\n",
    "    train_dataset, batch_size=batch_size_train, shuffle=True, pin_memory=pin_memory, num_workers=num_workers\n",
    ")\n",
    "\n",
    "val_dataloader = DataLoader(\n",
    "    val_dataset, batch_size=batch_size_val, shuffle=False, pin_memory=pin_memory, num_workers=num_workers\n",
    ")"
   ],
   "metadata": {
    "collapsed": false
   }
  },
  {
   "cell_type": "markdown",
   "source": [
    "# Обучение модели"
   ],
   "metadata": {
    "collapsed": false
   }
  },
  {
   "cell_type": "code",
   "execution_count": 6,
   "outputs": [
    {
     "name": "stdout",
     "output_type": "stream",
     "text": [
      "cuda\n"
     ]
    }
   ],
   "source": [
    "model = RefinementDiscriminator()\n",
    "optimizer = torch.optim.Adam(model.parameters(), lr=5e-5)\n",
    "\n",
    "device = 'cuda' if torch.cuda.is_available() else 'cpu'\n",
    "criterion = nn.BCELoss()\n",
    "print(device)"
   ],
   "metadata": {
    "collapsed": false
   }
  },
  {
   "cell_type": "code",
   "execution_count": 7,
   "outputs": [
    {
     "data": {
      "text/plain": "True"
     },
     "execution_count": 7,
     "metadata": {},
     "output_type": "execute_result"
    }
   ],
   "source": [
    "save_directory=r\"C:\\Users\\DenisovDmitrii\\OneDrive - ITMO UNIVERSITY\\peopleDetector\\refinement\\weights\\discriminator_pretrained\\session1\"\n",
    "check_path_and_creat(save_directory)"
   ],
   "metadata": {
    "collapsed": false
   }
  },
  {
   "cell_type": "code",
   "execution_count": 8,
   "outputs": [],
   "source": [
    "torch.backends.cuda.matmul.allow_tf32 = False\n",
    "torch.backends.cudnn.benchmark = True"
   ],
   "metadata": {
    "collapsed": false
   }
  },
  {
   "cell_type": "code",
   "execution_count": 9,
   "outputs": [
    {
     "name": "stdout",
     "output_type": "stream",
     "text": [
      "----------------------------------------------------------------\n",
      "        Layer (type)               Output Shape         Param #\n",
      "================================================================\n",
      "            Conv2d-1          [-1, 8, 256, 192]             224\n",
      "              ReLU-2          [-1, 8, 256, 192]               0\n",
      "              ReLU-3          [-1, 8, 256, 192]               0\n",
      "           Conv3x3-4          [-1, 8, 256, 192]               0\n",
      "            Conv2d-5          [-1, 8, 256, 192]             584\n",
      "           Conv3x3-6          [-1, 8, 256, 192]               0\n",
      "              ReLU-7          [-1, 8, 256, 192]               0\n",
      "              ReLU-8          [-1, 8, 256, 192]               0\n",
      "           Conv5x5-9          [-1, 8, 256, 192]               0\n",
      "           Conv2d-10           [-1, 8, 128, 96]           1,024\n",
      "           Conv2d-11          [-1, 16, 128, 96]           1,168\n",
      "             ReLU-12          [-1, 16, 128, 96]               0\n",
      "             ReLU-13          [-1, 16, 128, 96]               0\n",
      "          Conv3x3-14          [-1, 16, 128, 96]               0\n",
      "           Conv2d-15          [-1, 16, 128, 96]           2,320\n",
      "          Conv3x3-16          [-1, 16, 128, 96]               0\n",
      "             ReLU-17          [-1, 16, 128, 96]               0\n",
      "             ReLU-18          [-1, 16, 128, 96]               0\n",
      "          Conv5x5-19          [-1, 16, 128, 96]               0\n",
      "           Conv2d-20           [-1, 16, 64, 48]           4,096\n",
      "           Conv2d-21           [-1, 32, 64, 48]           4,640\n",
      "             ReLU-22           [-1, 32, 64, 48]               0\n",
      "             ReLU-23           [-1, 32, 64, 48]               0\n",
      "          Conv3x3-24           [-1, 32, 64, 48]               0\n",
      "           Conv2d-25           [-1, 32, 64, 48]           9,248\n",
      "          Conv3x3-26           [-1, 32, 64, 48]               0\n",
      "             ReLU-27           [-1, 32, 64, 48]               0\n",
      "             ReLU-28           [-1, 32, 64, 48]               0\n",
      "          Conv5x5-29           [-1, 32, 64, 48]               0\n",
      "           Conv2d-30           [-1, 32, 32, 24]          16,384\n",
      "           Conv2d-31           [-1, 64, 32, 24]          18,496\n",
      "             ReLU-32           [-1, 64, 32, 24]               0\n",
      "             ReLU-33           [-1, 64, 32, 24]               0\n",
      "          Conv3x3-34           [-1, 64, 32, 24]               0\n",
      "           Conv2d-35           [-1, 64, 32, 24]          36,928\n",
      "          Conv3x3-36           [-1, 64, 32, 24]               0\n",
      "             ReLU-37           [-1, 64, 32, 24]               0\n",
      "             ReLU-38           [-1, 64, 32, 24]               0\n",
      "          Conv5x5-39           [-1, 64, 32, 24]               0\n",
      "           Conv2d-40           [-1, 64, 16, 12]          65,536\n",
      "           Conv2d-41          [-1, 128, 16, 12]          73,856\n",
      "             ReLU-42          [-1, 128, 16, 12]               0\n",
      "             ReLU-43          [-1, 128, 16, 12]               0\n",
      "          Conv3x3-44          [-1, 128, 16, 12]               0\n",
      "           Conv2d-45          [-1, 128, 16, 12]         147,584\n",
      "          Conv3x3-46          [-1, 128, 16, 12]               0\n",
      "             ReLU-47          [-1, 128, 16, 12]               0\n",
      "             ReLU-48          [-1, 128, 16, 12]               0\n",
      "          Conv5x5-49          [-1, 128, 16, 12]               0\n",
      "           Conv2d-50              [-1, 8, 8, 6]          16,384\n",
      "          Flatten-51                  [-1, 384]               0\n",
      "================================================================\n",
      "Total params: 398,472\n",
      "Trainable params: 398,472\n",
      "Non-trainable params: 0\n",
      "----------------------------------------------------------------\n",
      "Input size (MB): 0.56\n",
      "Forward/backward pass size (MB): 53.72\n",
      "Params size (MB): 1.52\n",
      "Estimated Total Size (MB): 55.81\n",
      "----------------------------------------------------------------\n"
     ]
    }
   ],
   "source": [
    "from torchsummary import summary\n",
    "model.to(device)\n",
    "summary(model.features, (3, 256, 192))\n"
   ],
   "metadata": {
    "collapsed": false
   }
  },
  {
   "cell_type": "code",
   "execution_count": 10,
   "outputs": [],
   "source": [
    "trainer = Trainer(\n",
    "    model_=model,\n",
    "    optimizer=optimizer,\n",
    "    criterion=criterion,\n",
    "    device=device,\n",
    "    save_directory=save_directory,\n",
    "    save_step=1,\n",
    "    verbose=True\n",
    ")"
   ],
   "metadata": {
    "collapsed": false
   }
  },
  {
   "cell_type": "code",
   "execution_count": 11,
   "outputs": [
    {
     "name": "stdout",
     "output_type": "stream",
     "text": [
      "start time 29-03-2023 18:42\n"
     ]
    },
    {
     "name": "stderr",
     "output_type": "stream",
     "text": [
      "  0%|          | 0/728 [00:00<?, ?it/s]C:\\Users\\DenisovDmitrii\\AppData\\Local\\Programs\\Python\\Python311\\Lib\\site-packages\\torchvision\\transforms\\functional.py:1603: UserWarning: The default value of the antialias parameter of all the resizing transforms (Resize(), RandomResizedCrop(), etc.) will change from None to True in v0.17, in order to be consistent across the PIL and Tensor backends. To suppress this warning, directly pass antialias=True (recommended, future default), antialias=None (current default, which means False for Tensors and True for PIL), or antialias=False (only works on Tensors - PIL will still use antialiasing). This also applies if you are using the inference transforms from the models weights: update the call to weights.transforms(antialias=True).\n",
      "  warnings.warn(\n",
      " 20%|██        | 147/728 [00:30<02:01,  4.77it/s]\n"
     ]
    },
    {
     "ename": "KeyboardInterrupt",
     "evalue": "",
     "output_type": "error",
     "traceback": [
      "\u001B[1;31m---------------------------------------------------------------------------\u001B[0m",
      "\u001B[1;31mKeyboardInterrupt\u001B[0m                         Traceback (most recent call last)",
      "Cell \u001B[1;32mIn[11], line 1\u001B[0m\n\u001B[1;32m----> 1\u001B[0m \u001B[43mtrainer\u001B[49m\u001B[38;5;241;43m.\u001B[39;49m\u001B[43mtrain\u001B[49m\u001B[43m(\u001B[49m\u001B[43mtrain_dataloader\u001B[49m\u001B[43m,\u001B[49m\u001B[43m \u001B[49m\u001B[43mval_dataloader\u001B[49m\u001B[43m,\u001B[49m\u001B[43m \u001B[49m\u001B[43mepoch_num\u001B[49m\u001B[38;5;241;43m=\u001B[39;49m\u001B[38;5;241;43m3\u001B[39;49m\u001B[43m)\u001B[49m\n",
      "File \u001B[1;32mC:\\python\\SMBackEnd\\LookGenerator\\networks\\trainer.py:57\u001B[0m, in \u001B[0;36mTrainer.train\u001B[1;34m(self, train_dataloader, val_dataloader, epoch_num)\u001B[0m\n\u001B[0;32m     53\u001B[0m \u001B[38;5;28mprint\u001B[39m(\u001B[38;5;124m\"\u001B[39m\u001B[38;5;124mstart time\u001B[39m\u001B[38;5;124m\"\u001B[39m, start\u001B[38;5;241m.\u001B[39mstrftime(\u001B[38;5;124m\"\u001B[39m\u001B[38;5;132;01m%d\u001B[39;00m\u001B[38;5;124m-\u001B[39m\u001B[38;5;124m%\u001B[39m\u001B[38;5;124mm-\u001B[39m\u001B[38;5;124m%\u001B[39m\u001B[38;5;124mY \u001B[39m\u001B[38;5;124m%\u001B[39m\u001B[38;5;124mH:\u001B[39m\u001B[38;5;124m%\u001B[39m\u001B[38;5;124mM\u001B[39m\u001B[38;5;124m\"\u001B[39m))\n\u001B[0;32m     55\u001B[0m \u001B[38;5;28;01mfor\u001B[39;00m epoch \u001B[38;5;129;01min\u001B[39;00m \u001B[38;5;28mrange\u001B[39m(epoch_num):\n\u001B[0;32m     56\u001B[0m     \u001B[38;5;66;03m# Train\u001B[39;00m\n\u001B[1;32m---> 57\u001B[0m     train_loss \u001B[38;5;241m=\u001B[39m \u001B[38;5;28;43mself\u001B[39;49m\u001B[38;5;241;43m.\u001B[39;49m\u001B[43m_train_epoch\u001B[49m\u001B[43m(\u001B[49m\u001B[43mtrain_dataloader\u001B[49m\u001B[43m)\u001B[49m\n\u001B[0;32m     58\u001B[0m     \u001B[38;5;28mself\u001B[39m\u001B[38;5;241m.\u001B[39mtrain_history_epochs\u001B[38;5;241m.\u001B[39mappend(train_loss)\n\u001B[0;32m     59\u001B[0m     \u001B[38;5;28;01mif\u001B[39;00m \u001B[38;5;28mself\u001B[39m\u001B[38;5;241m.\u001B[39mverbose:\n",
      "File \u001B[1;32mC:\\python\\SMBackEnd\\LookGenerator\\networks\\trainer.py:107\u001B[0m, in \u001B[0;36mTrainer._train_epoch\u001B[1;34m(self, train_dataloader)\u001B[0m\n\u001B[0;32m    104\u001B[0m loss\u001B[38;5;241m.\u001B[39mbackward()\n\u001B[0;32m    105\u001B[0m \u001B[38;5;28mself\u001B[39m\u001B[38;5;241m.\u001B[39moptimizer\u001B[38;5;241m.\u001B[39mstep()\n\u001B[1;32m--> 107\u001B[0m loss_number \u001B[38;5;241m=\u001B[39m \u001B[43mloss\u001B[49m\u001B[38;5;241;43m.\u001B[39;49m\u001B[43mitem\u001B[49m\u001B[43m(\u001B[49m\u001B[43m)\u001B[49m\n\u001B[0;32m    108\u001B[0m train_running_loss \u001B[38;5;241m+\u001B[39m\u001B[38;5;241m=\u001B[39m loss_number\n\u001B[0;32m    109\u001B[0m \u001B[38;5;28mself\u001B[39m\u001B[38;5;241m.\u001B[39mtrain_history_batches\u001B[38;5;241m.\u001B[39mappend(loss_number)\n",
      "\u001B[1;31mKeyboardInterrupt\u001B[0m: "
     ]
    }
   ],
   "source": [
    "trainer.train(train_dataloader, val_dataloader, epoch_num=3)"
   ],
   "metadata": {
    "collapsed": false
   }
  },
  {
   "cell_type": "code",
   "execution_count": null,
   "outputs": [],
   "source": [
    "trainer.draw_history_plots()"
   ],
   "metadata": {
    "collapsed": false
   }
  }
 ],
 "metadata": {
  "kernelspec": {
   "display_name": "Python 3",
   "language": "python",
   "name": "python3"
  },
  "language_info": {
   "codemirror_mode": {
    "name": "ipython",
    "version": 2
   },
   "file_extension": ".py",
   "mimetype": "text/x-python",
   "name": "python",
   "nbconvert_exporter": "python",
   "pygments_lexer": "ipython2",
   "version": "2.7.6"
  }
 },
 "nbformat": 4,
 "nbformat_minor": 0
}
