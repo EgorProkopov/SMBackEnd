{
 "cells": [
  {
   "cell_type": "markdown",
   "source": [
    "# Импорт"
   ],
   "metadata": {
    "collapsed": false
   }
  },
  {
   "cell_type": "code",
   "execution_count": 1,
   "outputs": [],
   "source": [
    "import os\n",
    "\n",
    "import matplotlib.pyplot as plt\n",
    "import numpy as np\n",
    "import PIL.Image as Image\n",
    "\n",
    "import torch\n",
    "from tqdm import tqdm\n",
    "import torch.nn as nn\n",
    "from torch.utils.data import DataLoader\n",
    "import torchvision.transforms as transforms\n",
    "\n",
    "from LookGenerator.datasets.refinement_dataset import RefinementDiscriminatorDataset\n",
    "from LookGenerator.networks.refinement import RefinementDiscriminator\n",
    "from LookGenerator.networks.trainer import Trainer\n",
    "from LookGenerator.networks_training.utils import check_path_and_creat\n",
    "from LookGenerator.networks.losses import WassersteinLoss, GradientPenalty\n",
    "import LookGenerator.datasets.transforms as custom_transforms"
   ],
   "metadata": {
    "collapsed": false
   }
  },
  {
   "cell_type": "markdown",
   "source": [
    "# Загрузка данных"
   ],
   "metadata": {
    "collapsed": false
   }
  },
  {
   "cell_type": "code",
   "execution_count": 2,
   "outputs": [],
   "source": [
    "transform = transforms.Compose([\n",
    "    transforms.Resize((256, 192)),\n",
    "    custom_transforms.MinMaxScale()\n",
    "])"
   ],
   "metadata": {
    "collapsed": false
   }
  },
  {
   "cell_type": "code",
   "execution_count": 3,
   "outputs": [],
   "source": [
    "batch_size_train = 32\n",
    "batch_size_val = 16\n",
    "pin_memory = True\n",
    "num_workers = 0"
   ],
   "metadata": {
    "collapsed": false
   }
  },
  {
   "cell_type": "code",
   "execution_count": 4,
   "outputs": [],
   "source": [
    "train_dataset = RefinementDiscriminatorDataset(\n",
    "    fake_images_dir=r\"C:\\Users\\DenisovDmitrii\\Desktop\\forRefinement\\train\",\n",
    "    real_images_dir=r\"C:\\Users\\DenisovDmitrii\\Desktop\\forEncoder\\train\\image\",\n",
    "    transform=transform\n",
    ")\n",
    "\n",
    "val_dataset = RefinementDiscriminatorDataset(\n",
    "    fake_images_dir=r\"C:\\Users\\DenisovDmitrii\\Desktop\\forRefinement\\val\",\n",
    "    real_images_dir=r\"C:\\Users\\DenisovDmitrii\\Desktop\\forEncoder\\val\\image\",\n",
    "    transform=transform\n",
    ")"
   ],
   "metadata": {
    "collapsed": false
   }
  },
  {
   "cell_type": "code",
   "execution_count": 5,
   "outputs": [],
   "source": [
    "train_dataloader = DataLoader(\n",
    "    train_dataset, batch_size=batch_size_train, shuffle=True, pin_memory=pin_memory, num_workers=num_workers\n",
    ")\n",
    "\n",
    "val_dataloader = DataLoader(\n",
    "    val_dataset, batch_size=batch_size_val, shuffle=False, pin_memory=pin_memory, num_workers=num_workers\n",
    ")"
   ],
   "metadata": {
    "collapsed": false
   }
  },
  {
   "cell_type": "markdown",
   "source": [
    "# Обучение модели"
   ],
   "metadata": {
    "collapsed": false
   }
  },
  {
   "cell_type": "code",
   "execution_count": 6,
   "outputs": [
    {
     "name": "stdout",
     "output_type": "stream",
     "text": [
      "cuda\n"
     ]
    }
   ],
   "source": [
    "model = RefinementDiscriminator()\n",
    "optimizer = torch.optim.Adam(model.parameters(), lr=5e-5)\n",
    "\n",
    "device = 'cuda' if torch.cuda.is_available() else 'cpu'\n",
    "criterion = WassersteinLoss()\n",
    "gp = GradientPenalty(model, device=device)\n",
    "\n",
    "print(device)"
   ],
   "metadata": {
    "collapsed": false
   }
  },
  {
   "cell_type": "code",
   "execution_count": 7,
   "outputs": [
    {
     "data": {
      "text/plain": "True"
     },
     "execution_count": 7,
     "metadata": {},
     "output_type": "execute_result"
    }
   ],
   "source": [
    "save_directory=r\"C:\\Users\\DenisovDmitrii\\OneDrive - ITMO UNIVERSITY\\peopleDetector\\refinement\\weights\\discriminator_pretrained\\session1\"\n",
    "check_path_and_creat(save_directory)"
   ],
   "metadata": {
    "collapsed": false
   }
  },
  {
   "cell_type": "code",
   "execution_count": 8,
   "outputs": [],
   "source": [
    "torch.backends.cuda.matmul.allow_tf32 = False\n",
    "torch.backends.cudnn.benchmark = True"
   ],
   "metadata": {
    "collapsed": false
   }
  },
  {
   "cell_type": "code",
   "execution_count": 9,
   "outputs": [
    {
     "name": "stdout",
     "output_type": "stream",
     "text": [
      "----------------------------------------------------------------\n",
      "        Layer (type)               Output Shape         Param #\n",
      "================================================================\n",
      "            Conv2d-1          [-1, 8, 256, 192]             224\n",
      "              ReLU-2          [-1, 8, 256, 192]               0\n",
      "              ReLU-3          [-1, 8, 256, 192]               0\n",
      "           Conv3x3-4          [-1, 8, 256, 192]               0\n",
      "            Conv2d-5          [-1, 8, 256, 192]             584\n",
      "           Conv3x3-6          [-1, 8, 256, 192]               0\n",
      "              ReLU-7          [-1, 8, 256, 192]               0\n",
      "              ReLU-8          [-1, 8, 256, 192]               0\n",
      "           Conv5x5-9          [-1, 8, 256, 192]               0\n",
      "           Conv2d-10           [-1, 8, 128, 96]           1,024\n",
      "           Conv2d-11          [-1, 16, 128, 96]           1,168\n",
      "             ReLU-12          [-1, 16, 128, 96]               0\n",
      "             ReLU-13          [-1, 16, 128, 96]               0\n",
      "          Conv3x3-14          [-1, 16, 128, 96]               0\n",
      "           Conv2d-15          [-1, 16, 128, 96]           2,320\n",
      "          Conv3x3-16          [-1, 16, 128, 96]               0\n",
      "             ReLU-17          [-1, 16, 128, 96]               0\n",
      "             ReLU-18          [-1, 16, 128, 96]               0\n",
      "          Conv5x5-19          [-1, 16, 128, 96]               0\n",
      "           Conv2d-20           [-1, 16, 64, 48]           4,096\n",
      "           Conv2d-21           [-1, 32, 64, 48]           4,640\n",
      "             ReLU-22           [-1, 32, 64, 48]               0\n",
      "             ReLU-23           [-1, 32, 64, 48]               0\n",
      "          Conv3x3-24           [-1, 32, 64, 48]               0\n",
      "           Conv2d-25           [-1, 32, 64, 48]           9,248\n",
      "          Conv3x3-26           [-1, 32, 64, 48]               0\n",
      "             ReLU-27           [-1, 32, 64, 48]               0\n",
      "             ReLU-28           [-1, 32, 64, 48]               0\n",
      "          Conv5x5-29           [-1, 32, 64, 48]               0\n",
      "           Conv2d-30           [-1, 32, 32, 24]          16,384\n",
      "           Conv2d-31           [-1, 64, 32, 24]          18,496\n",
      "             ReLU-32           [-1, 64, 32, 24]               0\n",
      "             ReLU-33           [-1, 64, 32, 24]               0\n",
      "          Conv3x3-34           [-1, 64, 32, 24]               0\n",
      "           Conv2d-35           [-1, 64, 32, 24]          36,928\n",
      "          Conv3x3-36           [-1, 64, 32, 24]               0\n",
      "             ReLU-37           [-1, 64, 32, 24]               0\n",
      "             ReLU-38           [-1, 64, 32, 24]               0\n",
      "          Conv5x5-39           [-1, 64, 32, 24]               0\n",
      "           Conv2d-40           [-1, 64, 16, 12]          65,536\n",
      "           Conv2d-41          [-1, 128, 16, 12]          73,856\n",
      "             ReLU-42          [-1, 128, 16, 12]               0\n",
      "             ReLU-43          [-1, 128, 16, 12]               0\n",
      "          Conv3x3-44          [-1, 128, 16, 12]               0\n",
      "           Conv2d-45          [-1, 128, 16, 12]         147,584\n",
      "          Conv3x3-46          [-1, 128, 16, 12]               0\n",
      "             ReLU-47          [-1, 128, 16, 12]               0\n",
      "             ReLU-48          [-1, 128, 16, 12]               0\n",
      "          Conv5x5-49          [-1, 128, 16, 12]               0\n",
      "           Conv2d-50              [-1, 8, 8, 6]          16,384\n",
      "          Flatten-51                  [-1, 384]               0\n",
      "================================================================\n",
      "Total params: 398,472\n",
      "Trainable params: 398,472\n",
      "Non-trainable params: 0\n",
      "----------------------------------------------------------------\n",
      "Input size (MB): 0.56\n",
      "Forward/backward pass size (MB): 53.72\n",
      "Params size (MB): 1.52\n",
      "Estimated Total Size (MB): 55.81\n",
      "----------------------------------------------------------------\n"
     ]
    }
   ],
   "source": [
    "from torchsummary import summary\n",
    "model.to(device)\n",
    "summary(model.features, (3, 256, 192))\n"
   ],
   "metadata": {
    "collapsed": false
   }
  },
  {
   "cell_type": "code",
   "execution_count": null,
   "outputs": [],
   "source": [
    "def train(model, optimizer, criterion, train_dl, device, epochs):\n",
    "    model.train()\n",
    "    torch.cuda.empty_cache()\n",
    "\n",
    "    # Losses & scores\n",
    "    losses = []\n",
    "    real_scores = []\n",
    "    fake_scores = []\n",
    "\n",
    "    for epoch in range(epochs):\n",
    "        loss_per_epoch = []\n",
    "        real_score_per_epoch = []\n",
    "        fake_score_per_epoch = []\n",
    "        for iteration, images, labels in enumerate(tqdm(train_dl), 0):\n",
    "            # Train discriminator\n",
    "            # Clear discriminator gradients\n",
    "            optimizer.zero_grad()\n",
    "\n",
    "            images = images.to(device)\n",
    "\n",
    "            # Pass images through discriminator\n",
    "            preds = model(images)\n",
    "            loss = criterion(preds, labels)\n",
    "            if labels == torch.tensor([1]):\n",
    "                cur_real_score = torch.mean(preds).item()\n",
    "            else:\n",
    "                cur_fake_score = torch.mean(preds).item()\n",
    "\n",
    "\n",
    "            real_score_per_epoch.append(cur_real_score)\n",
    "            fake_score_per_epoch.append(cur_fake_score)\n",
    "            #gp = gradient_penalty(\"discriminator\", real_images, fake_images, device)\n",
    "\n",
    "            # Update discriminator weights\n",
    "            loss.backward()\n",
    "            optimizer.step()\n",
    "            loss_per_epoch.append(loss.item())\n",
    "\n",
    "        # Record losses & scores\n",
    "        losses.append(np.mean(loss_per_epoch))\n",
    "        real_scores.append(np.mean(real_score_per_epoch))\n",
    "        fake_scores.append(np.mean(fake_score_per_epoch))\n",
    "\n",
    "    return losses, real_scores, fake_scores"
   ],
   "metadata": {
    "collapsed": false
   }
  }
 ],
 "metadata": {
  "kernelspec": {
   "display_name": "Python 3",
   "language": "python",
   "name": "python3"
  },
  "language_info": {
   "codemirror_mode": {
    "name": "ipython",
    "version": 2
   },
   "file_extension": ".py",
   "mimetype": "text/x-python",
   "name": "python",
   "nbconvert_exporter": "python",
   "pygments_lexer": "ipython2",
   "version": "2.7.6"
  }
 },
 "nbformat": 4,
 "nbformat_minor": 0
}
