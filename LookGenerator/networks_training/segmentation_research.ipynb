{
 "cells": [
  {
   "cell_type": "markdown",
   "metadata": {},
   "source": [
    "<p style=\"align: center;\"><img src=\"https://raw.githubusercontent.com/dimkablin/SegmentationSM/master/src/logo2.jpg\", width=550, height=300></p>\n",
    "\n",
    "<h1 style=\"text-align: center;\"><b>Backend SM</b></h1>\n",
    "<h2 style=\"text-align: center;\"><b>Поиск архитекутуры для сегментации объекта для проекта SM </b></h2>"
   ]
  },
  {
   "cell_type": "code",
   "execution_count": 1,
   "metadata": {
    "ExecuteTime": {
     "start_time": "2023-05-19T14:04:51.837577Z",
     "end_time": "2023-05-19T14:04:51.876874Z"
    }
   },
   "outputs": [
    {
     "name": "stdout",
     "output_type": "stream",
     "text": [
      "DATASET_DIR\n",
      "BACKGROUND_DATASET\n"
     ]
    }
   ],
   "source": [
    "import os\n",
    "from LookGenerator.config.config import DatasetConfig\n",
    "\n",
    "config = DatasetConfig(os.environ)\n",
    "config.show_details()"
   ]
  },
  {
   "cell_type": "code",
   "execution_count": 2,
   "metadata": {
    "ExecuteTime": {
     "start_time": "2023-05-19T14:04:51.882394Z",
     "end_time": "2023-05-19T14:04:51.996571Z"
    }
   },
   "outputs": [
    {
     "name": "stdout",
     "output_type": "stream",
     "text": [
      " -- C:\\Users\\dimka\\PycharmProjects\\data\\zalando-hd-resized\\\n"
     ]
    }
   ],
   "source": [
    "print(config.BACKGROUND_DATASET, \"--\", config.DATASET_DIR)"
   ]
  },
  {
   "cell_type": "code",
   "execution_count": 2,
   "metadata": {
    "ExecuteTime": {
     "start_time": "2023-05-19T14:04:51.896925Z",
     "end_time": "2023-05-19T14:04:52.044059Z"
    }
   },
   "outputs": [],
   "source": []
  },
  {
   "cell_type": "markdown",
   "metadata": {},
   "source": [
    "## Инициализируем датасет и dataloader"
   ]
  },
  {
   "cell_type": "code",
   "execution_count": 1,
   "metadata": {
    "ExecuteTime": {
     "end_time": "2023-05-22T10:27:04.721165700Z",
     "start_time": "2023-05-22T10:27:01.121582500Z"
    }
   },
   "outputs": [],
   "source": [
    "from torchvision.transforms import ToTensor, ToPILImage, PILToTensor\n",
    "import torch\n",
    "from torch.utils.data import DataLoader\n",
    "import os\n",
    "import numpy as np\n",
    "from typing import Tuple\n",
    "import cv2\n",
    "import random\n",
    "\n",
    "from PIL import Image\n",
    "from torch.utils.data import Dataset\n",
    "from LookGenerator.datasets.person_segmentation_dataset import PersonSegmentationDataset\n",
    "from LookGenerator.networks.segmentation import UNet\n",
    "import albumentations\n",
    "import torchvision.transforms as transforms\n",
    "import LookGenerator.datasets.transforms as custom_transforms\n",
    "from LookGenerator.networks.losses import FocalLossBin\n",
    "from LookGenerator.networks.trainer import Trainer\n",
    "from LookGenerator.networks_training.utils import check_path_and_creat"
   ]
  },
  {
   "cell_type": "markdown",
   "metadata": {},
   "source": [
    "Напишем датасет, который будет в себе хранить названия всех файлов и загружать их в методе \\_\\_getitem__()"
   ]
  },
  {
   "cell_type": "code",
   "execution_count": 1,
   "metadata": {
    "ExecuteTime": {
     "end_time": "2023-05-22T06:39:42.521196200Z",
     "start_time": "2023-05-22T06:39:42.517028300Z"
    }
   },
   "outputs": [],
   "source": [
    "\n"
   ]
  },
  {
   "cell_type": "markdown",
   "metadata": {},
   "source": [
    "Передадим ему путь к исходным фотографиям X и маске Y"
   ]
  },
  {
   "cell_type": "code",
   "execution_count": 2,
   "metadata": {
    "ExecuteTime": {
     "end_time": "2023-05-22T10:27:04.722169500Z",
     "start_time": "2023-05-22T10:27:04.714320400Z"
    }
   },
   "outputs": [],
   "source": [
    "transform_input = transforms.Compose([\n",
    "    transforms.Resize((256, 192)),\n",
    "    transforms.Normalize(\n",
    "        mean=[0.5, 0.5, 0.5],\n",
    "        std=[0.25, 0.25, 0.25]\n",
    "    )\n",
    "])\n",
    "\n",
    "transform_output = transforms.Compose([\n",
    "    transforms.Resize((256, 192)),\n",
    "    custom_transforms.MinMaxScale(),\n",
    "    custom_transforms.ThresholdTransform(threshold=0.5)\n",
    "])"
   ]
  },
  {
   "cell_type": "code",
   "execution_count": 3,
   "metadata": {
    "ExecuteTime": {
     "end_time": "2023-05-22T10:27:04.741402100Z",
     "start_time": "2023-05-22T10:27:04.717152300Z"
    }
   },
   "outputs": [],
   "source": [
    "# transform_image = albumentations.Compose([\n",
    "#         albumentations.Resize(height=256, width=192),\n",
    "#         albumentations.RandomBrightnessContrast(brightness_limit=(0.1,0.3), contrast_limit=(0.2,0.7), p =0.2),\n",
    "#         albumentations.Equalize(p = 0.2),\n",
    "#         albumentations.GaussNoise(p = 0.2),\n",
    "#         albumentations.Affine(translate_percent=0.1, scale=(0.8, 1), rotate=(-90,90), p=0.2),\n",
    "#         albumentations.Normalize(mean = (0.5, 0.5, 0.5), std = (0.25, 0.25, 0.25)),\n",
    "#     ])\n",
    "#\n",
    "# transform_mask = albumentations.Compose([\n",
    "#         albumentations.Resize(height=256, width=192),\n",
    "#         albumentations.Normalize(mean = (0.5, 0.5, 0.5), std = (0.25, 0.25, 0.25)),\n",
    "#     ])"
   ]
  },
  {
   "cell_type": "code",
   "execution_count": 4,
   "outputs": [],
   "source": [
    "transform_train = albumentations.Compose([\n",
    "        albumentations.Resize(height=256, width=192),\n",
    "        albumentations.RandomBrightnessContrast(brightness_limit=(0.1,0.3), contrast_limit=(0.2,0.7), p =0.2),\n",
    "        albumentations.Equalize(p = 0.2),\n",
    "        albumentations.GaussNoise(p = 0.2),\n",
    "        albumentations.Affine(translate_percent=0.1, scale=(0.8, 1), rotate=(-90,90), p=0.2),\n",
    "        albumentations.Normalize(mean = (0.5, 0.5, 0.5), std = (0.25, 0.25, 0.25)),\n",
    "    ])\n",
    "\n",
    "transform_valid = albumentations.Compose([\n",
    "        albumentations.Resize(height=256, width=192),\n",
    "        albumentations.Normalize(mean = (0.5, 0.5, 0.5), std = (0.25, 0.25, 0.25)),\n",
    "    ])"
   ],
   "metadata": {
    "collapsed": false,
    "ExecuteTime": {
     "end_time": "2023-05-22T10:27:04.742405600Z",
     "start_time": "2023-05-22T10:27:04.724851300Z"
    }
   }
  },
  {
   "cell_type": "code",
   "execution_count": 5,
   "metadata": {
    "collapsed": true,
    "ExecuteTime": {
     "end_time": "2023-05-22T10:27:04.742405600Z",
     "start_time": "2023-05-22T10:27:04.731895600Z"
    }
   },
   "outputs": [],
   "source": [
    "# train_dataset = OblDataset(image_root=os.path.join(r\"C:\\Users\\DenisovDmitrii\\Desktop\\zalando-hd-resize\", \"train\", \"image\"),\n",
    "#                            mask_root=os.path.join(r\"C:\\Users\\DenisovDmitrii\\Desktop\\zalando-hd-resize\", \"train\", \"agnostic-v3.3\"),\n",
    "#                            mask_layer=128,\n",
    "#                            image_extension=\"jpg\",\n",
    "#                            transform_input=transform_input,\n",
    "#                            transform_output=transform_output)\n",
    "#\n",
    "# val_dataset = OblDataset(image_root=os.path.join(r\"C:\\Users\\DenisovDmitrii\\Desktop\\zalando-hd-resize\", \"test\", \"image\"),\n",
    "#                          mask_root=os.path.join(r\"C:\\Users\\DenisovDmitrii\\Desktop\\zalando-hd-resize\", \"test\", \"agnostic-v3.3\"),\n",
    "#                          mask_layer=128,\n",
    "#                          image_extension=\"jpg\",\n",
    "#                          transform_input=transform_input,\n",
    "#                          transform_output=transform_output)"
   ]
  },
  {
   "cell_type": "code",
   "execution_count": 6,
   "outputs": [],
   "source": [
    "train_dataset = PersonSegmentationDataset(r\"C:\\Users\\DenisovDmitrii\\Desktop\\zalando-hd-resize\\train\", augment=transform_train)\n"
   ],
   "metadata": {
    "collapsed": false,
    "ExecuteTime": {
     "end_time": "2023-05-22T10:27:04.807672200Z",
     "start_time": "2023-05-22T10:27:04.737388200Z"
    }
   }
  },
  {
   "cell_type": "code",
   "execution_count": 7,
   "outputs": [],
   "source": [
    "val_dataset = PersonSegmentationDataset(r\"C:\\Users\\DenisovDmitrii\\Desktop\\zalando-hd-resize\\test\", augment=transform_valid)\n"
   ],
   "metadata": {
    "collapsed": false,
    "ExecuteTime": {
     "end_time": "2023-05-22T10:27:04.828945200Z",
     "start_time": "2023-05-22T10:27:04.802654300Z"
    }
   }
  },
  {
   "cell_type": "markdown",
   "metadata": {},
   "source": [
    "Проверим его корректность работы и выведем парочку"
   ]
  },
  {
   "cell_type": "code",
   "execution_count": 8,
   "metadata": {
    "ExecuteTime": {
     "end_time": "2023-05-22T10:27:04.829948700Z",
     "start_time": "2023-05-22T10:27:04.816703200Z"
    }
   },
   "outputs": [],
   "source": [
    "import matplotlib.pyplot as plt\n",
    "\n",
    "def _print(image, mask):\n",
    "    fig = plt.figure(figsize=(20, 14))\n",
    "\n",
    "    fig.add_subplot( 1, 2, 1)\n",
    "    plt.imshow(image.numpy().transpose(1, 2, 0))\n",
    "\n",
    "    fig.add_subplot( 1, 2, 2)\n",
    "    plt.imshow(mask[0], cmap='gray')"
   ]
  },
  {
   "cell_type": "code",
   "execution_count": 9,
   "metadata": {
    "ExecuteTime": {
     "end_time": "2023-05-22T10:27:05.177945800Z",
     "start_time": "2023-05-22T10:27:04.820917500Z"
    }
   },
   "outputs": [
    {
     "name": "stderr",
     "output_type": "stream",
     "text": [
      "Clipping input data to the valid range for imshow with RGB data ([0..1] for floats or [0..255] for integers).\n"
     ]
    },
    {
     "name": "stdout",
     "output_type": "stream",
     "text": [
      "torch.Size([3, 256, 192]) torch.Size([1, 256, 192]) 5408\n"
     ]
    },
    {
     "data": {
      "text/plain": "<Figure size 2000x1400 with 2 Axes>",
      "image/png": "[encoded data removed]"
     },
     "metadata": {},
     "output_type": "display_data"
    }
   ],
   "source": [
    "number = np.random.randint(0, 11647)\n",
    "\n",
    "\n",
    "image, mask = train_dataset.__getitem__(number)\n",
    "print(image.shape, mask.shape, number)\n",
    "_print(image, mask)\n"
   ]
  },
  {
   "cell_type": "markdown",
   "metadata": {},
   "source": [
    "Поделим датасет на тренировочную, валидационную и тестовую"
   ]
  },
  {
   "cell_type": "code",
   "execution_count": 10,
   "metadata": {
    "ExecuteTime": {
     "end_time": "2023-05-22T10:27:05.177945800Z",
     "start_time": "2023-05-22T10:27:05.175032700Z"
    }
   },
   "outputs": [],
   "source": [
    "batch_size_train = 32 * 2\n",
    "batch_size_val = 16 * 2\n",
    "pin_memory = True\n",
    "num_workers = 8\n",
    "train_dataloader = DataLoader(train_dataset, batch_size=batch_size_train, shuffle=True, pin_memory=pin_memory, num_workers=num_workers)\n",
    "val_dataloader = DataLoader(val_dataset, batch_size=batch_size_val, shuffle=False, pin_memory=pin_memory, num_workers=num_workers)\n"
   ]
  },
  {
   "cell_type": "markdown",
   "metadata": {},
   "source": [
    "## Реализируем основной цикл обучения"
   ]
  },
  {
   "cell_type": "code",
   "execution_count": 10,
   "metadata": {
    "ExecuteTime": {
     "end_time": "2023-05-22T10:27:05.203534300Z",
     "start_time": "2023-05-22T10:27:05.177945800Z"
    }
   },
   "outputs": [],
   "source": []
  },
  {
   "cell_type": "markdown",
   "metadata": {},
   "source": [
    "# Обучение"
   ]
  },
  {
   "cell_type": "markdown",
   "metadata": {},
   "source": [
    "## Architectures\n",
    "### 1. our Unet"
   ]
  },
  {
   "cell_type": "code",
   "execution_count": 11,
   "metadata": {
    "ExecuteTime": {
     "end_time": "2023-05-22T10:27:05.401969900Z",
     "start_time": "2023-05-22T10:27:05.179450600Z"
    }
   },
   "outputs": [],
   "source": [
    "model_unet = UNet(in_channels=3, out_channels = 1)"
   ]
  },
  {
   "cell_type": "code",
   "execution_count": 12,
   "metadata": {
    "ExecuteTime": {
     "end_time": "2023-05-22T10:27:05.401969900Z",
     "start_time": "2023-05-22T10:27:05.268190Z"
    }
   },
   "outputs": [],
   "source": [
    "#model = load_model(model, r'')                 # активировать, если модель надо загрузить и дообучить\n",
    "optimizer = torch.optim.Adam(model_unet.parameters(), lr = 1e-3)\n",
    "device = 'cuda' if torch.cuda.is_available() else 'cpu'\n",
    "criterion = FocalLossBin()\n",
    "torch.backends.cuda.matmul.allow_tf32 = False\n",
    "torch.backends.cudnn.benchmark = True"
   ]
  },
  {
   "cell_type": "code",
   "execution_count": 15,
   "metadata": {
    "ExecuteTime": {
     "end_time": "2023-05-20T16:46:11.565234500Z",
     "start_time": "2023-05-20T16:46:11.559213600Z"
    }
   },
   "outputs": [
    {
     "data": {
      "text/plain": "True"
     },
     "execution_count": 15,
     "metadata": {},
     "output_type": "execute_result"
    }
   ],
   "source": [
    "save_directory = r\"C:\\Users\\DenisovDmitrii\\OneDrive - ITMO UNIVERSITY\\peopleDetector\\segmetationBackground\\weights\\testResults\"\n",
    "check_path_and_creat(save_directory)\n"
   ]
  },
  {
   "cell_type": "code",
   "execution_count": 16,
   "metadata": {
    "ExecuteTime": {
     "end_time": "2023-05-20T16:46:13.641176800Z",
     "start_time": "2023-05-20T16:46:13.635659100Z"
    }
   },
   "outputs": [],
   "source": [
    "epoch_num = 30"
   ]
  },
  {
   "cell_type": "code",
   "execution_count": 17,
   "metadata": {
    "ExecuteTime": {
     "end_time": "2023-05-20T16:46:14.700842400Z",
     "start_time": "2023-05-20T16:46:14.696327700Z"
    }
   },
   "outputs": [],
   "source": [
    "trainer = Trainer(\n",
    "    model_=model_unet, optimizer=optimizer, criterion = criterion,\n",
    "    device=device, save_directory=save_directory, save_step=1, verbose=True\n",
    ")"
   ]
  },
  {
   "cell_type": "code",
   "execution_count": 18,
   "metadata": {
    "ExecuteTime": {
     "end_time": "2023-05-20T17:48:51.626329400Z",
     "start_time": "2023-05-20T16:46:16.021685800Z"
    }
   },
   "outputs": [
    {
     "name": "stdout",
     "output_type": "stream",
     "text": [
      "start time 20-05-2023 19:46\n"
     ]
    },
    {
     "name": "stderr",
     "output_type": "stream",
     "text": [
      "100%|██████████| 364/364 [02:46<00:00,  2.19it/s]\n"
     ]
    },
    {
     "name": "stdout",
     "output_type": "stream",
     "text": [
      "Epoch 0 of 29, train loss: 0.01239\n",
      "Epoch end time 20-05-2023 19:49\n"
     ]
    },
    {
     "name": "stderr",
     "output_type": "stream",
     "text": [
      "100%|██████████| 127/127 [00:11<00:00, 11.32it/s]\n"
     ]
    },
    {
     "name": "stdout",
     "output_type": "stream",
     "text": [
      "Epoch 0 of 29, val loss: 0.00232\n",
      "Epoch end time 20-05-2023 19:49\n"
     ]
    },
    {
     "name": "stderr",
     "output_type": "stream",
     "text": [
      "100%|██████████| 364/364 [01:59<00:00,  3.05it/s]\n"
     ]
    },
    {
     "name": "stdout",
     "output_type": "stream",
     "text": [
      "Epoch 1 of 29, train loss: 0.00225\n",
      "Epoch end time 20-05-2023 19:51\n"
     ]
    },
    {
     "name": "stderr",
     "output_type": "stream",
     "text": [
      "100%|██████████| 127/127 [00:09<00:00, 13.19it/s]\n"
     ]
    },
    {
     "name": "stdout",
     "output_type": "stream",
     "text": [
      "Epoch 1 of 29, val loss: 0.00124\n",
      "Epoch end time 20-05-2023 19:51\n"
     ]
    },
    {
     "name": "stderr",
     "output_type": "stream",
     "text": [
      "100%|██████████| 364/364 [01:58<00:00,  3.07it/s]\n"
     ]
    },
    {
     "name": "stdout",
     "output_type": "stream",
     "text": [
      "Epoch 2 of 29, train loss: 0.00137\n",
      "Epoch end time 20-05-2023 19:53\n"
     ]
    },
    {
     "name": "stderr",
     "output_type": "stream",
     "text": [
      "100%|██████████| 127/127 [00:09<00:00, 13.39it/s]\n"
     ]
    },
    {
     "name": "stdout",
     "output_type": "stream",
     "text": [
      "Epoch 2 of 29, val loss: 0.00121\n",
      "Epoch end time 20-05-2023 19:53\n"
     ]
    },
    {
     "name": "stderr",
     "output_type": "stream",
     "text": [
      "100%|██████████| 364/364 [01:56<00:00,  3.12it/s]\n"
     ]
    },
    {
     "name": "stdout",
     "output_type": "stream",
     "text": [
      "Epoch 3 of 29, train loss: 0.00110\n",
      "Epoch end time 20-05-2023 19:55\n"
     ]
    },
    {
     "name": "stderr",
     "output_type": "stream",
     "text": [
      "100%|██████████| 127/127 [00:11<00:00, 10.96it/s]\n"
     ]
    },
    {
     "name": "stdout",
     "output_type": "stream",
     "text": [
      "Epoch 3 of 29, val loss: 0.00071\n",
      "Epoch end time 20-05-2023 19:55\n"
     ]
    },
    {
     "name": "stderr",
     "output_type": "stream",
     "text": [
      "100%|██████████| 364/364 [01:59<00:00,  3.04it/s]\n"
     ]
    },
    {
     "name": "stdout",
     "output_type": "stream",
     "text": [
      "Epoch 4 of 29, train loss: 0.00084\n",
      "Epoch end time 20-05-2023 19:57\n"
     ]
    },
    {
     "name": "stderr",
     "output_type": "stream",
     "text": [
      "100%|██████████| 127/127 [00:09<00:00, 13.46it/s]\n"
     ]
    },
    {
     "name": "stdout",
     "output_type": "stream",
     "text": [
      "Epoch 4 of 29, val loss: 0.00066\n",
      "Epoch end time 20-05-2023 19:57\n"
     ]
    },
    {
     "name": "stderr",
     "output_type": "stream",
     "text": [
      "100%|██████████| 364/364 [01:55<00:00,  3.15it/s]\n"
     ]
    },
    {
     "name": "stdout",
     "output_type": "stream",
     "text": [
      "Epoch 5 of 29, train loss: 0.00077\n",
      "Epoch end time 20-05-2023 19:59\n"
     ]
    },
    {
     "name": "stderr",
     "output_type": "stream",
     "text": [
      "100%|██████████| 127/127 [00:09<00:00, 13.61it/s]\n"
     ]
    },
    {
     "name": "stdout",
     "output_type": "stream",
     "text": [
      "Epoch 5 of 29, val loss: 0.00062\n",
      "Epoch end time 20-05-2023 19:59\n"
     ]
    },
    {
     "name": "stderr",
     "output_type": "stream",
     "text": [
      "100%|██████████| 364/364 [01:55<00:00,  3.15it/s]\n"
     ]
    },
    {
     "name": "stdout",
     "output_type": "stream",
     "text": [
      "Epoch 6 of 29, train loss: 0.00068\n",
      "Epoch end time 20-05-2023 20:01\n"
     ]
    },
    {
     "name": "stderr",
     "output_type": "stream",
     "text": [
      "100%|██████████| 127/127 [00:09<00:00, 13.67it/s]\n"
     ]
    },
    {
     "name": "stdout",
     "output_type": "stream",
     "text": [
      "Epoch 6 of 29, val loss: 0.00049\n",
      "Epoch end time 20-05-2023 20:01\n"
     ]
    },
    {
     "name": "stderr",
     "output_type": "stream",
     "text": [
      "100%|██████████| 364/364 [01:55<00:00,  3.15it/s]\n"
     ]
    },
    {
     "name": "stdout",
     "output_type": "stream",
     "text": [
      "Epoch 7 of 29, train loss: 0.00064\n",
      "Epoch end time 20-05-2023 20:03\n"
     ]
    },
    {
     "name": "stderr",
     "output_type": "stream",
     "text": [
      "100%|██████████| 127/127 [00:09<00:00, 13.69it/s]\n"
     ]
    },
    {
     "name": "stdout",
     "output_type": "stream",
     "text": [
      "Epoch 7 of 29, val loss: 0.00041\n",
      "Epoch end time 20-05-2023 20:04\n"
     ]
    },
    {
     "name": "stderr",
     "output_type": "stream",
     "text": [
      "100%|██████████| 364/364 [01:54<00:00,  3.18it/s]\n"
     ]
    },
    {
     "name": "stdout",
     "output_type": "stream",
     "text": [
      "Epoch 8 of 29, train loss: 0.00053\n",
      "Epoch end time 20-05-2023 20:05\n"
     ]
    },
    {
     "name": "stderr",
     "output_type": "stream",
     "text": [
      "100%|██████████| 127/127 [00:09<00:00, 13.72it/s]\n"
     ]
    },
    {
     "name": "stdout",
     "output_type": "stream",
     "text": [
      "Epoch 8 of 29, val loss: 0.00045\n",
      "Epoch end time 20-05-2023 20:06\n"
     ]
    },
    {
     "name": "stderr",
     "output_type": "stream",
     "text": [
      "100%|██████████| 364/364 [01:54<00:00,  3.19it/s]\n"
     ]
    },
    {
     "name": "stdout",
     "output_type": "stream",
     "text": [
      "Epoch 9 of 29, train loss: 0.00052\n",
      "Epoch end time 20-05-2023 20:08\n"
     ]
    },
    {
     "name": "stderr",
     "output_type": "stream",
     "text": [
      "100%|██████████| 127/127 [00:09<00:00, 13.70it/s]\n"
     ]
    },
    {
     "name": "stdout",
     "output_type": "stream",
     "text": [
      "Epoch 9 of 29, val loss: 0.00043\n",
      "Epoch end time 20-05-2023 20:08\n"
     ]
    },
    {
     "name": "stderr",
     "output_type": "stream",
     "text": [
      "100%|██████████| 364/364 [01:54<00:00,  3.19it/s]\n"
     ]
    },
    {
     "name": "stdout",
     "output_type": "stream",
     "text": [
      "Epoch 10 of 29, train loss: 0.00047\n",
      "Epoch end time 20-05-2023 20:10\n"
     ]
    },
    {
     "name": "stderr",
     "output_type": "stream",
     "text": [
      "100%|██████████| 127/127 [00:09<00:00, 13.70it/s]\n"
     ]
    },
    {
     "name": "stdout",
     "output_type": "stream",
     "text": [
      "Epoch 10 of 29, val loss: 0.00038\n",
      "Epoch end time 20-05-2023 20:10\n"
     ]
    },
    {
     "name": "stderr",
     "output_type": "stream",
     "text": [
      "100%|██████████| 364/364 [01:54<00:00,  3.19it/s]\n"
     ]
    },
    {
     "name": "stdout",
     "output_type": "stream",
     "text": [
      "Epoch 11 of 29, train loss: 0.00042\n",
      "Epoch end time 20-05-2023 20:12\n"
     ]
    },
    {
     "name": "stderr",
     "output_type": "stream",
     "text": [
      "100%|██████████| 127/127 [00:09<00:00, 13.68it/s]\n"
     ]
    },
    {
     "name": "stdout",
     "output_type": "stream",
     "text": [
      "Epoch 11 of 29, val loss: 0.00041\n",
      "Epoch end time 20-05-2023 20:12\n"
     ]
    },
    {
     "name": "stderr",
     "output_type": "stream",
     "text": [
      "100%|██████████| 364/364 [01:54<00:00,  3.19it/s]\n"
     ]
    },
    {
     "name": "stdout",
     "output_type": "stream",
     "text": [
      "Epoch 12 of 29, train loss: 0.00041\n",
      "Epoch end time 20-05-2023 20:14\n"
     ]
    },
    {
     "name": "stderr",
     "output_type": "stream",
     "text": [
      "100%|██████████| 127/127 [00:09<00:00, 13.73it/s]\n"
     ]
    },
    {
     "name": "stdout",
     "output_type": "stream",
     "text": [
      "Epoch 12 of 29, val loss: 0.00040\n",
      "Epoch end time 20-05-2023 20:14\n"
     ]
    },
    {
     "name": "stderr",
     "output_type": "stream",
     "text": [
      "100%|██████████| 364/364 [01:52<00:00,  3.24it/s]\n"
     ]
    },
    {
     "name": "stdout",
     "output_type": "stream",
     "text": [
      "Epoch 13 of 29, train loss: 0.00038\n",
      "Epoch end time 20-05-2023 20:16\n"
     ]
    },
    {
     "name": "stderr",
     "output_type": "stream",
     "text": [
      "100%|██████████| 127/127 [00:09<00:00, 13.41it/s]\n"
     ]
    },
    {
     "name": "stdout",
     "output_type": "stream",
     "text": [
      "Epoch 13 of 29, val loss: 0.00037\n",
      "Epoch end time 20-05-2023 20:16\n"
     ]
    },
    {
     "name": "stderr",
     "output_type": "stream",
     "text": [
      "100%|██████████| 364/364 [01:52<00:00,  3.24it/s]\n"
     ]
    },
    {
     "name": "stdout",
     "output_type": "stream",
     "text": [
      "Epoch 14 of 29, train loss: 0.00037\n",
      "Epoch end time 20-05-2023 20:18\n"
     ]
    },
    {
     "name": "stderr",
     "output_type": "stream",
     "text": [
      "100%|██████████| 127/127 [00:09<00:00, 14.00it/s]\n"
     ]
    },
    {
     "name": "stdout",
     "output_type": "stream",
     "text": [
      "Epoch 14 of 29, val loss: 0.00035\n",
      "Epoch end time 20-05-2023 20:18\n"
     ]
    },
    {
     "name": "stderr",
     "output_type": "stream",
     "text": [
      "100%|██████████| 364/364 [01:52<00:00,  3.25it/s]\n"
     ]
    },
    {
     "name": "stdout",
     "output_type": "stream",
     "text": [
      "Epoch 15 of 29, train loss: 0.00035\n",
      "Epoch end time 20-05-2023 20:20\n"
     ]
    },
    {
     "name": "stderr",
     "output_type": "stream",
     "text": [
      "100%|██████████| 127/127 [00:09<00:00, 14.02it/s]\n"
     ]
    },
    {
     "name": "stdout",
     "output_type": "stream",
     "text": [
      "Epoch 15 of 29, val loss: 0.00030\n",
      "Epoch end time 20-05-2023 20:20\n"
     ]
    },
    {
     "name": "stderr",
     "output_type": "stream",
     "text": [
      "100%|██████████| 364/364 [01:52<00:00,  3.25it/s]\n"
     ]
    },
    {
     "name": "stdout",
     "output_type": "stream",
     "text": [
      "Epoch 16 of 29, train loss: 0.00031\n",
      "Epoch end time 20-05-2023 20:22\n"
     ]
    },
    {
     "name": "stderr",
     "output_type": "stream",
     "text": [
      "100%|██████████| 127/127 [00:09<00:00, 13.95it/s]\n"
     ]
    },
    {
     "name": "stdout",
     "output_type": "stream",
     "text": [
      "Epoch 16 of 29, val loss: 0.00030\n",
      "Epoch end time 20-05-2023 20:22\n"
     ]
    },
    {
     "name": "stderr",
     "output_type": "stream",
     "text": [
      "100%|██████████| 364/364 [01:52<00:00,  3.25it/s]\n"
     ]
    },
    {
     "name": "stdout",
     "output_type": "stream",
     "text": [
      "Epoch 17 of 29, train loss: 0.00031\n",
      "Epoch end time 20-05-2023 20:24\n"
     ]
    },
    {
     "name": "stderr",
     "output_type": "stream",
     "text": [
      "100%|██████████| 127/127 [00:09<00:00, 14.04it/s]\n"
     ]
    },
    {
     "name": "stdout",
     "output_type": "stream",
     "text": [
      "Epoch 17 of 29, val loss: 0.00035\n",
      "Epoch end time 20-05-2023 20:24\n"
     ]
    },
    {
     "name": "stderr",
     "output_type": "stream",
     "text": [
      "100%|██████████| 364/364 [01:52<00:00,  3.25it/s]\n"
     ]
    },
    {
     "name": "stdout",
     "output_type": "stream",
     "text": [
      "Epoch 18 of 29, train loss: 0.00031\n",
      "Epoch end time 20-05-2023 20:26\n"
     ]
    },
    {
     "name": "stderr",
     "output_type": "stream",
     "text": [
      "100%|██████████| 127/127 [00:09<00:00, 13.97it/s]\n"
     ]
    },
    {
     "name": "stdout",
     "output_type": "stream",
     "text": [
      "Epoch 18 of 29, val loss: 0.00035\n",
      "Epoch end time 20-05-2023 20:26\n"
     ]
    },
    {
     "name": "stderr",
     "output_type": "stream",
     "text": [
      "100%|██████████| 364/364 [01:52<00:00,  3.25it/s]\n"
     ]
    },
    {
     "name": "stdout",
     "output_type": "stream",
     "text": [
      "Epoch 19 of 29, train loss: 0.00029\n",
      "Epoch end time 20-05-2023 20:28\n"
     ]
    },
    {
     "name": "stderr",
     "output_type": "stream",
     "text": [
      "100%|██████████| 127/127 [00:09<00:00, 13.94it/s]\n"
     ]
    },
    {
     "name": "stdout",
     "output_type": "stream",
     "text": [
      "Epoch 19 of 29, val loss: 0.00029\n",
      "Epoch end time 20-05-2023 20:28\n"
     ]
    },
    {
     "name": "stderr",
     "output_type": "stream",
     "text": [
      "100%|██████████| 364/364 [01:51<00:00,  3.25it/s]\n"
     ]
    },
    {
     "name": "stdout",
     "output_type": "stream",
     "text": [
      "Epoch 20 of 29, train loss: 0.00024\n",
      "Epoch end time 20-05-2023 20:30\n"
     ]
    },
    {
     "name": "stderr",
     "output_type": "stream",
     "text": [
      "100%|██████████| 127/127 [00:09<00:00, 13.99it/s]\n"
     ]
    },
    {
     "name": "stdout",
     "output_type": "stream",
     "text": [
      "Epoch 20 of 29, val loss: 0.00035\n",
      "Epoch end time 20-05-2023 20:30\n"
     ]
    },
    {
     "name": "stderr",
     "output_type": "stream",
     "text": [
      "100%|██████████| 364/364 [01:52<00:00,  3.25it/s]\n"
     ]
    },
    {
     "name": "stdout",
     "output_type": "stream",
     "text": [
      "Epoch 21 of 29, train loss: 0.00024\n",
      "Epoch end time 20-05-2023 20:32\n"
     ]
    },
    {
     "name": "stderr",
     "output_type": "stream",
     "text": [
      "100%|██████████| 127/127 [00:09<00:00, 14.11it/s]\n"
     ]
    },
    {
     "name": "stdout",
     "output_type": "stream",
     "text": [
      "Epoch 21 of 29, val loss: 0.00031\n",
      "Epoch end time 20-05-2023 20:32\n"
     ]
    },
    {
     "name": "stderr",
     "output_type": "stream",
     "text": [
      "100%|██████████| 364/364 [01:52<00:00,  3.25it/s]\n"
     ]
    },
    {
     "name": "stdout",
     "output_type": "stream",
     "text": [
      "Epoch 22 of 29, train loss: 0.00022\n",
      "Epoch end time 20-05-2023 20:34\n"
     ]
    },
    {
     "name": "stderr",
     "output_type": "stream",
     "text": [
      "100%|██████████| 127/127 [00:09<00:00, 14.01it/s]\n"
     ]
    },
    {
     "name": "stdout",
     "output_type": "stream",
     "text": [
      "Epoch 22 of 29, val loss: 0.00032\n",
      "Epoch end time 20-05-2023 20:34\n"
     ]
    },
    {
     "name": "stderr",
     "output_type": "stream",
     "text": [
      "100%|██████████| 364/364 [01:51<00:00,  3.25it/s]\n"
     ]
    },
    {
     "name": "stdout",
     "output_type": "stream",
     "text": [
      "Epoch 23 of 29, train loss: 0.00022\n",
      "Epoch end time 20-05-2023 20:36\n"
     ]
    },
    {
     "name": "stderr",
     "output_type": "stream",
     "text": [
      "100%|██████████| 127/127 [00:09<00:00, 13.97it/s]\n"
     ]
    },
    {
     "name": "stdout",
     "output_type": "stream",
     "text": [
      "Epoch 23 of 29, val loss: 0.00029\n",
      "Epoch end time 20-05-2023 20:36\n"
     ]
    },
    {
     "name": "stderr",
     "output_type": "stream",
     "text": [
      "100%|██████████| 364/364 [01:52<00:00,  3.25it/s]\n"
     ]
    },
    {
     "name": "stdout",
     "output_type": "stream",
     "text": [
      "Epoch 24 of 29, train loss: 0.00022\n",
      "Epoch end time 20-05-2023 20:38\n"
     ]
    },
    {
     "name": "stderr",
     "output_type": "stream",
     "text": [
      "100%|██████████| 127/127 [00:09<00:00, 14.01it/s]\n"
     ]
    },
    {
     "name": "stdout",
     "output_type": "stream",
     "text": [
      "Epoch 24 of 29, val loss: 0.00033\n",
      "Epoch end time 20-05-2023 20:38\n"
     ]
    },
    {
     "name": "stderr",
     "output_type": "stream",
     "text": [
      "100%|██████████| 364/364 [01:53<00:00,  3.22it/s]\n"
     ]
    },
    {
     "name": "stdout",
     "output_type": "stream",
     "text": [
      "Epoch 25 of 29, train loss: 0.00022\n",
      "Epoch end time 20-05-2023 20:40\n"
     ]
    },
    {
     "name": "stderr",
     "output_type": "stream",
     "text": [
      "100%|██████████| 127/127 [00:09<00:00, 14.04it/s]\n"
     ]
    },
    {
     "name": "stdout",
     "output_type": "stream",
     "text": [
      "Epoch 25 of 29, val loss: 0.00025\n",
      "Epoch end time 20-05-2023 20:40\n"
     ]
    },
    {
     "name": "stderr",
     "output_type": "stream",
     "text": [
      "100%|██████████| 364/364 [01:53<00:00,  3.20it/s]\n"
     ]
    },
    {
     "name": "stdout",
     "output_type": "stream",
     "text": [
      "Epoch 26 of 29, train loss: 0.00020\n",
      "Epoch end time 20-05-2023 20:42\n"
     ]
    },
    {
     "name": "stderr",
     "output_type": "stream",
     "text": [
      "100%|██████████| 127/127 [00:09<00:00, 13.93it/s]\n"
     ]
    },
    {
     "name": "stdout",
     "output_type": "stream",
     "text": [
      "Epoch 26 of 29, val loss: 0.00026\n",
      "Epoch end time 20-05-2023 20:42\n"
     ]
    },
    {
     "name": "stderr",
     "output_type": "stream",
     "text": [
      "100%|██████████| 364/364 [01:53<00:00,  3.20it/s]\n"
     ]
    },
    {
     "name": "stdout",
     "output_type": "stream",
     "text": [
      "Epoch 27 of 29, train loss: 0.00016\n",
      "Epoch end time 20-05-2023 20:44\n"
     ]
    },
    {
     "name": "stderr",
     "output_type": "stream",
     "text": [
      "100%|██████████| 127/127 [00:09<00:00, 13.97it/s]\n"
     ]
    },
    {
     "name": "stdout",
     "output_type": "stream",
     "text": [
      "Epoch 27 of 29, val loss: 0.00030\n",
      "Epoch end time 20-05-2023 20:44\n"
     ]
    },
    {
     "name": "stderr",
     "output_type": "stream",
     "text": [
      "100%|██████████| 364/364 [01:53<00:00,  3.20it/s]\n"
     ]
    },
    {
     "name": "stdout",
     "output_type": "stream",
     "text": [
      "Epoch 28 of 29, train loss: 0.00017\n",
      "Epoch end time 20-05-2023 20:46\n"
     ]
    },
    {
     "name": "stderr",
     "output_type": "stream",
     "text": [
      "100%|██████████| 127/127 [00:09<00:00, 14.04it/s]\n"
     ]
    },
    {
     "name": "stdout",
     "output_type": "stream",
     "text": [
      "Epoch 28 of 29, val loss: 0.00029\n",
      "Epoch end time 20-05-2023 20:46\n"
     ]
    },
    {
     "name": "stderr",
     "output_type": "stream",
     "text": [
      "100%|██████████| 364/364 [01:52<00:00,  3.25it/s]\n"
     ]
    },
    {
     "name": "stdout",
     "output_type": "stream",
     "text": [
      "Epoch 29 of 29, train loss: 0.00015\n",
      "Epoch end time 20-05-2023 20:48\n"
     ]
    },
    {
     "name": "stderr",
     "output_type": "stream",
     "text": [
      "100%|██████████| 127/127 [00:08<00:00, 14.17it/s]"
     ]
    },
    {
     "name": "stdout",
     "output_type": "stream",
     "text": [
      "Epoch 29 of 29, val loss: 0.00028\n",
      "Epoch end time 20-05-2023 20:48\n",
      "end time 20-05-2023 20:48\n",
      "delta 1:02:35.598464\n"
     ]
    },
    {
     "name": "stderr",
     "output_type": "stream",
     "text": [
      "\n"
     ]
    }
   ],
   "source": [
    "trainer.train(train_dataloader=train_dataloader, val_dataloader=val_dataloader, epoch_num=epoch_num)"
   ]
  },
  {
   "cell_type": "code",
   "execution_count": 19,
   "metadata": {
    "ExecuteTime": {
     "end_time": "2023-05-20T17:48:51.677187Z",
     "start_time": "2023-05-20T17:48:51.624231600Z"
    }
   },
   "outputs": [
    {
     "data": {
      "text/plain": "<Figure size 640x480 with 1 Axes>",
      "image/png": "[encoded data removed]"
     },
     "metadata": {},
     "output_type": "display_data"
    }
   ],
   "source": [
    "trainer.draw_history_plots()"
   ]
  },
  {
   "cell_type": "code",
   "execution_count": 20,
   "outputs": [
    {
     "data": {
      "text/plain": "0.9055584063680153"
     },
     "execution_count": 20,
     "metadata": {},
     "output_type": "execute_result"
    }
   ],
   "source": [
    "from LookGenerator.networks.losses import IoUMetricBin\n",
    "iou_sum = 0\n",
    "metric = IoUMetricBin()\n",
    "model_unet.eval()\n",
    "model_unet.to(device)\n",
    "for image, mask in val_dataloader:\n",
    "     image = image.to(device)\n",
    "     mask = mask.to(device)\n",
    "     output = model_unet(image)\n",
    "     iou_sum += metric(output, mask).item()\n",
    "\n",
    "iou_sum / len(val_dataloader)"
   ],
   "metadata": {
    "collapsed": false,
    "ExecuteTime": {
     "end_time": "2023-05-20T17:49:00.747107800Z",
     "start_time": "2023-05-20T17:48:51.672169200Z"
    }
   }
  },
  {
   "cell_type": "markdown",
   "metadata": {},
   "source": [
    "### Визуальная проверка результатов"
   ]
  },
  {
   "cell_type": "code",
   "execution_count": 15,
   "metadata": {
    "ExecuteTime": {
     "end_time": "2023-05-20T16:30:57.035346100Z",
     "start_time": "2023-05-20T16:30:57.029908900Z"
    }
   },
   "outputs": [],
   "source": [
    "def check_losses(model_, dataloader_, **loss_fns_):\n",
    "    model_.eval()\n",
    "\n",
    "    losses = { key : 0 for key in loss_fns_.keys() }\n",
    "\n",
    "    for x_batch, y_batch in dataloader_:\n",
    "        y_pred = model_(x_batch)\n",
    "\n",
    "        for name, loss_fn in loss_fns_.items():\n",
    "            loss = loss_fn(y_batch, y_pred)\n",
    "            losses[name] += loss.item() * len(x_batch)\n",
    "\n",
    "    for name, loss in losses.item():\n",
    "        losses[name] /= len(dataloader_)\n",
    "\n",
    "    return losses\n",
    "\n",
    "def plot_results(model_, dataloader_):\n",
    "    for x_batch, y_batch in dataloader_:\n",
    "        y_hat = model_(x_batch)\n",
    "        for k in range(6):\n",
    "            plt.subplot(2, 6, k+1)\n",
    "            plt.imshow(np.rollaxis(x_batch[k].cpu().numpy(), 0, 3), cmap='gray')\n",
    "            plt.title('Real')\n",
    "            plt.axis('off')\n",
    "\n",
    "            plt.subplot(2, 6, k+7)\n",
    "            plt.imshow(y_hat[k, 0], cmap='gray')\n",
    "            plt.title('output')\n",
    "            plt.axis('off')\n",
    "        plt.show()\n",
    "        break"
   ]
  },
  {
   "cell_type": "markdown",
   "metadata": {},
   "source": [
    "## 2. a few Unet's arhc"
   ]
  },
  {
   "cell_type": "code",
   "execution_count": 13,
   "metadata": {
    "ExecuteTime": {
     "end_time": "2023-05-22T10:27:19.928433600Z",
     "start_time": "2023-05-22T10:27:19.906005600Z"
    }
   },
   "outputs": [],
   "source": [
    "model_unet2 = UNet(in_channels=3, out_channels=1, features=(64, 128, 256))\n",
    "optimizer = torch.optim.Adam(model_unet2.parameters(), lr=1e-3)\n",
    "device = 'cuda' if torch.cuda.is_available() else 'cpu'\n",
    "criterion = FocalLossBin()\n",
    "torch.backends.cuda.matmul.allow_tf32 = False\n",
    "torch.backends.cudnn.benchmark = True"
   ]
  },
  {
   "cell_type": "code",
   "execution_count": 20,
   "metadata": {
    "ExecuteTime": {
     "end_time": "2023-05-22T07:15:24.676221700Z",
     "start_time": "2023-05-22T07:15:24.654906400Z"
    }
   },
   "outputs": [
    {
     "data": {
      "text/plain": "True"
     },
     "execution_count": 20,
     "metadata": {},
     "output_type": "execute_result"
    }
   ],
   "source": [
    "save_directory = r\"C:\\Users\\DenisovDmitrii\\OneDrive - ITMO UNIVERSITY\\peopleDetector\\segmetationBackground\\weights\\testResultsFeatures_32_64_128_256\"\n",
    "check_path_and_creat(save_directory)"
   ]
  },
  {
   "cell_type": "code",
   "execution_count": null,
   "outputs": [],
   "source": [
    "epoch_num = 30\n",
    "trainer = Trainer(\n",
    "    model_=model_unet2, optimizer=optimizer, criterion=criterion,\n",
    "    device=device, save_directory=save_directory, save_step=1, verbose=True\n",
    ")\n",
    "trainer.train(train_dataloader=train_dataloader, val_dataloader=val_dataloader, epoch_num=epoch_num)"
   ],
   "metadata": {
    "collapsed": false
   }
  },
  {
   "cell_type": "code",
   "execution_count": null,
   "outputs": [],
   "source": [
    "trainer.draw_history_plots()"
   ],
   "metadata": {
    "collapsed": false
   }
  },
  {
   "cell_type": "code",
   "execution_count": null,
   "outputs": [],
   "source": [
    "from LookGenerator.networks.losses import IoUMetricBin\n",
    "iou_sum = 0\n",
    "metric = IoUMetricBin()\n",
    "model_unet2.eval()\n",
    "model_unet2.to(device)\n",
    "for image, mask in val_dataloader:\n",
    "     image = image.to(device)\n",
    "     mask = mask.to(device)\n",
    "     output = model_unet2(image)\n",
    "     iou_sum += metric(output, mask).item()\n",
    "\n",
    "iou_sum / len(val_dataloader)"
   ],
   "metadata": {
    "collapsed": false
   }
  },
  {
   "cell_type": "code",
   "execution_count": null,
   "outputs": [],
   "source": [
    "from torchsummary import summary\n",
    "summary(model_unet2.to('cuda'), (3, 256, 192))\n"
   ],
   "metadata": {
    "collapsed": false
   }
  },
  {
   "cell_type": "code",
   "execution_count": null,
   "outputs": [],
   "source": [],
   "metadata": {
    "collapsed": false
   }
  }
 ],
 "metadata": {
  "kernelspec": {
   "display_name": "Python 3 (ipykernel)",
   "language": "python",
   "name": "python3"
  },
  "language_info": {
   "codemirror_mode": {
    "name": "ipython",
    "version": 3
   },
   "file_extension": ".py",
   "mimetype": "text/x-python",
   "name": "python",
   "nbconvert_exporter": "python",
   "pygments_lexer": "ipython3",
   "version": "3.9.13"
  }
 },
 "nbformat": 4,
 "nbformat_minor": 1
}
