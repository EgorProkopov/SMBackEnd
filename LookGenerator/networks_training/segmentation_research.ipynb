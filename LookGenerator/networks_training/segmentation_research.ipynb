{
 "cells": [
  {
   "cell_type": "markdown",
   "source": [
    "<p style=\"align: center;\"><img src=\"https://raw.githubusercontent.com/dimkablin/SegmentationSM/master/src/logo2.jpg\", width=550, height=300></p>\n",
    "\n",
    "<h1 style=\"text-align: center;\"><b>Backend SM</b></h1>\n",
    "<h2 style=\"text-align: center;\"><b>Поиск архитекутуры для сегментации объекта для проекта SM </b></h2>"
   ],
   "metadata": {
    "collapsed": false
   }
  },
  {
   "cell_type": "code",
   "execution_count": 1,
   "outputs": [
    {
     "ename": "ImportError",
     "evalue": "cannot import name 'to_image_from_decoder' from 'LookGenerator.datasets.utils' (C:\\Users\\dimka\\PycharmProjects\\SMBackEnd\\LookGenerator\\datasets\\utils.py)",
     "output_type": "error",
     "traceback": [
      "\u001B[1;31m---------------------------------------------------------------------------\u001B[0m",
      "\u001B[1;31mImportError\u001B[0m                               Traceback (most recent call last)",
      "Cell \u001B[1;32mIn[1], line 3\u001B[0m\n\u001B[0;32m      1\u001B[0m \u001B[38;5;28;01mimport\u001B[39;00m \u001B[38;5;21;01mos\u001B[39;00m\n\u001B[1;32m----> 3\u001B[0m \u001B[38;5;28;01mfrom\u001B[39;00m \u001B[38;5;21;01mLookGenerator\u001B[39;00m\u001B[38;5;21;01m.\u001B[39;00m\u001B[38;5;21;01mconfig\u001B[39;00m\u001B[38;5;21;01m.\u001B[39;00m\u001B[38;5;21;01mconfig\u001B[39;00m \u001B[38;5;28;01mimport\u001B[39;00m DatasetConfig\n\u001B[0;32m      5\u001B[0m config \u001B[38;5;241m=\u001B[39m DatasetConfig(os\u001B[38;5;241m.\u001B[39menviron)\n\u001B[0;32m      6\u001B[0m config\u001B[38;5;241m.\u001B[39mshow_details()\n",
      "File \u001B[1;32m~\\PycharmProjects\\SMBackEnd\\LookGenerator\\__init__.py:1\u001B[0m\n\u001B[1;32m----> 1\u001B[0m \u001B[38;5;28;01mfrom\u001B[39;00m \u001B[38;5;21;01m.\u001B[39;00m\u001B[38;5;21;01mmain\u001B[39;00m \u001B[38;5;28;01mimport\u001B[39;00m load_models, process_image\n",
      "File \u001B[1;32m~\\PycharmProjects\\SMBackEnd\\LookGenerator\\main.py:1\u001B[0m\n\u001B[1;32m----> 1\u001B[0m \u001B[38;5;28;01mfrom\u001B[39;00m \u001B[38;5;21;01mLookGenerator\u001B[39;00m\u001B[38;5;21;01m.\u001B[39;00m\u001B[38;5;21;01mdatasets\u001B[39;00m\u001B[38;5;21;01m.\u001B[39;00m\u001B[38;5;21;01mutils\u001B[39;00m \u001B[38;5;28;01mimport\u001B[39;00m prepare_image_for_segmentation, clean_image_by_mask, to_image_from_decoder\n\u001B[0;32m      3\u001B[0m \u001B[38;5;28;01mimport\u001B[39;00m \u001B[38;5;21;01mtorch\u001B[39;00m\n\u001B[0;32m      4\u001B[0m \u001B[38;5;28;01mfrom\u001B[39;00m \u001B[38;5;21;01mtorchvision\u001B[39;00m \u001B[38;5;28;01mimport\u001B[39;00m transforms\n",
      "\u001B[1;31mImportError\u001B[0m: cannot import name 'to_image_from_decoder' from 'LookGenerator.datasets.utils' (C:\\Users\\dimka\\PycharmProjects\\SMBackEnd\\LookGenerator\\datasets\\utils.py)"
     ]
    }
   ],
   "source": [
    "import os\n",
    "\n",
    "from LookGenerator.config.config import DatasetConfig\n",
    "\n",
    "config = DatasetConfig(os.environ)\n",
    "config.show_details()"
   ],
   "metadata": {
    "collapsed": false
   }
  },
  {
   "cell_type": "markdown",
   "source": [
    "## dataloader init"
   ],
   "metadata": {
    "collapsed": false
   }
  },
  {
   "cell_type": "code",
   "execution_count": null,
   "metadata": {
    "collapsed": true
   },
   "outputs": [],
   "source": []
  },
  {
   "cell_type": "markdown",
   "source": [
    "## train loop"
   ],
   "metadata": {
    "collapsed": false
   }
  },
  {
   "cell_type": "code",
   "execution_count": null,
   "outputs": [],
   "source": [],
   "metadata": {
    "collapsed": false
   }
  },
  {
   "cell_type": "markdown",
   "source": [
    "# Architectures\n",
    "## 1. our Unet"
   ],
   "metadata": {
    "collapsed": false
   }
  },
  {
   "cell_type": "code",
   "execution_count": null,
   "outputs": [],
   "source": [],
   "metadata": {
    "collapsed": false
   }
  },
  {
   "cell_type": "markdown",
   "source": [
    "## 2. SegNet"
   ],
   "metadata": {
    "collapsed": false
   }
  },
  {
   "cell_type": "code",
   "execution_count": null,
   "outputs": [],
   "source": [],
   "metadata": {
    "collapsed": false
   }
  },
  {
   "cell_type": "markdown",
   "source": [
    "## 3. a few Unet's arhc"
   ],
   "metadata": {
    "collapsed": false
   }
  },
  {
   "cell_type": "code",
   "execution_count": null,
   "outputs": [],
   "source": [],
   "metadata": {
    "collapsed": false
   }
  }
 ],
 "metadata": {
  "kernelspec": {
   "display_name": "Python 3",
   "language": "python",
   "name": "python3"
  },
  "language_info": {
   "codemirror_mode": {
    "name": "ipython",
    "version": 2
   },
   "file_extension": ".py",
   "mimetype": "text/x-python",
   "name": "python",
   "nbconvert_exporter": "python",
   "pygments_lexer": "ipython2",
   "version": "2.7.6"
  }
 },
 "nbformat": 4,
 "nbformat_minor": 0
}
