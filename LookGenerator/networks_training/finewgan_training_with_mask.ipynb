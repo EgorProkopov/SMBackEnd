{
 "cells": [
  {
   "cell_type": "code",
   "outputs": [],
   "source": [
    "import os\n",
    "\n",
    "import matplotlib.pyplot as plt\n",
    "import numpy as np\n",
    "import PIL.Image as Image\n",
    "from tqdm import tqdm\n",
    "\n",
    "import torch\n",
    "import torch.nn as nn\n",
    "from torch.utils.data import DataLoader\n",
    "import torchvision.transforms as transforms\n",
    "\n",
    "from LookGenerator.networks.losses import WassersteinLoss, PerPixelLoss, PerceptualLoss, GradientPenalty, FineGANWithMaskLoss\n",
    "from LookGenerator.datasets.encoder_decoder_datasets import GenerativeDatasetWithMask\n",
    "from LookGenerator.networks.fine_gan import *\n",
    "from LookGenerator.networks.clothes_feature_extractor import ClothAutoencoder\n",
    "from LookGenerator.networks.trainer import WGANGPTrainer\n",
    "from LookGenerator.networks_training.utils import check_path_and_creat\n",
    "from LookGenerator.networks.utils import get_num_digits, save_model, load_model\n",
    "import LookGenerator.datasets.transforms as custom_transforms"
   ],
   "metadata": {
    "collapsed": false,
    "ExecuteTime": {
     "end_time": "2023-06-02T12:35:04.190704500Z",
     "start_time": "2023-06-02T12:35:02.894270300Z"
    }
   },
   "execution_count": 1
  },
  {
   "cell_type": "code",
   "execution_count": 2,
   "outputs": [],
   "source": [
    "transform_human = transforms.Compose([\n",
    "    transforms.Resize((256, 192)),\n",
    "    transforms.RandomAffine(scale=(0.8, 1), degrees=(-90,90), fill = 0.9),\n",
    "    #transforms.ColorJitter(brightness=(0.5, 1), contrast=(0.4,1),  hue=(0, 0.3)),\n",
    "    transforms.Normalize(mean=[0.5, 0.5, 0.5],\n",
    "                         std=[0.5, 0.5, 0.5])\n",
    "])\n",
    "\n",
    "transform_clothes = transforms.Compose([\n",
    "    transforms.Resize((256, 192)),\n",
    "    # transforms.ColorJitter(brightness=(0.5, 1), contrast=(0.4,1),  hue=(0, 0.3)),\n",
    "    transforms.Normalize(mean=[0.5, 0.5, 0.5],\n",
    "                         std=[0.5, 0.5, 0.5])\n",
    "])\n",
    "\n",
    "transform_mask = transforms.Compose([\n",
    "    transforms.Resize((256, 192)),\n",
    "    custom_transforms.ThresholdTransform()\n",
    "])\n",
    "\n",
    "transform_human_restored = transforms.Compose([\n",
    "    transforms.Resize((256, 192)),\n",
    "    transforms.RandomAffine(scale=(0.8, 1), degrees=(-90,90), fill = 0.9),\n",
    "    # transforms.ColorJitter(brightness=(0.5, 1), contrast=(0.4,1),  hue=(0, 0.3)),\n",
    "    custom_transforms.MinMaxScale()\n",
    "])"
   ],
   "metadata": {
    "collapsed": false,
    "ExecuteTime": {
     "end_time": "2023-06-02T12:35:04.193318400Z",
     "start_time": "2023-06-02T12:35:04.191708300Z"
    }
   }
  },
  {
   "cell_type": "code",
   "execution_count": 3,
   "outputs": [],
   "source": [
    "batch_size_train = 24\n",
    "pin_memory = True\n",
    "num_workers = 6"
   ],
   "metadata": {
    "collapsed": false,
    "ExecuteTime": {
     "end_time": "2023-06-02T12:35:04.199038400Z",
     "start_time": "2023-06-02T12:35:04.193318400Z"
    }
   }
  },
  {
   "cell_type": "code",
   "execution_count": 4,
   "outputs": [],
   "source": [
    "train_dataset = GenerativeDatasetWithMask(\n",
    "    human_dir=r\"C:\\Users\\DenisovDmitrii\\Desktop\\forEncoderNew\\train\\imageWithNoCloth\",\n",
    "    clothes_dir=r\"C:\\Users\\DenisovDmitrii\\Desktop\\forEncoderNew\\train\\cloth\",\n",
    "    segmentation_mask_dir=r\"C:\\Users\\DenisovDmitrii\\Desktop\\zalando-hd-resize\\train\\agnostic-v3.3\",\n",
    "    human_restored_dir=r\"C:\\Users\\DenisovDmitrii\\Desktop\\forEncoderNew\\train\\image\",\n",
    "    transform_human=transform_human,\n",
    "    transform_clothes=transform_clothes,\n",
    "    transform_mask=transform_mask,\n",
    "    transform_human_restored=transform_human_restored\n",
    ")"
   ],
   "metadata": {
    "collapsed": false,
    "ExecuteTime": {
     "end_time": "2023-06-02T12:35:04.217832100Z",
     "start_time": "2023-06-02T12:35:04.200034300Z"
    }
   }
  },
  {
   "cell_type": "code",
   "execution_count": 5,
   "outputs": [],
   "source": [
    "train_dataloader = DataLoader(\n",
    "    train_dataset, batch_size=batch_size_train, shuffle=True, pin_memory=pin_memory, num_workers=num_workers\n",
    ")"
   ],
   "metadata": {
    "collapsed": false,
    "ExecuteTime": {
     "end_time": "2023-06-02T12:35:04.219999400Z",
     "start_time": "2023-06-02T12:35:04.218836200Z"
    }
   }
  },
  {
   "cell_type": "code",
   "execution_count": 6,
   "outputs": [],
   "source": [
    "torch.backends.cuda.matmul.allow_tf32 = False\n",
    "torch.backends.cudnn.benchmark = True"
   ],
   "metadata": {
    "collapsed": false,
    "ExecuteTime": {
     "end_time": "2023-06-02T12:35:04.227830100Z",
     "start_time": "2023-06-02T12:35:04.220994800Z"
    }
   }
  },
  {
   "cell_type": "markdown",
   "source": [
    "# Тренировщик"
   ],
   "metadata": {
    "collapsed": false
   }
  },
  {
   "cell_type": "code",
   "execution_count": 8,
   "outputs": [],
   "source": [
    "class WGANGPWithMaksTrainer(WGANGPTrainer):\n",
    "    def __init__(\n",
    "            self, generator, discriminator,\n",
    "            optimizer_generator, optimizer_discriminator,\n",
    "            criterion_generator, criterion_discriminator,\n",
    "            gradient_penalty, gp_weight=0.2, save_step=1,\n",
    "            save_directory_discriminator=r\"\", save_directory_generator=r\"\",\n",
    "            device='cpu', verbose=True\n",
    "    ):\n",
    "        super().__init__(generator, discriminator, optimizer_generator, optimizer_discriminator, criterion_generator,\n",
    "                         criterion_discriminator, gradient_penalty, gp_weight, save_step, save_directory_discriminator,\n",
    "                         save_directory_generator, device, verbose)\n",
    "\n",
    "    def _train_epoch(self, train_dataloader):\n",
    "        self.discriminator_real_epoch_batches_loss = []\n",
    "        self.discriminator_fake_epoch_batches_loss = []\n",
    "        self.discriminator_epoch_batches_loss = []\n",
    "        self.generator_epoch_batches_loss = []\n",
    "\n",
    "        self.generator = self.generator.to(self.device)\n",
    "        self.discriminator = self.discriminator.to(self.device)\n",
    "\n",
    "        for iteration, (input_images, mask, real_images) in enumerate(tqdm(train_dataloader), 0):\n",
    "            input_images = input_images.to(self.device)\n",
    "            mask = mask.to(self.device)\n",
    "            real_images = real_images.to(self.device)\n",
    "            self._train_discriminator(input_images, real_images)\n",
    "\n",
    "            if iteration % 5 == 0:\n",
    "                self._train_generator(input_images, mask, real_images)\n",
    "\n",
    "        loss_real = np.mean(self.discriminator_real_epoch_batches_loss)\n",
    "        loss_fake = np.mean(self.discriminator_fake_epoch_batches_loss)\n",
    "        loss_d = np.mean(self.discriminator_fake_epoch_batches_loss)\n",
    "        loss_g = np.mean(self.generator_epoch_batches_loss)\n",
    "\n",
    "        self.discriminator_real_history_epochs.append(loss_real)\n",
    "        self.discriminator_fake_history_epochs.append(loss_fake)\n",
    "        self.discriminator_history_epochs.append(loss_d)\n",
    "        self.generator_history_epochs.append(loss_g)\n",
    "\n",
    "        return loss_real, loss_fake, loss_d, loss_g\n",
    "\n",
    "\n",
    "    def _train_generator(self, input_images, mask, real_images):\n",
    "        self.discriminator.eval()\n",
    "        self.generator.train()\n",
    "\n",
    "        # Clear generator gradients\n",
    "        self.optimizer_generator.zero_grad()\n",
    "\n",
    "        # Generate fake images\n",
    "        fake_images = self.generator(input_images)\n",
    "\n",
    "        # Try to fool discriminator\n",
    "        preds = self.discriminator(fake_images)\n",
    "        targets = torch.ones(real_images.shape[0], 1, device=self.device)\n",
    "        loss_g = self.criterion_generator(preds, targets, fake_images, mask, real_images)\n",
    "        self.generator_history_batches.append(torch.mean(loss_g).item())\n",
    "        self.generator_epoch_batches_loss.append(torch.mean(loss_g).item())\n",
    "\n",
    "        # Update generator weights\n",
    "        loss_g.backward()\n",
    "        self.optimizer_generator.step()\n",
    "\n"
   ],
   "metadata": {
    "collapsed": false,
    "ExecuteTime": {
     "end_time": "2023-06-02T12:32:51.927256300Z",
     "start_time": "2023-06-02T12:32:51.866439400Z"
    }
   }
  },
  {
   "cell_type": "code",
   "execution_count": 7,
   "outputs": [
    {
     "data": {
      "text/plain": "True"
     },
     "execution_count": 7,
     "metadata": {},
     "output_type": "execute_result"
    }
   ],
   "source": [
    "save_directory = r'C:\\Users\\DenisovDmitrii\\OneDrive - ITMO UNIVERSITY\\peopleDetector\\encoderGAN\\weights\\testBaseParam'\n",
    "check_path_and_creat(save_directory)\n",
    "save_directory_generator = os.path.join(save_directory, 'gen')\n",
    "save_directory_discriminator = os.path.join(save_directory, 'discr')\n",
    "check_path_and_creat(save_directory_generator)\n",
    "check_path_and_creat(save_directory_discriminator)"
   ],
   "metadata": {
    "collapsed": false,
    "ExecuteTime": {
     "end_time": "2023-06-02T12:35:04.236861400Z",
     "start_time": "2023-06-02T12:35:04.227830100Z"
    }
   }
  },
  {
   "cell_type": "code",
   "execution_count": 8,
   "outputs": [],
   "source": [
    "clothes_feature_extractor = ClothAutoencoder(\n",
    "    in_channels=3,\n",
    "    out_channels=3,\n",
    "    features=(8, 16, 32, 64),\n",
    "    latent_dim_size=128,\n",
    "    encoder_activation_func=nn.LeakyReLU(),\n",
    "    decoder_activation_func=nn.ReLU()\n",
    ")\n",
    "clothes_feature_extractor = load_model(clothes_feature_extractor, r\"C:\\Users\\DenisovDmitrii\\OneDrive - ITMO UNIVERSITY\\peopleDetector\\autoDegradation\\weights\\testClothes_L1Loss_4features\\epoch_39.pt\")"
   ],
   "metadata": {
    "collapsed": false,
    "ExecuteTime": {
     "end_time": "2023-06-02T12:35:04.305143500Z",
     "start_time": "2023-06-02T12:35:04.236861400Z"
    }
   }
  },
  {
   "cell_type": "code",
   "execution_count": 9,
   "outputs": [
    {
     "name": "stderr",
     "output_type": "stream",
     "text": [
      "C:\\Users\\DenisovDmitrii\\AppData\\Local\\Programs\\Python\\Python311\\Lib\\site-packages\\torchvision\\models\\_utils.py:208: UserWarning: The parameter 'pretrained' is deprecated since 0.13 and may be removed in the future, please use 'weights' instead.\n",
      "  warnings.warn(\n",
      "C:\\Users\\DenisovDmitrii\\AppData\\Local\\Programs\\Python\\Python311\\Lib\\site-packages\\torchvision\\models\\_utils.py:223: UserWarning: Arguments other than a weight enum or `None` for 'weights' are deprecated since 0.13 and may be removed in the future. The current behavior is equivalent to passing `weights=VGG16_Weights.IMAGENET1K_V1`. You can also use `weights=VGG16_Weights.DEFAULT` to get the most up-to-date weights.\n",
      "  warnings.warn(msg)\n"
     ]
    },
    {
     "name": "stdout",
     "output_type": "stream",
     "text": [
      "cuda\n"
     ]
    }
   ],
   "source": [
    "generator = EncoderDecoderGenerator(\n",
    "    clothes_feature_extractor=clothes_feature_extractor,\n",
    "    in_channels=3, out_channels=3,\n",
    "    final_activation_func=nn.Sigmoid()\n",
    ")\n",
    "discriminator = Discriminator(\n",
    "    in_channels=3, batch_norm=False,\n",
    "    dropout=True, sigmoid=False\n",
    ")\n",
    "\n",
    "device = 'cuda' if torch.cuda.is_available() else 'cpu'\n",
    "\n",
    "wasserstein_criterion = WassersteinLoss()\n",
    "l1_criterion = PerPixelLoss()\n",
    "perceptual_criterion = PerceptualLoss(\n",
    "    device=device, weights_perceptual=[1.0, 1.0, 1.0, 1.0]\n",
    ")\n",
    "gradient_penalty = GradientPenalty(discriminator, device=device)\n",
    "\n",
    "# criterion_generator = FineGANLoss(\n",
    "#     adversarial_criterion=wasserstein_criterion, adv_loss_weight=0.25,\n",
    "#     l1_criterion=True, l1_loss_weight=4,\n",
    "#     perceptual=True, perceptual_loss_weight=1, device=device\n",
    "# )\n",
    "\n",
    "criterion_generator = FineGANWithMaskLoss(\n",
    "    adversarial_criterion=wasserstein_criterion,\n",
    "    l1_criterion=l1_criterion,\n",
    "    perceptual_criterion=perceptual_criterion,\n",
    "    weights=[1.0, 1.0, 0.0, 1.0, 0.0, 3.0],\n",
    "    device=device\n",
    ")\n",
    "criterion_discriminator = WassersteinLoss()\n",
    "\n",
    "print(device)"
   ],
   "metadata": {
    "collapsed": false,
    "ExecuteTime": {
     "end_time": "2023-06-02T12:35:05.196530400Z",
     "start_time": "2023-06-02T12:35:04.305143500Z"
    }
   }
  },
  {
   "cell_type": "code",
   "execution_count": 10,
   "outputs": [],
   "source": [
    "optimizer_generator = torch.optim.Adam(params=generator.parameters(), lr=0.00005)\n",
    "optimizer_discriminator = torch.optim.Adam(params=discriminator.parameters(), lr=0.00005)"
   ],
   "metadata": {
    "collapsed": false,
    "ExecuteTime": {
     "end_time": "2023-06-02T12:35:05.378805800Z",
     "start_time": "2023-06-02T12:35:05.371895700Z"
    }
   }
  },
  {
   "cell_type": "code",
   "execution_count": 14,
   "outputs": [],
   "source": [
    "trainer = WGANGPWithMaksTrainer(\n",
    "    generator=generator,\n",
    "    discriminator=discriminator,\n",
    "    optimizer_generator=optimizer_generator,\n",
    "    optimizer_discriminator=optimizer_discriminator,\n",
    "    criterion_generator=criterion_generator,\n",
    "    criterion_discriminator=criterion_discriminator,\n",
    "    gradient_penalty=gradient_penalty,\n",
    "    gp_weight=10,\n",
    "    save_step=1,\n",
    "    save_directory_discriminator=save_directory_discriminator,\n",
    "    save_directory_generator=save_directory_generator,\n",
    "    device=device,\n",
    "    verbose=True\n",
    ")\n"
   ],
   "metadata": {
    "collapsed": false,
    "ExecuteTime": {
     "end_time": "2023-06-02T12:35:27.395575100Z",
     "start_time": "2023-06-02T12:35:27.389412500Z"
    }
   }
  },
  {
   "cell_type": "code",
   "execution_count": 15,
   "outputs": [],
   "source": [
    "# history = fit(model=model,\n",
    "#               criterion=criterion,\n",
    "#               gradient_penalty=gradient_penalty,\n",
    "#               train_dl=train_dataloader,\n",
    "#               device=device,\n",
    "#               epochs=10,\n",
    "#               g_lr=0.0001,\n",
    "#               d_lr=0.0001,\n",
    "#               save_directory_generator=save_directory_generator,\n",
    "#               save_directory_discriminator=save_directory_discriminator)"
   ],
   "metadata": {
    "collapsed": false,
    "ExecuteTime": {
     "end_time": "2023-06-02T12:35:28.786649800Z",
     "start_time": "2023-06-02T12:35:28.780956100Z"
    }
   }
  },
  {
   "cell_type": "code",
   "execution_count": 16,
   "outputs": [],
   "source": [
    "epoch_num = 20"
   ],
   "metadata": {
    "collapsed": false,
    "ExecuteTime": {
     "end_time": "2023-06-02T12:35:29.121844600Z",
     "start_time": "2023-06-02T12:35:29.115194600Z"
    }
   }
  },
  {
   "cell_type": "code",
   "execution_count": 17,
   "outputs": [
    {
     "name": "stdout",
     "output_type": "stream",
     "text": [
      "start time 02-06-2023 15:35\n"
     ]
    },
    {
     "name": "stderr",
     "output_type": "stream",
     "text": [
      "  0%|          | 0/486 [00:00<?, ?it/s]C:\\Users\\DenisovDmitrii\\AppData\\Local\\Programs\\Python\\Python311\\Lib\\site-packages\\torchvision\\transforms\\functional.py:1603: UserWarning: The default value of the antialias parameter of all the resizing transforms (Resize(), RandomResizedCrop(), etc.) will change from None to True in v0.17, in order to be consistent across the PIL and Tensor backends. To suppress this warning, directly pass antialias=True (recommended, future default), antialias=None (current default, which means False for Tensors and True for PIL), or antialias=False (only works on Tensors - PIL will still use antialiasing). This also applies if you are using the inference transforms from the models weights: update the call to weights.transforms(antialias=True).\n",
      "  warnings.warn(\n",
      "100%|██████████| 486/486 [05:53<00:00,  1.38it/s]\n"
     ]
    },
    {
     "name": "stdout",
     "output_type": "stream",
     "text": [
      "Epoch 0 of 19, discriminator loss: 0.00251\n",
      "Epoch 0 of 19, generator loss: 4.11509\n",
      "Epoch end time 02-06-2023 15:41\n"
     ]
    },
    {
     "name": "stderr",
     "output_type": "stream",
     "text": [
      "100%|██████████| 486/486 [06:34<00:00,  1.23it/s]\n"
     ]
    },
    {
     "name": "stdout",
     "output_type": "stream",
     "text": [
      "Epoch 1 of 19, discriminator loss: 0.00000\n",
      "Epoch 1 of 19, generator loss: 3.10050\n",
      "Epoch end time 02-06-2023 15:47\n"
     ]
    },
    {
     "name": "stderr",
     "output_type": "stream",
     "text": [
      "100%|██████████| 486/486 [07:00<00:00,  1.16it/s]\n"
     ]
    },
    {
     "name": "stdout",
     "output_type": "stream",
     "text": [
      "Epoch 2 of 19, discriminator loss: 0.00000\n",
      "Epoch 2 of 19, generator loss: 2.88922\n",
      "Epoch end time 02-06-2023 15:54\n"
     ]
    },
    {
     "name": "stderr",
     "output_type": "stream",
     "text": [
      "100%|██████████| 486/486 [06:40<00:00,  1.21it/s]\n"
     ]
    },
    {
     "name": "stdout",
     "output_type": "stream",
     "text": [
      "Epoch 3 of 19, discriminator loss: 0.00000\n",
      "Epoch 3 of 19, generator loss: 2.78009\n",
      "Epoch end time 02-06-2023 16:01\n"
     ]
    },
    {
     "name": "stderr",
     "output_type": "stream",
     "text": [
      "100%|██████████| 486/486 [06:20<00:00,  1.28it/s]\n"
     ]
    },
    {
     "name": "stdout",
     "output_type": "stream",
     "text": [
      "Epoch 4 of 19, discriminator loss: 0.00000\n",
      "Epoch 4 of 19, generator loss: 2.72695\n",
      "Epoch end time 02-06-2023 16:07\n"
     ]
    },
    {
     "name": "stderr",
     "output_type": "stream",
     "text": [
      "100%|██████████| 486/486 [06:15<00:00,  1.29it/s]\n"
     ]
    },
    {
     "name": "stdout",
     "output_type": "stream",
     "text": [
      "Epoch 5 of 19, discriminator loss: 0.00000\n",
      "Epoch 5 of 19, generator loss: 2.65125\n",
      "Epoch end time 02-06-2023 16:14\n"
     ]
    },
    {
     "name": "stderr",
     "output_type": "stream",
     "text": [
      "100%|██████████| 486/486 [05:54<00:00,  1.37it/s]\n"
     ]
    },
    {
     "name": "stdout",
     "output_type": "stream",
     "text": [
      "Epoch 6 of 19, discriminator loss: 0.00000\n",
      "Epoch 6 of 19, generator loss: 2.61035\n",
      "Epoch end time 02-06-2023 16:20\n"
     ]
    },
    {
     "name": "stderr",
     "output_type": "stream",
     "text": [
      "100%|██████████| 486/486 [05:52<00:00,  1.38it/s]\n"
     ]
    },
    {
     "name": "stdout",
     "output_type": "stream",
     "text": [
      "Epoch 7 of 19, discriminator loss: 0.00000\n",
      "Epoch 7 of 19, generator loss: 2.53768\n",
      "Epoch end time 02-06-2023 16:26\n"
     ]
    },
    {
     "name": "stderr",
     "output_type": "stream",
     "text": [
      "100%|██████████| 486/486 [05:23<00:00,  1.50it/s]\n"
     ]
    },
    {
     "name": "stdout",
     "output_type": "stream",
     "text": [
      "Epoch 8 of 19, discriminator loss: 0.00000\n",
      "Epoch 8 of 19, generator loss: 2.51223\n",
      "Epoch end time 02-06-2023 16:31\n"
     ]
    },
    {
     "name": "stderr",
     "output_type": "stream",
     "text": [
      "100%|██████████| 486/486 [05:20<00:00,  1.52it/s]\n"
     ]
    },
    {
     "name": "stdout",
     "output_type": "stream",
     "text": [
      "Epoch 9 of 19, discriminator loss: 0.00000\n",
      "Epoch 9 of 19, generator loss: 2.49246\n",
      "Epoch end time 02-06-2023 16:36\n"
     ]
    },
    {
     "name": "stderr",
     "output_type": "stream",
     "text": [
      "100%|██████████| 486/486 [05:22<00:00,  1.51it/s]\n"
     ]
    },
    {
     "name": "stdout",
     "output_type": "stream",
     "text": [
      "Epoch 10 of 19, discriminator loss: 0.00000\n",
      "Epoch 10 of 19, generator loss: 2.45236\n",
      "Epoch end time 02-06-2023 16:42\n"
     ]
    },
    {
     "name": "stderr",
     "output_type": "stream",
     "text": [
      "100%|██████████| 486/486 [05:27<00:00,  1.48it/s]\n"
     ]
    },
    {
     "name": "stdout",
     "output_type": "stream",
     "text": [
      "Epoch 11 of 19, discriminator loss: 0.00000\n",
      "Epoch 11 of 19, generator loss: 2.47527\n",
      "Epoch end time 02-06-2023 16:47\n"
     ]
    },
    {
     "name": "stderr",
     "output_type": "stream",
     "text": [
      "100%|██████████| 486/486 [05:27<00:00,  1.48it/s]\n"
     ]
    },
    {
     "name": "stdout",
     "output_type": "stream",
     "text": [
      "Epoch 12 of 19, discriminator loss: 0.00000\n",
      "Epoch 12 of 19, generator loss: 2.43512\n",
      "Epoch end time 02-06-2023 16:53\n"
     ]
    },
    {
     "name": "stderr",
     "output_type": "stream",
     "text": [
      "100%|██████████| 486/486 [05:28<00:00,  1.48it/s]\n"
     ]
    },
    {
     "name": "stdout",
     "output_type": "stream",
     "text": [
      "Epoch 13 of 19, discriminator loss: 0.00000\n",
      "Epoch 13 of 19, generator loss: 2.41783\n",
      "Epoch end time 02-06-2023 16:58\n"
     ]
    },
    {
     "name": "stderr",
     "output_type": "stream",
     "text": [
      " 15%|█▍        | 72/486 [00:55<04:39,  1.48it/s] "
     ]
    }
   ],
   "source": [
    "history = trainer.train(\n",
    "    train_dataloader=train_dataloader,\n",
    "    epoch_num=epoch_num\n",
    ")"
   ],
   "metadata": {
    "collapsed": false,
    "ExecuteTime": {
     "end_time": "2023-06-02T14:31:10.301259300Z",
     "start_time": "2023-06-02T12:35:30.500359400Z"
    }
   }
  },
  {
   "cell_type": "code",
   "execution_count": 18,
   "outputs": [],
   "source": [
    "trainer.draw_history_plots()"
   ],
   "metadata": {
    "collapsed": false
   }
  },
  {
   "cell_type": "code",
   "execution_count": 19,
   "outputs": [],
   "source": [
    "trainer.save_history_plots(save_directory)"
   ],
   "metadata": {
    "collapsed": false
   }
  },
  {
   "cell_type": "code",
   "execution_count": 20,
   "outputs": [],
   "source": [
    "trainer.create_readme(save_directory)"
   ],
   "metadata": {
    "collapsed": false
   }
  },
  {
   "cell_type": "code",
   "execution_count": 21,
   "outputs": [],
   "source": [
    "test_dataset = GenerativeDatasetWithMask(\n",
    "    human_dir=r\"C:\\Users\\DenisovDmitrii\\Desktop\\forEncoderNew\\train\\imageWithNoCloth\",\n",
    "    clothes_dir=r\"C:\\Users\\DenisovDmitrii\\Desktop\\forEncoderNew\\train\\cloth\",\n",
    "    segmentation_mask_dir=r\"C:\\Users\\DenisovDmitrii\\Desktop\\zalando-hd-resize\\train\\agnostic-v3.3\",\n",
    "    human_restored_dir=r\"C:\\Users\\DenisovDmitrii\\Desktop\\forEncoderNew\\train\\image\",\n",
    "    transform_human=transform_human,\n",
    "    transform_clothes=transform_clothes,\n",
    "    transform_mask=transform_mask,\n",
    "    transform_human_restored=transform_human_restored\n",
    ")"
   ],
   "metadata": {
    "collapsed": false
   }
  },
  {
   "cell_type": "code",
   "execution_count": 22,
   "outputs": [],
   "source": [
    "generator.to('cpu')\n",
    "discriminator.to('cpu')\n",
    "image, real_image = test_dataset[2]\n",
    "image = image.unsqueeze(0)\n",
    "#print(image)\n",
    "print(image.shape)\n",
    "image = generator(image)\n",
    "imaged = discriminator(image)\n",
    "image = transforms.ToPILImage()(image[0, :, :, :])\n",
    "image.show()\n",
    "print(imaged)\n"
   ],
   "metadata": {
    "collapsed": false
   }
  },
  {
   "cell_type": "code",
   "execution_count": null,
   "outputs": [],
   "source": [],
   "metadata": {
    "collapsed": false
   }
  }
 ],
 "metadata": {
  "kernelspec": {
   "display_name": "Python 3",
   "language": "python",
   "name": "python3"
  },
  "language_info": {
   "codemirror_mode": {
    "name": "ipython",
    "version": 2
   },
   "file_extension": ".py",
   "mimetype": "text/x-python",
   "name": "python",
   "nbconvert_exporter": "python",
   "pygments_lexer": "ipython2",
   "version": "2.7.6"
  }
 },
 "nbformat": 4,
 "nbformat_minor": 0
}
