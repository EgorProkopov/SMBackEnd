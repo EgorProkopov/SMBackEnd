{
 "cells": [
  {
   "cell_type": "code",
   "execution_count": 1,
   "outputs": [],
   "source": [
    "import os\n",
    "import PIL.Image as Image\n",
    "import torch.cuda\n",
    "import torchvision.transforms as transforms\n",
    "import numpy as np\n",
    "\n",
    "from LookGenerator.datasets.utils import prepare_images_for_encoder, to_array_from_decoder, load_image, convert_channel, show_array_as_image, save_array_as_image\n",
    "from LookGenerator.networks.encoder_decoder import EncoderDecoder\n",
    "from LookGenerator.networks.utils import load_model"
   ],
   "metadata": {
    "collapsed": false
   }
  },
  {
   "cell_type": "markdown",
   "source": [
    "# Загрузка изображений"
   ],
   "metadata": {
    "collapsed": false
   }
  },
  {
   "cell_type": "code",
   "execution_count": 2,
   "metadata": {
    "collapsed": true
   },
   "outputs": [
    {
     "name": "stdout",
     "output_type": "stream",
     "text": [
      "17\n"
     ]
    }
   ],
   "source": [
    "root = r\"C:\\Users\\Даша\\кто\\мусор\\zalando-hd-resized\\val\"\n",
    "file_name = r\"00013_00\"\n",
    "\n",
    "human_image = load_image(root, r\"imageWithNoCloth\", file_name, \".png\")\n",
    "clothes = load_image(root, r\"cloth\", file_name, r\".jpg\")\n",
    "\n",
    "pose_points = []\n",
    "points_list = os.listdir(os.path.join(\n",
    "    root,\n",
    "    r\"posePoints\",\n",
    "    file_name\n",
    "))\n",
    "print(len(points_list))\n",
    "for pose_point in points_list:\n",
    "    pose_point_image = convert_channel(load_image(root, os.path.join(r\"posePoints\", file_name), pose_point, \"\"))\n",
    "    pose_points.append(pose_point_image)\n",
    "\n",
    "# if model dataset has pose_points=False param:\n",
    "pose_points = []"
   ]
  },
  {
   "cell_type": "markdown",
   "source": [
    "# Определение трансформаций"
   ],
   "metadata": {
    "collapsed": false
   }
  },
  {
   "cell_type": "code",
   "execution_count": 3,
   "outputs": [],
   "source": [
    "input_rgb_transform = transforms.Compose([\n",
    "    transforms.Resize((256, 192)),\n",
    "    transforms.Normalize(\n",
    "        mean=[0.5, 0.5, 0.5],\n",
    "        std=[0.25, 0.25, 0.25]\n",
    "    )\n",
    "])\n",
    "\n",
    "input_bin_transform = transforms.Compose([\n",
    "    transforms.Resize((256, 192)),\n",
    "    transforms.Normalize(\n",
    "        mean=[0.5],\n",
    "        std=[0.25]\n",
    "    )\n",
    "])"
   ],
   "metadata": {
    "collapsed": false
   }
  },
  {
   "cell_type": "markdown",
   "source": [
    "# Загрузка весов модели"
   ],
   "metadata": {
    "collapsed": false
   }
  },
  {
   "cell_type": "code",
   "execution_count": 4,
   "outputs": [],
   "source": [
    "model_input = prepare_images_for_encoder(human_image, pose_points, clothes, input_rgb_transform, input_bin_transform).float()"
   ],
   "metadata": {
    "collapsed": false
   }
  },
  {
   "cell_type": "code",
   "execution_count": 5,
   "outputs": [],
   "source": [
    "weights_dir = r\"C:\\Users\\Даша\\PycharmProjects\\SMBackEnd\\LookGenerator\\weights\\unet_epoch_59.pt\""
   ],
   "metadata": {
    "collapsed": false
   }
  },
  {
   "cell_type": "code",
   "execution_count": 6,
   "outputs": [],
   "source": [
    "model = EncoderDecoder(in_channels=6, out_channels=3)\n",
    "model = load_model(model, weights_dir)"
   ],
   "metadata": {
    "collapsed": false
   }
  },
  {
   "cell_type": "code",
   "execution_count": 7,
   "outputs": [],
   "source": [
    "device = 'cpu' if torch.cuda.is_available() else 'cpu'\n",
    "\n",
    "model = model.to(device)\n",
    "model_input = model_input.to(device)"
   ],
   "metadata": {
    "collapsed": false
   }
  },
  {
   "cell_type": "markdown",
   "source": [
    "# Прогон модели"
   ],
   "metadata": {
    "collapsed": false
   }
  },
  {
   "cell_type": "code",
   "execution_count": 8,
   "outputs": [],
   "source": [
    "model_output = model(model_input)"
   ],
   "metadata": {
    "collapsed": false
   }
  },
  {
   "cell_type": "markdown",
   "source": [
    "# Отображение результата"
   ],
   "metadata": {
    "collapsed": false
   }
  },
  {
   "cell_type": "code",
   "execution_count": 9,
   "outputs": [
    {
     "data": {
      "text/plain": "tensor([[[[0.8276, 0.8278, 0.8435,  ..., 0.8499, 0.8457, 0.8227],\n          [0.8208, 0.8009, 0.8170,  ..., 0.8210, 0.7923, 0.7719],\n          [0.8281, 0.8297, 0.8267,  ..., 0.8289, 0.8123, 0.7700],\n          ...,\n          [0.7505, 0.7674, 0.7502,  ..., 0.8519, 0.8385, 0.8051],\n          [0.7536, 0.7909, 0.7715,  ..., 0.8625, 0.8488, 0.8216],\n          [0.7228, 0.7895, 0.7642,  ..., 0.8876, 0.8776, 0.8231]],\n\n         [[0.8274, 0.8124, 0.8317,  ..., 0.8450, 0.8387, 0.8026],\n          [0.8200, 0.7964, 0.8179,  ..., 0.8308, 0.7987, 0.7830],\n          [0.8255, 0.8225, 0.8254,  ..., 0.8383, 0.8247, 0.7895],\n          ...,\n          [0.7373, 0.7420, 0.7493,  ..., 0.8730, 0.8639, 0.8267],\n          [0.7379, 0.7621, 0.7539,  ..., 0.8651, 0.8556, 0.8281],\n          [0.7226, 0.7663, 0.7389,  ..., 0.8744, 0.8685, 0.8255]],\n\n         [[0.8175, 0.8025, 0.8207,  ..., 0.8318, 0.8187, 0.7890],\n          [0.8080, 0.7768, 0.7981,  ..., 0.8101, 0.7731, 0.7371],\n          [0.8177, 0.8168, 0.8184,  ..., 0.8290, 0.8146, 0.7556],\n          ...,\n          [0.7168, 0.7225, 0.7279,  ..., 0.8653, 0.8513, 0.8041],\n          [0.7194, 0.7393, 0.7278,  ..., 0.8559, 0.8425, 0.7938],\n          [0.7012, 0.7392, 0.7027,  ..., 0.8590, 0.8481, 0.7863]]]],\n       grad_fn=<SigmoidBackward0>)"
     },
     "execution_count": 9,
     "metadata": {},
     "output_type": "execute_result"
    }
   ],
   "source": [
    "model_output"
   ],
   "metadata": {
    "collapsed": false
   }
  },
  {
   "cell_type": "code",
   "execution_count": 10,
   "outputs": [],
   "source": [
    "model_output = to_array_from_decoder(model_output)"
   ],
   "metadata": {
    "collapsed": false
   }
  },
  {
   "cell_type": "code",
   "execution_count": 11,
   "outputs": [],
   "source": [
    "c = np.array(model_output[:,:,0])\n",
    "model_output[:,:,0] = model_output[:,:,2]\n",
    "model_output[:,:,2] = c"
   ],
   "metadata": {
    "collapsed": false
   }
  },
  {
   "cell_type": "code",
   "execution_count": 1,
   "outputs": [
    {
     "ename": "NameError",
     "evalue": "name 'show_array_as_image' is not defined",
     "output_type": "error",
     "traceback": [
      "\u001B[1;31m---------------------------------------------------------------------------\u001B[0m",
      "\u001B[1;31mNameError\u001B[0m                                 Traceback (most recent call last)",
      "Cell \u001B[1;32mIn[1], line 1\u001B[0m\n\u001B[1;32m----> 1\u001B[0m \u001B[43mshow_array_as_image\u001B[49m(np\u001B[38;5;241m.\u001B[39minvert(np\u001B[38;5;241m.\u001B[39muint8(\u001B[38;5;241m255\u001B[39m\u001B[38;5;241m*\u001B[39mmodel_output)))\n\u001B[0;32m      2\u001B[0m save_array_as_image(np\u001B[38;5;241m.\u001B[39minvert(np\u001B[38;5;241m.\u001B[39muint8(\u001B[38;5;241m255\u001B[39m\u001B[38;5;241m*\u001B[39mmodel_output)), save_path)\n",
      "\u001B[1;31mNameError\u001B[0m: name 'show_array_as_image' is not defined"
     ]
    }
   ],
   "source": [
    "show_array_as_image(np.invert(np.uint8(255*model_output)))\n",
    "save_array_as_image(np.invert(np.uint8(255*model_output)), save_path=r\"\")\n"
   ],
   "metadata": {
    "collapsed": false
   }
  },
  {
   "cell_type": "code",
   "execution_count": null,
   "outputs": [],
   "source": [],
   "metadata": {
    "collapsed": false
   }
  }
 ],
 "metadata": {
  "kernelspec": {
   "display_name": "Python 3",
   "language": "python",
   "name": "python3"
  },
  "language_info": {
   "codemirror_mode": {
    "name": "ipython",
    "version": 2
   },
   "file_extension": ".py",
   "mimetype": "text/x-python",
   "name": "python",
   "nbconvert_exporter": "python",
   "pygments_lexer": "ipython2",
   "version": "2.7.6"
  }
 },
 "nbformat": 4,
 "nbformat_minor": 0
}
