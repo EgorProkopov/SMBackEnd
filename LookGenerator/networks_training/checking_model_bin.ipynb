{
 "cells": [
  {
   "cell_type": "code",
   "execution_count": 8,
   "outputs": [],
   "source": [
    "import torch\n",
    "import torch.nn as nn\n",
    "import torchvision.transforms as transforms\n",
    "import torch.nn.functional as F\n",
    "import numpy as np\n",
    "import matplotlib.pyplot as plt\n",
    "from torchvision.transforms import ToTensor\n",
    "import os\n",
    "import PIL.Image as Image\n",
    "from typing import Tuple\n",
    "from LookGenerator.networks.segmentation import UNet, train_unet\n",
    "from LookGenerator.networks.utils import load_model\n",
    "import cv2\n",
    "from LookGenerator.datasets.utils import prepare_image_for_model, to_array_from_model_bin, load_image, load_image_for_test\n",
    "import LookGenerator.datasets.transforms as custom_transforms\n",
    "from tqdm import tqdm\n"
   ],
   "metadata": {
    "collapsed": false
   }
  },
  {
   "cell_type": "code",
   "execution_count": 2,
   "metadata": {
    "collapsed": true
   },
   "outputs": [],
   "source": [
    "image = Image.open(r\"C:\\Users\\DenisovDmitrii\\OneDrive - ITMO UNIVERSITY\\peopleDetector\\segmentation\\bigData\\image\\12260_00.jpg\")\n"
   ]
  },
  {
   "cell_type": "code",
   "execution_count": 29,
   "outputs": [],
   "source": [
    "transform_input = transforms.Compose([\n",
    "    transforms.Resize((256, 192)),\n",
    "    transforms.Normalize(\n",
    "        mean=[0.5, 0.5, 0.5],\n",
    "        std=[0.25, 0.25, 0.25]\n",
    "    )\n",
    "])\n",
    "\n",
    "transform_output = transforms.Compose([\n",
    "    transforms.Resize((256, 192)),\n",
    "    custom_transforms.MinMaxScale(),\n",
    "    custom_transforms.ThresholdTransform(threshold=0.5)\n",
    "])\n",
    "model = UNet(in_channels=3, out_channels = 1)\n"
   ],
   "metadata": {
    "collapsed": false
   }
  },
  {
   "cell_type": "code",
   "execution_count": 4,
   "outputs": [],
   "source": [
    "img_to_model = prepare_image_for_model(image, transform_input)"
   ],
   "metadata": {
    "collapsed": false
   }
  },
  {
   "cell_type": "code",
   "execution_count": 30,
   "outputs": [
    {
     "name": "stdout",
     "output_type": "stream",
     "text": [
      "cuda\n"
     ]
    }
   ],
   "source": [
    "model = load_model(model,\n",
    "                       r\"C:\\Users\\DenisovDmitrii\\Desktop\\segmentation_weits\\session31\\unet_epoch_27_0.0001116050171746746.pt\")\n",
    "device = 'cuda' if torch.cuda.is_available() else 'cpu'\n",
    "print(device)"
   ],
   "metadata": {
    "collapsed": false
   }
  },
  {
   "cell_type": "code",
   "execution_count": 6,
   "outputs": [],
   "source": [
    "modelled = model(img_to_model)\n"
   ],
   "metadata": {
    "collapsed": false
   }
  },
  {
   "cell_type": "code",
   "execution_count": null,
   "outputs": [],
   "source": [
    "print(modelled.shape)\n",
    "print(img_to_model.shape)\n",
    "plt.imshow((img_to_model.detach().numpy()[0,0,:,:]), cmap = 'binary')\n",
    "plt.show()\n",
    "modelled_img = to_array_from_model_bin(transform_output(modelled.detach()))\n",
    "\n",
    "plt.imshow(modelled_img,cmap = 'binary')\n",
    "plt.show()"
   ],
   "metadata": {
    "collapsed": false,
    "pycharm": {
     "is_executing": true
    }
   }
  },
  {
   "cell_type": "code",
   "execution_count": null,
   "outputs": [],
   "source": [
    "url = r'C:\\Users\\DenisovDmitrii\\Desktop\\segmentation_weits\\session31'\n",
    "list_files = os.listdir(url)\n",
    "for file in list_files:\n",
    "    model = load_model(model, url + \"\\\\\" + file)\n",
    "    seg = model(img_to_model)\n",
    "\n",
    "    seg = to_array_from_model_bin(transform_output(seg.detach()))\n",
    "    plt.imshow(seg, cmap = 'binary')\n",
    "    plt.show()"
   ],
   "metadata": {
    "collapsed": false,
    "pycharm": {
     "is_executing": true
    }
   }
  },
  {
   "cell_type": "code",
   "execution_count": null,
   "outputs": [],
   "source": [
    "list_files"
   ],
   "metadata": {
    "collapsed": false,
    "pycharm": {
     "is_executing": true
    }
   }
  },
  {
   "cell_type": "code",
   "execution_count": 31,
   "outputs": [],
   "source": [
    "test_dir = r\"C:\\Users\\DenisovDmitrii\\OneDrive - ITMO UNIVERSITY\\peopleDetector\\segmentation\\bigData\"\n",
    "test_folder = \"\\\\image\\\\\"\n",
    "save_masks_dir = \"C:\\\\Users\\\\DenisovDmitrii\\\\OneDrive - ITMO UNIVERSITY\\\\peopleDetector\\\\segmentation\\\\bigData\\\\epoch28\\\\\"\n",
    "list_files = os.listdir(test_dir + test_folder)\n",
    "images = [file.split('.')[0] for file in list_files]"
   ],
   "metadata": {
    "collapsed": false
   }
  },
  {
   "cell_type": "code",
   "execution_count": 32,
   "outputs": [
    {
     "name": "stderr",
     "output_type": "stream",
     "text": [
      "100%|██████████| 11647/11647 [03:51<00:00, 50.41it/s]\n"
     ]
    }
   ],
   "source": [
    "model.to(device)\n",
    "for image in tqdm(images):\n",
    "    #print(image)\n",
    "    img = load_image_for_test(test_dir, test_folder, image, '.jpg')\n",
    "    img_to_model = prepare_image_for_model(img, transform_input)\n",
    "    modelled = model(img_to_model.to(device))\n",
    "    mask = to_array_from_model_bin(transform_output(modelled.to('cpu').detach()))\n",
    "    # plt.figure(figsize=(18, 6))\n",
    "    # plt.subplot(1, 2, 1)\n",
    "    # plt.imshow(img, cmap='BrBG')\n",
    "    # plt.subplot(1, 2, 2)\n",
    "    # plt.imshow(mask, cmap='binary')\n",
    "    # plt.show()\n",
    "    Image.fromarray(np.uint8(mask * 255), 'L').save(save_masks_dir + image + '.png')\n"
   ],
   "metadata": {
    "collapsed": false
   }
  },
  {
   "cell_type": "code",
   "execution_count": null,
   "outputs": [],
   "source": [],
   "metadata": {
    "collapsed": false
   }
  }
 ],
 "metadata": {
  "kernelspec": {
   "display_name": "Python 3",
   "language": "python",
   "name": "python3"
  },
  "language_info": {
   "codemirror_mode": {
    "name": "ipython",
    "version": 2
   },
   "file_extension": ".py",
   "mimetype": "text/x-python",
   "name": "python",
   "nbconvert_exporter": "python",
   "pygments_lexer": "ipython2",
   "version": "2.7.6"
  }
 },
 "nbformat": 4,
 "nbformat_minor": 0
}
