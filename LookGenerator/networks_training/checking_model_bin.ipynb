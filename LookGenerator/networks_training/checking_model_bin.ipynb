{
 "cells": [
  {
   "cell_type": "code",
   "execution_count": 12,
   "outputs": [],
   "source": [
    "import torch\n",
    "import torch.nn as nn\n",
    "import torchvision.transforms as transforms\n",
    "import torch.nn.functional as F\n",
    "import numpy as np\n",
    "import matplotlib.pyplot as plt\n",
    "from torchvision.transforms import ToTensor\n",
    "import os\n",
    "import PIL.Image as Image\n",
    "from typing import Tuple\n",
    "from LookGenerator.networks.segmentation import UNet, train_unet\n",
    "from LookGenerator.networks.utils import load_model\n",
    "import cv2\n",
    "from LookGenerator.datasets.utils import prepare_image_for_model, to_array_from_model_bin\n",
    "import LookGenerator.datasets.transforms as custom_transforms"
   ],
   "metadata": {
    "collapsed": false
   }
  },
  {
   "cell_type": "code",
   "execution_count": 36,
   "metadata": {
    "collapsed": true
   },
   "outputs": [],
   "source": [
    "image = Image.open(r\"C:\\Users\\DenisovDmitrii\\Desktop\\test\\image\\04004_00.jpg\")\n"
   ]
  },
  {
   "cell_type": "code",
   "execution_count": 37,
   "outputs": [],
   "source": [
    "transform_input = transforms.Compose([\n",
    "    transforms.Resize((256, 192)),\n",
    "    transforms.Normalize(\n",
    "        mean=[0.5, 0.5, 0.5],\n",
    "        std=[0.25, 0.25, 0.25]\n",
    "    )\n",
    "])\n",
    "\n",
    "transform_output = transforms.Compose([\n",
    "    transforms.Resize((256, 192)),\n",
    "    custom_transforms.MinMaxScale(),\n",
    "    custom_transforms.ThresholdTransform(threshold=0.5)\n",
    "])\n",
    "model = UNet(in_channels=3, out_channels = 1)\n",
    "img_to_model = prepare_image_for_model(image, transform_input)"
   ],
   "metadata": {
    "collapsed": false
   }
  },
  {
   "cell_type": "code",
   "execution_count": 38,
   "outputs": [],
   "source": [
    "model = load_model(model,\n",
    "                       r\"C:\\Users\\DenisovDmitrii\\Desktop\\segmentation_weits\\session30\\unet_epoch_28_0.03604748229480396.pt\")\n",
    "modelled = model(img_to_model)"
   ],
   "metadata": {
    "collapsed": false
   }
  },
  {
   "cell_type": "code",
   "execution_count": null,
   "outputs": [],
   "source": [
    "print(modelled.shape)\n",
    "print(img_to_model.shape)\n",
    "plt.imshow((img_to_model.detach().numpy()[0,0,:,:]), cmap = 'binary')\n",
    "plt.show()\n",
    "modelled_img = to_array_from_model_bin(transform_output(modelled.detach()))\n",
    "\n",
    "plt.imshow(modelled_img,cmap = 'binary')\n",
    "plt.show()"
   ],
   "metadata": {
    "collapsed": false,
    "pycharm": {
     "is_executing": true
    }
   }
  },
  {
   "cell_type": "code",
   "execution_count": null,
   "outputs": [],
   "source": [
    "url = r'C:\\Users\\DenisovDmitrii\\Desktop\\segmentation_weits\\session30'\n",
    "list_files = os.listdir(url)\n",
    "for file in list_files:\n",
    "    model = load_model(model, url + \"\\\\\" + file)\n",
    "    seg = model(img_to_model)\n",
    "\n",
    "    seg = to_array_from_model_bin(transform_output(seg.detach()))\n",
    "    plt.imshow(seg, cmap = 'binary')\n",
    "    plt.show()"
   ],
   "metadata": {
    "collapsed": false,
    "pycharm": {
     "is_executing": true
    }
   }
  },
  {
   "cell_type": "code",
   "execution_count": 18,
   "outputs": [
    {
     "data": {
      "text/plain": "['unet_epoch_0_0.30445450190770423.pt',\n 'unet_epoch_10_0.06761818846403542.pt',\n 'unet_epoch_11_0.06577204590884306.pt',\n 'unet_epoch_12_0.06763071844638405.pt',\n 'unet_epoch_13_0.05954303453534336.pt',\n 'unet_epoch_14_0.051755657009149005.pt',\n 'unet_epoch_15_0.07621228612833104.pt',\n 'unet_epoch_16_0.06599833418504666.pt',\n 'unet_epoch_17_0.04408850303014456.pt',\n 'unet_epoch_18_0.04978961611198167.pt',\n 'unet_epoch_19_0.05503622903409651.pt',\n 'unet_epoch_1_0.23568003334231297.pt',\n 'unet_epoch_20_0.04275249560379376.pt',\n 'unet_epoch_21_0.03921663931618303.pt',\n 'unet_epoch_22_0.049867241059319445.pt',\n 'unet_epoch_23_0.038919925973829574.pt',\n 'unet_epoch_24_0.04572595434926324.pt',\n 'unet_epoch_25_0.03839088098730071.pt',\n 'unet_epoch_26_0.0386584507206739.pt',\n 'unet_epoch_27_0.03906711481385312.pt',\n 'unet_epoch_28_0.03604748229480396.pt',\n 'unet_epoch_29_0.039272330354078344.pt',\n 'unet_epoch_2_0.3139634180372044.pt',\n 'unet_epoch_3_0.13449974055007352.pt',\n 'unet_epoch_4_0.13063729541786648.pt',\n 'unet_epoch_5_0.1174236661675623.pt',\n 'unet_epoch_6_0.08820989311246549.pt',\n 'unet_epoch_7_0.0877638088570813.pt',\n 'unet_epoch_8_0.0730263548508539.pt',\n 'unet_epoch_9_0.06689221146753278.pt']"
     },
     "execution_count": 18,
     "metadata": {},
     "output_type": "execute_result"
    }
   ],
   "source": [
    "list_files"
   ],
   "metadata": {
    "collapsed": false
   }
  },
  {
   "cell_type": "code",
   "execution_count": null,
   "outputs": [],
   "source": [],
   "metadata": {
    "collapsed": false
   }
  }
 ],
 "metadata": {
  "kernelspec": {
   "display_name": "Python 3",
   "language": "python",
   "name": "python3"
  },
  "language_info": {
   "codemirror_mode": {
    "name": "ipython",
    "version": 2
   },
   "file_extension": ".py",
   "mimetype": "text/x-python",
   "name": "python",
   "nbconvert_exporter": "python",
   "pygments_lexer": "ipython2",
   "version": "2.7.6"
  }
 },
 "nbformat": 4,
 "nbformat_minor": 0
}
