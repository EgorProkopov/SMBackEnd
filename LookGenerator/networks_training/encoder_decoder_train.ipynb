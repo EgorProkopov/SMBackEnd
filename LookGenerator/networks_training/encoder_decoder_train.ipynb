{
 "cells": [
  {
   "cell_type": "markdown",
   "source": [
    "# Импорт"
   ],
   "metadata": {
    "collapsed": false
   }
  },
  {
   "cell_type": "code",
   "execution_count": 1,
   "metadata": {
    "collapsed": true,
    "ExecuteTime": {
     "end_time": "2023-05-31T09:36:12.745760100Z",
     "start_time": "2023-05-31T09:36:10.419983300Z"
    }
   },
   "outputs": [],
   "source": [
    "import os\n",
    "\n",
    "import matplotlib.pyplot as plt\n",
    "import numpy as np\n",
    "import PIL.Image as Image\n",
    "\n",
    "import torch\n",
    "import torch.nn as nn\n",
    "from torch.utils.data import DataLoader\n",
    "import torchvision.transforms as transforms\n",
    "import albumentations\n",
    "from LookGenerator.networks.losses import PerceptualLoss, PerPixelLoss\n",
    "from LookGenerator.datasets.encoder_decoder_datasets import EncoderDecoderDataset\n",
    "from LookGenerator.networks.trainer import Trainer\n",
    "from LookGenerator.networks.clothes_feature_extractor import ClothAutoencoder\n",
    "from LookGenerator.networks.encoder_decoder import EncoderDecoder\n",
    "from LookGenerator.networks_training.utils import check_path_and_creat\n",
    "import LookGenerator.datasets.transforms as custom_transforms\n",
    "from LookGenerator.networks.utils import load_model"
   ]
  },
  {
   "cell_type": "markdown",
   "source": [
    "# Загрузка данных"
   ],
   "metadata": {
    "collapsed": false
   }
  },
  {
   "cell_type": "code",
   "execution_count": 2,
   "outputs": [],
   "source": [
    "from torchvision.transforms import InterpolationMode\n",
    "\n",
    "transform_human = transforms.Compose([\n",
    "    transforms.Resize((256, 192)) #,\n",
    "    # transforms.RandomAffine(scale=(0.8, 1), degrees=(-90,90), fill = 0.9),\n",
    "    # transforms.ColorJitter(brightness=(0.5, 1), contrast=(0.4,1),  hue=(0, 0.3)),\n",
    "    # transforms.Normalize(mean=[0.5, 0.5, 0.5],\n",
    "    #                      std=[0.5, 0.5, 0.5])\n",
    "])\n",
    "\n",
    "transform_pose_points=transforms.Compose([\n",
    "    transforms.Resize((256, 192)),\n",
    "    custom_transforms.MinMaxScale()\n",
    "])\n",
    "\n",
    "transform_clothes = transforms.Compose([\n",
    "    transforms.Resize((256, 192)),\n",
    "    # transforms.ColorJitter(brightness=(0.5, 1), contrast=(0.4,1),  hue=(0, 0.3)),\n",
    "    transforms.Normalize(mean=[0.5, 0.5, 0.5],\n",
    "                         std=[0.5, 0.5, 0.5])\n",
    "])\n",
    "\n",
    "transform_human_restored = transforms.Compose([\n",
    "    transforms.Resize((256, 192)),\n",
    "    # transforms.RandomAffine(scale=(0.8, 1), degrees=(-90,90), fill = 0.9),\n",
    "    # transforms.ColorJitter(brightness=(0.5, 1), contrast=(0.4,1),  hue=(0, 0.3)),\n",
    "    custom_transforms.MinMaxScale()\n",
    "])\n"
   ],
   "metadata": {
    "collapsed": false,
    "ExecuteTime": {
     "end_time": "2023-05-31T09:36:12.748003900Z",
     "start_time": "2023-05-31T09:36:12.745760100Z"
    }
   }
  },
  {
   "cell_type": "code",
   "execution_count": 3,
   "outputs": [],
   "source": [
    "batch_size_train = 32\n",
    "batch_size_val = 16\n",
    "pin_memory = True\n",
    "num_workers = 8"
   ],
   "metadata": {
    "collapsed": false,
    "ExecuteTime": {
     "end_time": "2023-05-31T09:36:12.754630700Z",
     "start_time": "2023-05-31T09:36:12.748003900Z"
    }
   }
  },
  {
   "cell_type": "code",
   "execution_count": 4,
   "outputs": [],
   "source": [
    "train_dataset = EncoderDecoderDataset(\n",
    "    image_dir=r\"C:\\Users\\DenisovDmitrii\\Desktop\\forEncoderNew\\train\",\n",
    "    transform_human=transform_human,\n",
    "    transform_clothes=transform_clothes,\n",
    "    transform_human_restored=transform_human_restored\n",
    ")\n",
    "\n",
    "train_dataloader = DataLoader(\n",
    "    train_dataset, batch_size=batch_size_train, shuffle=True, pin_memory=pin_memory, num_workers=num_workers\n",
    ")"
   ],
   "metadata": {
    "collapsed": false,
    "ExecuteTime": {
     "end_time": "2023-05-31T09:36:12.962544800Z",
     "start_time": "2023-05-31T09:36:12.754630700Z"
    }
   }
  },
  {
   "cell_type": "code",
   "execution_count": 5,
   "outputs": [],
   "source": [
    "val_dataset = EncoderDecoderDataset(\n",
    "    image_dir=r\"C:\\Users\\DenisovDmitrii\\Desktop\\forEncoderNew\\val\",\n",
    "    transform_human=transform_human,\n",
    "    transform_clothes=transform_clothes,\n",
    "    transform_human_restored=transform_human_restored,\n",
    ")\n",
    "val_dataloader = DataLoader(\n",
    "    val_dataset, batch_size=batch_size_val, shuffle=False, pin_memory=pin_memory, num_workers=num_workers\n",
    ")"
   ],
   "metadata": {
    "collapsed": false,
    "ExecuteTime": {
     "end_time": "2023-05-31T09:36:12.991242200Z",
     "start_time": "2023-05-31T09:36:12.962544800Z"
    }
   }
  },
  {
   "cell_type": "code",
   "execution_count": 6,
   "outputs": [
    {
     "name": "stdout",
     "output_type": "stream",
     "text": [
      "torch.Size([32, 6, 256, 192])\n",
      "torch.Size([32, 3, 256, 192])\n"
     ]
    }
   ],
   "source": [
    "for X, y in train_dataloader:\n",
    "    print(X.shape)\n",
    "    print(y.shape)\n",
    "    break"
   ],
   "metadata": {
    "collapsed": false,
    "ExecuteTime": {
     "end_time": "2023-05-31T09:36:28.096623600Z",
     "start_time": "2023-05-31T09:36:12.990238800Z"
    }
   }
  },
  {
   "cell_type": "markdown",
   "source": [
    "# Лосс"
   ],
   "metadata": {
    "collapsed": false
   }
  },
  {
   "cell_type": "code",
   "execution_count": 7,
   "outputs": [],
   "source": [
    "class EncoderDecoderLoss(nn.Module):\n",
    "    \"\"\"\n",
    "    Encoder-decoder custom loss\n",
    "    \"\"\"\n",
    "    def __init__(self, device='cpu'):\n",
    "        super(EncoderDecoderLoss, self).__init__()\n",
    "        self.perceptual_loss = PerceptualLoss(device, weights_perceptual=[1.0, 1.0, 1.0, 1.0])\n",
    "        self.per_pixel_loss = PerPixelLoss().to(device)\n",
    "\n",
    "    def forward(self, outputs, targets):\n",
    "        loss = self.perceptual_loss(outputs, targets) + self.per_pixel_loss(outputs, targets)\n",
    "        return loss"
   ],
   "metadata": {
    "collapsed": false,
    "ExecuteTime": {
     "end_time": "2023-05-31T09:36:28.097627100Z",
     "start_time": "2023-05-31T09:36:28.096623600Z"
    }
   }
  },
  {
   "cell_type": "markdown",
   "source": [
    "# Обучение модели"
   ],
   "metadata": {
    "collapsed": false
   }
  },
  {
   "cell_type": "code",
   "execution_count": 8,
   "outputs": [],
   "source": [
    "clothes_feature_extractor = ClothAutoencoder(\n",
    "    in_channels=3,\n",
    "    out_channels=3,\n",
    "    features=(8, 16, 32, 64),\n",
    "    latent_dim_size=128,\n",
    "    encoder_activation_func=nn.LeakyReLU(),\n",
    "    decoder_activation_func=nn.ReLU()\n",
    ")\n",
    "clothes_feature_extractor = load_model(clothes_feature_extractor, r\"C:\\Users\\DenisovDmitrii\\OneDrive - ITMO UNIVERSITY\\peopleDetector\\autoDegradation\\weights\\testClothes_L1Loss_4features\\epoch_39.pt\")"
   ],
   "metadata": {
    "collapsed": false,
    "ExecuteTime": {
     "end_time": "2023-05-31T09:36:28.097627100Z",
     "start_time": "2023-05-31T09:36:28.097627100Z"
    }
   }
  },
  {
   "cell_type": "code",
   "execution_count": 9,
   "outputs": [
    {
     "name": "stderr",
     "output_type": "stream",
     "text": [
      "C:\\Users\\DenisovDmitrii\\AppData\\Local\\Programs\\Python\\Python311\\Lib\\site-packages\\torchvision\\models\\_utils.py:208: UserWarning: The parameter 'pretrained' is deprecated since 0.13 and may be removed in the future, please use 'weights' instead.\n",
      "  warnings.warn(\n",
      "C:\\Users\\DenisovDmitrii\\AppData\\Local\\Programs\\Python\\Python311\\Lib\\site-packages\\torchvision\\models\\_utils.py:223: UserWarning: Arguments other than a weight enum or `None` for 'weights' are deprecated since 0.13 and may be removed in the future. The current behavior is equivalent to passing `weights=VGG16_Weights.IMAGENET1K_V1`. You can also use `weights=VGG16_Weights.DEFAULT` to get the most up-to-date weights.\n",
      "  warnings.warn(msg)\n"
     ]
    },
    {
     "name": "stdout",
     "output_type": "stream",
     "text": [
      "cuda\n"
     ]
    }
   ],
   "source": [
    "model = EncoderDecoder(clothes_feature_extractor, in_channels=6, out_channels=3)\n",
    "optimizer = torch.optim.Adam(model.parameters(), lr=1e-3)\n",
    "\n",
    "device = 'cuda' if torch.cuda.is_available() else 'cpu'\n",
    "criterion = EncoderDecoderLoss(device=device)\n",
    "print(device)"
   ],
   "metadata": {
    "collapsed": false,
    "ExecuteTime": {
     "end_time": "2023-05-31T09:36:28.787224800Z",
     "start_time": "2023-05-31T09:36:28.097627100Z"
    }
   }
  },
  {
   "cell_type": "code",
   "execution_count": 10,
   "outputs": [
    {
     "data": {
      "text/plain": "True"
     },
     "execution_count": 10,
     "metadata": {},
     "output_type": "execute_result"
    }
   ],
   "source": [
    "save_directory=r\"C:\\Users\\DenisovDmitrii\\OneDrive - ITMO UNIVERSITY\\peopleDetector\\newEncoder\\weights\\testDoubleClothes\"\n",
    "check_path_and_creat(save_directory)"
   ],
   "metadata": {
    "collapsed": false,
    "ExecuteTime": {
     "end_time": "2023-05-31T09:36:37.918088200Z",
     "start_time": "2023-05-31T09:36:37.911124300Z"
    }
   }
  },
  {
   "cell_type": "code",
   "execution_count": 11,
   "outputs": [],
   "source": [
    "torch.backends.cuda.matmul.allow_tf32 = False\n",
    "torch.backends.cudnn.benchmark = True"
   ],
   "metadata": {
    "collapsed": false,
    "ExecuteTime": {
     "end_time": "2023-05-31T09:36:38.539217600Z",
     "start_time": "2023-05-31T09:36:38.531754300Z"
    }
   }
  },
  {
   "cell_type": "code",
   "execution_count": 12,
   "outputs": [],
   "source": [
    "trainer = Trainer(\n",
    "    model_=model,\n",
    "    optimizer=optimizer,\n",
    "    criterion=criterion,\n",
    "    device=device,\n",
    "    save_directory=save_directory,\n",
    "    save_step=1,\n",
    "    verbose=True\n",
    ")"
   ],
   "metadata": {
    "collapsed": false,
    "ExecuteTime": {
     "end_time": "2023-05-31T09:36:39.896056600Z",
     "start_time": "2023-05-31T09:36:39.890035800Z"
    }
   }
  },
  {
   "cell_type": "code",
   "execution_count": 13,
   "outputs": [
    {
     "name": "stdout",
     "output_type": "stream",
     "text": [
      "start time 31-05-2023 12:36\n"
     ]
    },
    {
     "name": "stderr",
     "output_type": "stream",
     "text": [
      "  0%|          | 0/364 [00:00<?, ?it/s]C:\\Users\\DenisovDmitrii\\AppData\\Local\\Programs\\Python\\Python311\\Lib\\site-packages\\torchvision\\transforms\\functional.py:1603: UserWarning: The default value of the antialias parameter of all the resizing transforms (Resize(), RandomResizedCrop(), etc.) will change from None to True in v0.17, in order to be consistent across the PIL and Tensor backends. To suppress this warning, directly pass antialias=True (recommended, future default), antialias=None (current default, which means False for Tensors and True for PIL), or antialias=False (only works on Tensors - PIL will still use antialiasing). This also applies if you are using the inference transforms from the models weights: update the call to weights.transforms(antialias=True).\n",
      "  warnings.warn(\n",
      "100%|██████████| 364/364 [06:26<00:00,  1.06s/it]\n"
     ]
    },
    {
     "name": "stdout",
     "output_type": "stream",
     "text": [
      "Epoch 0 of 19, train loss: 3.33374\n",
      "Epoch end time 31-05-2023 12:43\n"
     ]
    },
    {
     "name": "stderr",
     "output_type": "stream",
     "text": [
      "100%|██████████| 127/127 [00:25<00:00,  4.95it/s]\n"
     ]
    },
    {
     "name": "stdout",
     "output_type": "stream",
     "text": [
      "Epoch 0 of 19, val loss: 2.79613\n",
      "Epoch end time 31-05-2023 12:43\n"
     ]
    },
    {
     "name": "stderr",
     "output_type": "stream",
     "text": [
      "100%|██████████| 364/364 [04:34<00:00,  1.33it/s]\n"
     ]
    },
    {
     "name": "stdout",
     "output_type": "stream",
     "text": [
      "Epoch 1 of 19, train loss: 2.49311\n",
      "Epoch end time 31-05-2023 12:48\n"
     ]
    },
    {
     "name": "stderr",
     "output_type": "stream",
     "text": [
      "100%|██████████| 127/127 [00:24<00:00,  5.15it/s]\n"
     ]
    },
    {
     "name": "stdout",
     "output_type": "stream",
     "text": [
      "Epoch 1 of 19, val loss: 3.00698\n",
      "Epoch end time 31-05-2023 12:48\n"
     ]
    },
    {
     "name": "stderr",
     "output_type": "stream",
     "text": [
      "100%|██████████| 364/364 [03:06<00:00,  1.95it/s]\n"
     ]
    },
    {
     "name": "stdout",
     "output_type": "stream",
     "text": [
      "Epoch 2 of 19, train loss: 2.33267\n",
      "Epoch end time 31-05-2023 12:51\n"
     ]
    },
    {
     "name": "stderr",
     "output_type": "stream",
     "text": [
      "100%|██████████| 127/127 [00:24<00:00,  5.10it/s]\n"
     ]
    },
    {
     "name": "stdout",
     "output_type": "stream",
     "text": [
      "Epoch 2 of 19, val loss: 2.85367\n",
      "Epoch end time 31-05-2023 12:52\n"
     ]
    },
    {
     "name": "stderr",
     "output_type": "stream",
     "text": [
      "100%|██████████| 364/364 [04:11<00:00,  1.45it/s]\n"
     ]
    },
    {
     "name": "stdout",
     "output_type": "stream",
     "text": [
      "Epoch 3 of 19, train loss: 2.23664\n",
      "Epoch end time 31-05-2023 12:56\n"
     ]
    },
    {
     "name": "stderr",
     "output_type": "stream",
     "text": [
      "100%|██████████| 127/127 [00:24<00:00,  5.15it/s]\n"
     ]
    },
    {
     "name": "stdout",
     "output_type": "stream",
     "text": [
      "Epoch 3 of 19, val loss: 2.55635\n",
      "Epoch end time 31-05-2023 12:56\n"
     ]
    },
    {
     "name": "stderr",
     "output_type": "stream",
     "text": [
      "100%|██████████| 364/364 [03:24<00:00,  1.78it/s]\n"
     ]
    },
    {
     "name": "stdout",
     "output_type": "stream",
     "text": [
      "Epoch 4 of 19, train loss: 2.17106\n",
      "Epoch end time 31-05-2023 13:00\n"
     ]
    },
    {
     "name": "stderr",
     "output_type": "stream",
     "text": [
      "100%|██████████| 127/127 [00:24<00:00,  5.19it/s]\n"
     ]
    },
    {
     "name": "stdout",
     "output_type": "stream",
     "text": [
      "Epoch 4 of 19, val loss: 2.37343\n",
      "Epoch end time 31-05-2023 13:00\n"
     ]
    },
    {
     "name": "stderr",
     "output_type": "stream",
     "text": [
      "100%|██████████| 364/364 [03:22<00:00,  1.79it/s]\n"
     ]
    },
    {
     "name": "stdout",
     "output_type": "stream",
     "text": [
      "Epoch 5 of 19, train loss: 2.11904\n",
      "Epoch end time 31-05-2023 13:04\n"
     ]
    },
    {
     "name": "stderr",
     "output_type": "stream",
     "text": [
      "100%|██████████| 127/127 [00:24<00:00,  5.12it/s]\n"
     ]
    },
    {
     "name": "stdout",
     "output_type": "stream",
     "text": [
      "Epoch 5 of 19, val loss: 2.32335\n",
      "Epoch end time 31-05-2023 13:04\n"
     ]
    },
    {
     "name": "stderr",
     "output_type": "stream",
     "text": [
      "100%|██████████| 364/364 [03:23<00:00,  1.79it/s]\n"
     ]
    },
    {
     "name": "stdout",
     "output_type": "stream",
     "text": [
      "Epoch 6 of 19, train loss: 2.07247\n",
      "Epoch end time 31-05-2023 13:07\n"
     ]
    },
    {
     "name": "stderr",
     "output_type": "stream",
     "text": [
      "100%|██████████| 127/127 [00:24<00:00,  5.24it/s]\n"
     ]
    },
    {
     "name": "stdout",
     "output_type": "stream",
     "text": [
      "Epoch 6 of 19, val loss: 2.99310\n",
      "Epoch end time 31-05-2023 13:08\n"
     ]
    },
    {
     "name": "stderr",
     "output_type": "stream",
     "text": [
      "100%|██████████| 364/364 [03:27<00:00,  1.75it/s]\n"
     ]
    },
    {
     "name": "stdout",
     "output_type": "stream",
     "text": [
      "Epoch 7 of 19, train loss: 2.03410\n",
      "Epoch end time 31-05-2023 13:11\n"
     ]
    },
    {
     "name": "stderr",
     "output_type": "stream",
     "text": [
      "100%|██████████| 127/127 [00:24<00:00,  5.10it/s]\n"
     ]
    },
    {
     "name": "stdout",
     "output_type": "stream",
     "text": [
      "Epoch 7 of 19, val loss: 2.33559\n",
      "Epoch end time 31-05-2023 13:12\n"
     ]
    },
    {
     "name": "stderr",
     "output_type": "stream",
     "text": [
      "100%|██████████| 364/364 [03:24<00:00,  1.78it/s]\n"
     ]
    },
    {
     "name": "stdout",
     "output_type": "stream",
     "text": [
      "Epoch 8 of 19, train loss: 1.99526\n",
      "Epoch end time 31-05-2023 13:15\n"
     ]
    },
    {
     "name": "stderr",
     "output_type": "stream",
     "text": [
      "100%|██████████| 127/127 [00:24<00:00,  5.23it/s]\n"
     ]
    },
    {
     "name": "stdout",
     "output_type": "stream",
     "text": [
      "Epoch 8 of 19, val loss: 2.24575\n",
      "Epoch end time 31-05-2023 13:16\n"
     ]
    },
    {
     "name": "stderr",
     "output_type": "stream",
     "text": [
      "100%|██████████| 364/364 [03:34<00:00,  1.70it/s]\n"
     ]
    },
    {
     "name": "stdout",
     "output_type": "stream",
     "text": [
      "Epoch 9 of 19, train loss: 1.96167\n",
      "Epoch end time 31-05-2023 13:19\n"
     ]
    },
    {
     "name": "stderr",
     "output_type": "stream",
     "text": [
      "100%|██████████| 127/127 [00:25<00:00,  5.00it/s]\n"
     ]
    },
    {
     "name": "stdout",
     "output_type": "stream",
     "text": [
      "Epoch 9 of 19, val loss: 2.23124\n",
      "Epoch end time 31-05-2023 13:20\n"
     ]
    },
    {
     "name": "stderr",
     "output_type": "stream",
     "text": [
      "100%|██████████| 364/364 [04:12<00:00,  1.44it/s]\n"
     ]
    },
    {
     "name": "stdout",
     "output_type": "stream",
     "text": [
      "Epoch 10 of 19, train loss: 1.92615\n",
      "Epoch end time 31-05-2023 13:24\n"
     ]
    },
    {
     "name": "stderr",
     "output_type": "stream",
     "text": [
      "100%|██████████| 127/127 [00:26<00:00,  4.86it/s]\n"
     ]
    },
    {
     "name": "stdout",
     "output_type": "stream",
     "text": [
      "Epoch 10 of 19, val loss: 2.16187\n",
      "Epoch end time 31-05-2023 13:24\n"
     ]
    },
    {
     "name": "stderr",
     "output_type": "stream",
     "text": [
      "100%|██████████| 364/364 [04:13<00:00,  1.44it/s]\n"
     ]
    },
    {
     "name": "stdout",
     "output_type": "stream",
     "text": [
      "Epoch 11 of 19, train loss: 1.88984\n",
      "Epoch end time 31-05-2023 13:28\n"
     ]
    },
    {
     "name": "stderr",
     "output_type": "stream",
     "text": [
      "100%|██████████| 127/127 [00:25<00:00,  5.06it/s]\n"
     ]
    },
    {
     "name": "stdout",
     "output_type": "stream",
     "text": [
      "Epoch 11 of 19, val loss: 2.12352\n",
      "Epoch end time 31-05-2023 13:29\n"
     ]
    },
    {
     "name": "stderr",
     "output_type": "stream",
     "text": [
      "100%|██████████| 364/364 [03:37<00:00,  1.67it/s]\n"
     ]
    },
    {
     "name": "stdout",
     "output_type": "stream",
     "text": [
      "Epoch 12 of 19, train loss: 1.85630\n",
      "Epoch end time 31-05-2023 13:32\n"
     ]
    },
    {
     "name": "stderr",
     "output_type": "stream",
     "text": [
      "100%|██████████| 127/127 [00:24<00:00,  5.15it/s]\n"
     ]
    },
    {
     "name": "stdout",
     "output_type": "stream",
     "text": [
      "Epoch 12 of 19, val loss: 2.66901\n",
      "Epoch end time 31-05-2023 13:33\n"
     ]
    },
    {
     "name": "stderr",
     "output_type": "stream",
     "text": [
      "100%|██████████| 364/364 [03:46<00:00,  1.61it/s]\n"
     ]
    },
    {
     "name": "stdout",
     "output_type": "stream",
     "text": [
      "Epoch 13 of 19, train loss: 1.82099\n",
      "Epoch end time 31-05-2023 13:37\n"
     ]
    },
    {
     "name": "stderr",
     "output_type": "stream",
     "text": [
      "100%|██████████| 127/127 [00:25<00:00,  5.03it/s]\n"
     ]
    },
    {
     "name": "stdout",
     "output_type": "stream",
     "text": [
      "Epoch 13 of 19, val loss: 2.26055\n",
      "Epoch end time 31-05-2023 13:37\n"
     ]
    },
    {
     "name": "stderr",
     "output_type": "stream",
     "text": [
      "100%|██████████| 364/364 [03:26<00:00,  1.76it/s]\n"
     ]
    },
    {
     "name": "stdout",
     "output_type": "stream",
     "text": [
      "Epoch 14 of 19, train loss: 1.78490\n",
      "Epoch end time 31-05-2023 13:41\n"
     ]
    },
    {
     "name": "stderr",
     "output_type": "stream",
     "text": [
      "100%|██████████| 127/127 [00:23<00:00,  5.31it/s]\n"
     ]
    },
    {
     "name": "stdout",
     "output_type": "stream",
     "text": [
      "Epoch 14 of 19, val loss: 2.36441\n",
      "Epoch end time 31-05-2023 13:41\n"
     ]
    },
    {
     "name": "stderr",
     "output_type": "stream",
     "text": [
      "100%|██████████| 364/364 [03:20<00:00,  1.81it/s]\n"
     ]
    },
    {
     "name": "stdout",
     "output_type": "stream",
     "text": [
      "Epoch 15 of 19, train loss: 1.75108\n",
      "Epoch end time 31-05-2023 13:44\n"
     ]
    },
    {
     "name": "stderr",
     "output_type": "stream",
     "text": [
      "100%|██████████| 127/127 [00:24<00:00,  5.19it/s]\n"
     ]
    },
    {
     "name": "stdout",
     "output_type": "stream",
     "text": [
      "Epoch 15 of 19, val loss: 2.28397\n",
      "Epoch end time 31-05-2023 13:45\n"
     ]
    },
    {
     "name": "stderr",
     "output_type": "stream",
     "text": [
      "100%|██████████| 364/364 [03:18<00:00,  1.83it/s]\n"
     ]
    },
    {
     "name": "stdout",
     "output_type": "stream",
     "text": [
      "Epoch 16 of 19, train loss: 1.71943\n",
      "Epoch end time 31-05-2023 13:48\n"
     ]
    },
    {
     "name": "stderr",
     "output_type": "stream",
     "text": [
      "100%|██████████| 127/127 [00:24<00:00,  5.29it/s]\n"
     ]
    },
    {
     "name": "stdout",
     "output_type": "stream",
     "text": [
      "Epoch 16 of 19, val loss: 2.35740\n",
      "Epoch end time 31-05-2023 13:48\n"
     ]
    },
    {
     "name": "stderr",
     "output_type": "stream",
     "text": [
      "100%|██████████| 364/364 [02:59<00:00,  2.03it/s]\n"
     ]
    },
    {
     "name": "stdout",
     "output_type": "stream",
     "text": [
      "Epoch 17 of 19, train loss: 1.68388\n",
      "Epoch end time 31-05-2023 13:51\n"
     ]
    },
    {
     "name": "stderr",
     "output_type": "stream",
     "text": [
      "100%|██████████| 127/127 [00:23<00:00,  5.29it/s]\n"
     ]
    },
    {
     "name": "stdout",
     "output_type": "stream",
     "text": [
      "Epoch 17 of 19, val loss: 2.14883\n",
      "Epoch end time 31-05-2023 13:52\n"
     ]
    },
    {
     "name": "stderr",
     "output_type": "stream",
     "text": [
      "100%|██████████| 364/364 [03:10<00:00,  1.91it/s]\n"
     ]
    },
    {
     "name": "stdout",
     "output_type": "stream",
     "text": [
      "Epoch 18 of 19, train loss: 1.65037\n",
      "Epoch end time 31-05-2023 13:55\n"
     ]
    },
    {
     "name": "stderr",
     "output_type": "stream",
     "text": [
      "100%|██████████| 127/127 [00:24<00:00,  5.16it/s]\n"
     ]
    },
    {
     "name": "stdout",
     "output_type": "stream",
     "text": [
      "Epoch 18 of 19, val loss: 2.13923\n",
      "Epoch end time 31-05-2023 13:55\n"
     ]
    },
    {
     "name": "stderr",
     "output_type": "stream",
     "text": [
      "100%|██████████| 364/364 [03:50<00:00,  1.58it/s]\n"
     ]
    },
    {
     "name": "stdout",
     "output_type": "stream",
     "text": [
      "Epoch 19 of 19, train loss: 1.62356\n",
      "Epoch end time 31-05-2023 13:59\n"
     ]
    },
    {
     "name": "stderr",
     "output_type": "stream",
     "text": [
      "100%|██████████| 127/127 [00:26<00:00,  4.85it/s]"
     ]
    },
    {
     "name": "stdout",
     "output_type": "stream",
     "text": [
      "Epoch 19 of 19, val loss: 2.18130\n",
      "Epoch end time 31-05-2023 14:00\n",
      "end time 31-05-2023 14:00\n",
      "delta 1:23:11.532322\n"
     ]
    },
    {
     "name": "stderr",
     "output_type": "stream",
     "text": [
      "\n"
     ]
    }
   ],
   "source": [
    "trainer.train(train_dataloader, val_dataloader, epoch_num=20)"
   ],
   "metadata": {
    "collapsed": false,
    "ExecuteTime": {
     "end_time": "2023-05-31T11:00:08.946892600Z",
     "start_time": "2023-05-31T09:36:57.402818200Z"
    }
   }
  },
  {
   "cell_type": "code",
   "execution_count": 14,
   "outputs": [
    {
     "data": {
      "text/plain": "<Figure size 640x480 with 1 Axes>",
      "image/png": "[encoded data removed]"
     },
     "metadata": {},
     "output_type": "display_data"
    }
   ],
   "source": [
    "trainer.draw_history_plots()"
   ],
   "metadata": {
    "collapsed": false,
    "ExecuteTime": {
     "end_time": "2023-05-31T11:00:09.075312400Z",
     "start_time": "2023-05-31T11:00:08.950906500Z"
    }
   }
  },
  {
   "cell_type": "code",
   "execution_count": 15,
   "outputs": [
    {
     "name": "stdout",
     "output_type": "stream",
     "text": [
      "Model:\n",
      "\tEncoder-decoder: \n",
      "\tbase model \n",
      "Autoencoder: \n",
      "\tfeatures: (8, 16, 32, 64), latent_size: 128\n",
      "Criterion: \n",
      "\t<class '__main__.EncoderDecoderLoss'>\n",
      "Optimizer: \n",
      "\t<class 'torch.optim.adam.Adam'>\n"
     ]
    }
   ],
   "source": [
    "print(str(trainer))"
   ],
   "metadata": {
    "collapsed": false,
    "ExecuteTime": {
     "end_time": "2023-05-31T11:00:09.079325900Z",
     "start_time": "2023-05-31T11:00:09.075312400Z"
    }
   }
  },
  {
   "cell_type": "code",
   "execution_count": 17,
   "outputs": [
    {
     "name": "stdout",
     "output_type": "stream",
     "text": [
      "----------------------------------------------------------------\n",
      "        Layer (type)               Output Shape         Param #\n",
      "================================================================\n",
      "            Conv2d-1         [-1, 64, 256, 192]           3,520\n",
      "         LeakyReLU-2         [-1, 64, 256, 192]               0\n",
      "         LeakyReLU-3         [-1, 64, 256, 192]               0\n",
      "           Conv3x3-4         [-1, 64, 256, 192]               0\n",
      "            Conv2d-5         [-1, 64, 256, 192]          36,928\n",
      "           Conv3x3-6         [-1, 64, 256, 192]               0\n",
      "         LeakyReLU-7         [-1, 64, 256, 192]               0\n",
      "         LeakyReLU-8         [-1, 64, 256, 192]               0\n",
      "           Conv5x5-9         [-1, 64, 256, 192]               0\n",
      "           Conv2d-10         [-1, 64, 256, 192]          36,928\n",
      "        LeakyReLU-11         [-1, 64, 256, 192]               0\n",
      "        LeakyReLU-12         [-1, 64, 256, 192]               0\n",
      "          Conv3x3-13         [-1, 64, 256, 192]               0\n",
      "           Conv2d-14         [-1, 64, 256, 192]          36,928\n",
      "          Conv3x3-15         [-1, 64, 256, 192]               0\n",
      "        LeakyReLU-16         [-1, 64, 256, 192]               0\n",
      "        LeakyReLU-17         [-1, 64, 256, 192]               0\n",
      "          Conv5x5-18         [-1, 64, 256, 192]               0\n",
      "        MaxPool2d-19          [-1, 64, 128, 96]               0\n",
      "           Conv2d-20         [-1, 128, 128, 96]          73,856\n",
      "      BatchNorm2d-21         [-1, 128, 128, 96]             256\n",
      "        LeakyReLU-22         [-1, 128, 128, 96]               0\n",
      "          Conv3x3-23         [-1, 128, 128, 96]               0\n",
      "        MaxPool2d-24          [-1, 128, 64, 48]               0\n",
      "           Conv2d-25          [-1, 256, 64, 48]         295,168\n",
      "      BatchNorm2d-26          [-1, 256, 64, 48]             512\n",
      "        LeakyReLU-27          [-1, 256, 64, 48]               0\n",
      "          Conv3x3-28          [-1, 256, 64, 48]               0\n",
      "        MaxPool2d-29          [-1, 256, 32, 24]               0\n",
      "           Conv2d-30          [-1, 512, 32, 24]       1,180,160\n",
      "      BatchNorm2d-31          [-1, 512, 32, 24]           1,024\n",
      "        LeakyReLU-32          [-1, 512, 32, 24]               0\n",
      "          Conv3x3-33          [-1, 512, 32, 24]               0\n",
      "        MaxPool2d-34          [-1, 512, 16, 12]               0\n",
      "           Conv2d-35          [-1, 512, 16, 12]       2,359,808\n",
      "      BatchNorm2d-36          [-1, 512, 16, 12]           1,024\n",
      "        LeakyReLU-37          [-1, 512, 16, 12]               0\n",
      "          Conv3x3-38          [-1, 512, 16, 12]               0\n",
      "        MaxPool2d-39            [-1, 512, 8, 6]               0\n",
      "           Conv2d-40          [-1, 8, 256, 192]             224\n",
      "      BatchNorm2d-41          [-1, 8, 256, 192]              16\n",
      "        LeakyReLU-42          [-1, 8, 256, 192]               0\n",
      "        LeakyReLU-43          [-1, 8, 256, 192]               0\n",
      "        LeakyReLU-44          [-1, 8, 256, 192]               0\n",
      "        LeakyReLU-45          [-1, 8, 256, 192]               0\n",
      "          Conv3x3-46          [-1, 8, 256, 192]               0\n",
      "        MaxPool2d-47           [-1, 8, 128, 96]               0\n",
      "        MaxPool2d-48           [-1, 8, 128, 96]               0\n",
      "           Conv2d-49          [-1, 16, 128, 96]           1,168\n",
      "      BatchNorm2d-50          [-1, 16, 128, 96]              32\n",
      "        LeakyReLU-51          [-1, 16, 128, 96]               0\n",
      "        LeakyReLU-52          [-1, 16, 128, 96]               0\n",
      "        LeakyReLU-53          [-1, 16, 128, 96]               0\n",
      "        LeakyReLU-54          [-1, 16, 128, 96]               0\n",
      "          Conv3x3-55          [-1, 16, 128, 96]               0\n",
      "        MaxPool2d-56           [-1, 16, 64, 48]               0\n",
      "        MaxPool2d-57           [-1, 16, 64, 48]               0\n",
      "           Conv2d-58           [-1, 32, 64, 48]           4,640\n",
      "      BatchNorm2d-59           [-1, 32, 64, 48]              64\n",
      "        LeakyReLU-60           [-1, 32, 64, 48]               0\n",
      "        LeakyReLU-61           [-1, 32, 64, 48]               0\n",
      "        LeakyReLU-62           [-1, 32, 64, 48]               0\n",
      "        LeakyReLU-63           [-1, 32, 64, 48]               0\n",
      "          Conv3x3-64           [-1, 32, 64, 48]               0\n",
      "        MaxPool2d-65           [-1, 32, 32, 24]               0\n",
      "        MaxPool2d-66           [-1, 32, 32, 24]               0\n",
      "           Conv2d-67           [-1, 64, 32, 24]          18,496\n",
      "      BatchNorm2d-68           [-1, 64, 32, 24]             128\n",
      "        LeakyReLU-69           [-1, 64, 32, 24]               0\n",
      "        LeakyReLU-70           [-1, 64, 32, 24]               0\n",
      "        LeakyReLU-71           [-1, 64, 32, 24]               0\n",
      "        LeakyReLU-72           [-1, 64, 32, 24]               0\n",
      "          Conv3x3-73           [-1, 64, 32, 24]               0\n",
      "        MaxPool2d-74           [-1, 64, 16, 12]               0\n",
      "        MaxPool2d-75           [-1, 64, 16, 12]               0\n",
      "           Conv2d-76          [-1, 128, 16, 12]          73,856\n",
      "          Conv3x3-77          [-1, 128, 16, 12]               0\n",
      "           Conv2d-78            [-1, 512, 8, 6]       2,949,632\n",
      "      BatchNorm2d-79            [-1, 512, 8, 6]           1,024\n",
      "        LeakyReLU-80            [-1, 512, 8, 6]               0\n",
      "          Conv3x3-81            [-1, 512, 8, 6]               0\n",
      "UpsamplingNearest2d-82          [-1, 512, 16, 12]               0\n",
      "           Conv2d-83          [-1, 512, 16, 12]       4,719,104\n",
      "      BatchNorm2d-84          [-1, 512, 16, 12]           1,024\n",
      "        LeakyReLU-85          [-1, 512, 16, 12]               0\n",
      "          Conv3x3-86          [-1, 512, 16, 12]               0\n",
      "UpsamplingNearest2d-87          [-1, 512, 32, 24]               0\n",
      "           Conv2d-88          [-1, 256, 32, 24]       2,359,552\n",
      "      BatchNorm2d-89          [-1, 256, 32, 24]             512\n",
      "        LeakyReLU-90          [-1, 256, 32, 24]               0\n",
      "          Conv3x3-91          [-1, 256, 32, 24]               0\n",
      "UpsamplingNearest2d-92          [-1, 256, 64, 48]               0\n",
      "           Conv2d-93          [-1, 128, 64, 48]         589,952\n",
      "      BatchNorm2d-94          [-1, 128, 64, 48]             256\n",
      "        LeakyReLU-95          [-1, 128, 64, 48]               0\n",
      "          Conv3x3-96          [-1, 128, 64, 48]               0\n",
      "UpsamplingNearest2d-97         [-1, 128, 128, 96]               0\n",
      "           Conv2d-98          [-1, 64, 128, 96]         147,520\n",
      "      BatchNorm2d-99          [-1, 64, 128, 96]             128\n",
      "       LeakyReLU-100          [-1, 64, 128, 96]               0\n",
      "         Conv3x3-101          [-1, 64, 128, 96]               0\n",
      "UpsamplingNearest2d-102         [-1, 64, 256, 192]               0\n",
      "          Conv2d-103         [-1, 32, 256, 192]          36,896\n",
      "     BatchNorm2d-104         [-1, 32, 256, 192]              64\n",
      "       LeakyReLU-105         [-1, 32, 256, 192]               0\n",
      "       LeakyReLU-106         [-1, 32, 256, 192]               0\n",
      "         Conv3x3-107         [-1, 32, 256, 192]               0\n",
      "          Conv2d-108         [-1, 32, 256, 192]           9,248\n",
      "     BatchNorm2d-109         [-1, 32, 256, 192]              64\n",
      "         Conv3x3-110         [-1, 32, 256, 192]               0\n",
      "       LeakyReLU-111         [-1, 32, 256, 192]               0\n",
      "       LeakyReLU-112         [-1, 32, 256, 192]               0\n",
      "         Conv5x5-113         [-1, 32, 256, 192]               0\n",
      "          Conv2d-114         [-1, 32, 256, 192]           9,248\n",
      "     BatchNorm2d-115         [-1, 32, 256, 192]              64\n",
      "       LeakyReLU-116         [-1, 32, 256, 192]               0\n",
      "       LeakyReLU-117         [-1, 32, 256, 192]               0\n",
      "         Conv3x3-118         [-1, 32, 256, 192]               0\n",
      "          Conv2d-119         [-1, 32, 256, 192]           9,248\n",
      "     BatchNorm2d-120         [-1, 32, 256, 192]              64\n",
      "         Conv3x3-121         [-1, 32, 256, 192]               0\n",
      "       LeakyReLU-122         [-1, 32, 256, 192]               0\n",
      "       LeakyReLU-123         [-1, 32, 256, 192]               0\n",
      "         Conv5x5-124         [-1, 32, 256, 192]               0\n",
      "          Conv2d-125          [-1, 3, 256, 192]              99\n",
      "         Sigmoid-126          [-1, 3, 256, 192]               0\n",
      "================================================================\n",
      "Total params: 14,958,435\n",
      "Trainable params: 14,958,435\n",
      "Non-trainable params: 0\n",
      "----------------------------------------------------------------\n",
      "Input size (MB): 1.12\n",
      "Forward/backward pass size (MB): 930.75\n",
      "Params size (MB): 57.06\n",
      "Estimated Total Size (MB): 988.94\n",
      "----------------------------------------------------------------\n"
     ]
    }
   ],
   "source": [
    "from torchsummary import summary\n",
    "summary(model.to('cuda'), (6, 256, 192))"
   ],
   "metadata": {
    "collapsed": false,
    "ExecuteTime": {
     "end_time": "2023-05-31T11:00:09.494205200Z",
     "start_time": "2023-05-31T11:00:09.111329800Z"
    }
   }
  },
  {
   "cell_type": "code",
   "execution_count": 18,
   "outputs": [
    {
     "name": "stdout",
     "output_type": "stream",
     "text": [
      "----------------------------------------------------------------\n",
      "        Layer (type)               Output Shape         Param #\n",
      "================================================================\n",
      "            Conv2d-1         [-1, 64, 256, 192]           3,520\n",
      "         LeakyReLU-2         [-1, 64, 256, 192]               0\n",
      "         LeakyReLU-3         [-1, 64, 256, 192]               0\n",
      "           Conv3x3-4         [-1, 64, 256, 192]               0\n",
      "            Conv2d-5         [-1, 64, 256, 192]          36,928\n",
      "           Conv3x3-6         [-1, 64, 256, 192]               0\n",
      "         LeakyReLU-7         [-1, 64, 256, 192]               0\n",
      "         LeakyReLU-8         [-1, 64, 256, 192]               0\n",
      "           Conv5x5-9         [-1, 64, 256, 192]               0\n",
      "           Conv2d-10         [-1, 64, 256, 192]          36,928\n",
      "        LeakyReLU-11         [-1, 64, 256, 192]               0\n",
      "        LeakyReLU-12         [-1, 64, 256, 192]               0\n",
      "          Conv3x3-13         [-1, 64, 256, 192]               0\n",
      "           Conv2d-14         [-1, 64, 256, 192]          36,928\n",
      "          Conv3x3-15         [-1, 64, 256, 192]               0\n",
      "        LeakyReLU-16         [-1, 64, 256, 192]               0\n",
      "        LeakyReLU-17         [-1, 64, 256, 192]               0\n",
      "          Conv5x5-18         [-1, 64, 256, 192]               0\n",
      "        MaxPool2d-19          [-1, 64, 128, 96]               0\n",
      "           Conv2d-20         [-1, 128, 128, 96]          73,856\n",
      "      BatchNorm2d-21         [-1, 128, 128, 96]             256\n",
      "        LeakyReLU-22         [-1, 128, 128, 96]               0\n",
      "          Conv3x3-23         [-1, 128, 128, 96]               0\n",
      "        MaxPool2d-24          [-1, 128, 64, 48]               0\n",
      "           Conv2d-25          [-1, 256, 64, 48]         295,168\n",
      "      BatchNorm2d-26          [-1, 256, 64, 48]             512\n",
      "        LeakyReLU-27          [-1, 256, 64, 48]               0\n",
      "          Conv3x3-28          [-1, 256, 64, 48]               0\n",
      "        MaxPool2d-29          [-1, 256, 32, 24]               0\n",
      "           Conv2d-30          [-1, 512, 32, 24]       1,180,160\n",
      "      BatchNorm2d-31          [-1, 512, 32, 24]           1,024\n",
      "        LeakyReLU-32          [-1, 512, 32, 24]               0\n",
      "          Conv3x3-33          [-1, 512, 32, 24]               0\n",
      "        MaxPool2d-34          [-1, 512, 16, 12]               0\n",
      "           Conv2d-35          [-1, 512, 16, 12]       2,359,808\n",
      "      BatchNorm2d-36          [-1, 512, 16, 12]           1,024\n",
      "        LeakyReLU-37          [-1, 512, 16, 12]               0\n",
      "          Conv3x3-38          [-1, 512, 16, 12]               0\n",
      "        MaxPool2d-39            [-1, 512, 8, 6]               0\n",
      "           Conv2d-40          [-1, 8, 256, 192]             224\n",
      "      BatchNorm2d-41          [-1, 8, 256, 192]              16\n",
      "        LeakyReLU-42          [-1, 8, 256, 192]               0\n",
      "        LeakyReLU-43          [-1, 8, 256, 192]               0\n",
      "        LeakyReLU-44          [-1, 8, 256, 192]               0\n",
      "        LeakyReLU-45          [-1, 8, 256, 192]               0\n",
      "          Conv3x3-46          [-1, 8, 256, 192]               0\n",
      "        MaxPool2d-47           [-1, 8, 128, 96]               0\n",
      "        MaxPool2d-48           [-1, 8, 128, 96]               0\n",
      "           Conv2d-49          [-1, 16, 128, 96]           1,168\n",
      "      BatchNorm2d-50          [-1, 16, 128, 96]              32\n",
      "        LeakyReLU-51          [-1, 16, 128, 96]               0\n",
      "        LeakyReLU-52          [-1, 16, 128, 96]               0\n",
      "        LeakyReLU-53          [-1, 16, 128, 96]               0\n",
      "        LeakyReLU-54          [-1, 16, 128, 96]               0\n",
      "          Conv3x3-55          [-1, 16, 128, 96]               0\n",
      "        MaxPool2d-56           [-1, 16, 64, 48]               0\n",
      "        MaxPool2d-57           [-1, 16, 64, 48]               0\n",
      "           Conv2d-58           [-1, 32, 64, 48]           4,640\n",
      "      BatchNorm2d-59           [-1, 32, 64, 48]              64\n",
      "        LeakyReLU-60           [-1, 32, 64, 48]               0\n",
      "        LeakyReLU-61           [-1, 32, 64, 48]               0\n",
      "        LeakyReLU-62           [-1, 32, 64, 48]               0\n",
      "        LeakyReLU-63           [-1, 32, 64, 48]               0\n",
      "          Conv3x3-64           [-1, 32, 64, 48]               0\n",
      "        MaxPool2d-65           [-1, 32, 32, 24]               0\n",
      "        MaxPool2d-66           [-1, 32, 32, 24]               0\n",
      "           Conv2d-67           [-1, 64, 32, 24]          18,496\n",
      "      BatchNorm2d-68           [-1, 64, 32, 24]             128\n",
      "        LeakyReLU-69           [-1, 64, 32, 24]               0\n",
      "        LeakyReLU-70           [-1, 64, 32, 24]               0\n",
      "        LeakyReLU-71           [-1, 64, 32, 24]               0\n",
      "        LeakyReLU-72           [-1, 64, 32, 24]               0\n",
      "          Conv3x3-73           [-1, 64, 32, 24]               0\n",
      "        MaxPool2d-74           [-1, 64, 16, 12]               0\n",
      "        MaxPool2d-75           [-1, 64, 16, 12]               0\n",
      "           Conv2d-76          [-1, 128, 16, 12]          73,856\n",
      "          Conv3x3-77          [-1, 128, 16, 12]               0\n",
      "           Conv2d-78            [-1, 512, 8, 6]       2,949,632\n",
      "      BatchNorm2d-79            [-1, 512, 8, 6]           1,024\n",
      "        LeakyReLU-80            [-1, 512, 8, 6]               0\n",
      "          Conv3x3-81            [-1, 512, 8, 6]               0\n",
      "UpsamplingNearest2d-82          [-1, 512, 16, 12]               0\n",
      "           Conv2d-83          [-1, 512, 16, 12]       4,719,104\n",
      "      BatchNorm2d-84          [-1, 512, 16, 12]           1,024\n",
      "        LeakyReLU-85          [-1, 512, 16, 12]               0\n",
      "          Conv3x3-86          [-1, 512, 16, 12]               0\n",
      "UpsamplingNearest2d-87          [-1, 512, 32, 24]               0\n",
      "           Conv2d-88          [-1, 256, 32, 24]       2,359,552\n",
      "      BatchNorm2d-89          [-1, 256, 32, 24]             512\n",
      "        LeakyReLU-90          [-1, 256, 32, 24]               0\n",
      "          Conv3x3-91          [-1, 256, 32, 24]               0\n",
      "UpsamplingNearest2d-92          [-1, 256, 64, 48]               0\n",
      "           Conv2d-93          [-1, 128, 64, 48]         589,952\n",
      "      BatchNorm2d-94          [-1, 128, 64, 48]             256\n",
      "        LeakyReLU-95          [-1, 128, 64, 48]               0\n",
      "          Conv3x3-96          [-1, 128, 64, 48]               0\n",
      "UpsamplingNearest2d-97         [-1, 128, 128, 96]               0\n",
      "           Conv2d-98          [-1, 64, 128, 96]         147,520\n",
      "      BatchNorm2d-99          [-1, 64, 128, 96]             128\n",
      "       LeakyReLU-100          [-1, 64, 128, 96]               0\n",
      "         Conv3x3-101          [-1, 64, 128, 96]               0\n",
      "UpsamplingNearest2d-102         [-1, 64, 256, 192]               0\n",
      "          Conv2d-103         [-1, 32, 256, 192]          36,896\n",
      "     BatchNorm2d-104         [-1, 32, 256, 192]              64\n",
      "       LeakyReLU-105         [-1, 32, 256, 192]               0\n",
      "       LeakyReLU-106         [-1, 32, 256, 192]               0\n",
      "         Conv3x3-107         [-1, 32, 256, 192]               0\n",
      "          Conv2d-108         [-1, 32, 256, 192]           9,248\n",
      "     BatchNorm2d-109         [-1, 32, 256, 192]              64\n",
      "         Conv3x3-110         [-1, 32, 256, 192]               0\n",
      "       LeakyReLU-111         [-1, 32, 256, 192]               0\n",
      "       LeakyReLU-112         [-1, 32, 256, 192]               0\n",
      "         Conv5x5-113         [-1, 32, 256, 192]               0\n",
      "          Conv2d-114         [-1, 32, 256, 192]           9,248\n",
      "     BatchNorm2d-115         [-1, 32, 256, 192]              64\n",
      "       LeakyReLU-116         [-1, 32, 256, 192]               0\n",
      "       LeakyReLU-117         [-1, 32, 256, 192]               0\n",
      "         Conv3x3-118         [-1, 32, 256, 192]               0\n",
      "          Conv2d-119         [-1, 32, 256, 192]           9,248\n",
      "     BatchNorm2d-120         [-1, 32, 256, 192]              64\n",
      "         Conv3x3-121         [-1, 32, 256, 192]               0\n",
      "       LeakyReLU-122         [-1, 32, 256, 192]               0\n",
      "       LeakyReLU-123         [-1, 32, 256, 192]               0\n",
      "         Conv5x5-124         [-1, 32, 256, 192]               0\n",
      "          Conv2d-125          [-1, 3, 256, 192]              99\n",
      "         Sigmoid-126          [-1, 3, 256, 192]               0\n",
      "================================================================\n",
      "Total params: 14,958,435\n",
      "Trainable params: 14,958,435\n",
      "Non-trainable params: 0\n",
      "----------------------------------------------------------------\n",
      "Input size (MB): 1.12\n",
      "Forward/backward pass size (MB): 930.75\n",
      "Params size (MB): 57.06\n",
      "Estimated Total Size (MB): 988.94\n",
      "----------------------------------------------------------------\n"
     ]
    }
   ],
   "source": [
    "file = open(os.path.join(save_directory, \"readme.txt\"), 'w')\n",
    "file.write(str(trainer))\n",
    "file.write(\"\\n\")\n",
    "file.write(str(summary(model.to('cuda'), (6, 256, 192))))\n",
    "file.close()"
   ],
   "metadata": {
    "collapsed": false,
    "ExecuteTime": {
     "end_time": "2023-05-31T11:00:09.507981700Z",
     "start_time": "2023-05-31T11:00:09.491194900Z"
    }
   }
  },
  {
   "cell_type": "code",
   "execution_count": null,
   "outputs": [],
   "source": [
    "trainer.train(train_dataloader, val_dataloader, epoch_num=20)"
   ],
   "metadata": {
    "collapsed": false,
    "ExecuteTime": {
     "start_time": "2023-04-03T20:24:07.630751Z",
     "end_time": "2023-04-03T21:38:46.478628Z"
    }
   }
  },
  {
   "cell_type": "code",
   "execution_count": null,
   "outputs": [],
   "source": [
    "trainer.draw_history_plots()"
   ],
   "metadata": {
    "collapsed": false,
    "ExecuteTime": {
     "start_time": "2023-04-03T21:38:46.481638Z",
     "end_time": "2023-04-03T21:38:46.575465Z"
    }
   }
  },
  {
   "cell_type": "code",
   "execution_count": null,
   "outputs": [],
   "source": [],
   "metadata": {
    "collapsed": false
   }
  }
 ],
 "metadata": {
  "kernelspec": {
   "display_name": "Python 3",
   "language": "python",
   "name": "python3"
  },
  "language_info": {
   "codemirror_mode": {
    "name": "ipython",
    "version": 2
   },
   "file_extension": ".py",
   "mimetype": "text/x-python",
   "name": "python",
   "nbconvert_exporter": "python",
   "pygments_lexer": "ipython2",
   "version": "2.7.6"
  }
 },
 "nbformat": 4,
 "nbformat_minor": 0
}
