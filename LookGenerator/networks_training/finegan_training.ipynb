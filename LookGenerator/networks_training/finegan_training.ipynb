{
 "cells": [
  {
   "cell_type": "code",
   "execution_count": null,
   "metadata": {
    "collapsed": true
   },
   "outputs": [],
   "source": [
    "# AAAAAAAAAAAAAAAAAAAAAAAAAAAAAAAAAAAAAAAAAAAAAAAAAAAAAA"
   ]
  },
  {
   "cell_type": "code",
   "execution_count": null,
   "outputs": [],
   "source": [
    "import os\n",
    "\n",
    "import matplotlib.pyplot as plt\n",
    "import numpy as np\n",
    "import PIL.Image as Image\n",
    "from tqdm import tqdm\n",
    "\n",
    "import torch\n",
    "import torch.nn as nn\n",
    "from torch.utils.data import DataLoader\n",
    "import torchvision.transforms as transforms\n",
    "from LookGenerator.networks.losses import FineGANLoss\n",
    "from LookGenerator.datasets.refinement_dataset import RefinementGANDataset\n",
    "from LookGenerator.networks.FineGAN import *\n",
    "from LookGenerator.networks_training.utils import check_path_and_creat\n",
    "import LookGenerator.datasets.transforms as custom_transforms"
   ],
   "metadata": {
    "collapsed": false
   }
  },
  {
   "cell_type": "code",
   "execution_count": null,
   "outputs": [],
   "source": [
    "transform_restored = transforms.Compose([\n",
    "    transforms.Resize((256, 192)),\n",
    "    transforms.Normalize(mean=[0.5, 0.5, 0.5],\n",
    "                         std=[0.5, 0.5, 0.5])\n",
    "])\n",
    "\n",
    "transform_real = transforms.Compose([\n",
    "    transforms.Resize((256, 192)),\n",
    "    custom_transforms.MinMaxScale()\n",
    "])"
   ],
   "metadata": {
    "collapsed": false
   }
  },
  {
   "cell_type": "code",
   "execution_count": null,
   "outputs": [],
   "source": [
    "batch_size_train = 64\n",
    "pin_memory = True\n",
    "num_workers = 16"
   ],
   "metadata": {
    "collapsed": false
   }
  },
  {
   "cell_type": "code",
   "execution_count": null,
   "outputs": [],
   "source": [
    "train_dataset = RefinementGANDataset(\n",
    "    restored_images_dir=r\"C:\\Users\\DenisovDmitrii\\Desktop\\forRefinement\\train\",\n",
    "    real_images_dir=r\"C:\\Users\\DenisovDmitrii\\Desktop\\forEncoder\\train\\image\",\n",
    "    transform_restored_images=transform_restored,\n",
    "    transform_real_images=transform_real\n",
    ")"
   ],
   "metadata": {
    "collapsed": false
   }
  },
  {
   "cell_type": "code",
   "execution_count": null,
   "outputs": [],
   "source": [
    "train_dataset = RefinementGANDataset(\n",
    "    restored_images_dir=r\"C:\\Users\\DenisovDmitrii\\Desktop\\forRefinement\\train\",\n",
    "    real_images_dir=r\"C:\\Users\\DenisovDmitrii\\Desktop\\forEncoder\\train\\image\",\n",
    "    transform_restored_images=transform_restored,\n",
    "    transform_real_images=transform_real\n",
    ")"
   ],
   "metadata": {
    "collapsed": false
   }
  },
  {
   "cell_type": "code",
   "execution_count": null,
   "outputs": [],
   "source": [
    "train_dataloader = DataLoader(\n",
    "    train_dataset, batch_size=batch_size_train, shuffle=True, pin_memory=pin_memory, num_workers=num_workers\n",
    ")"
   ],
   "metadata": {
    "collapsed": false
   }
  },
  {
   "cell_type": "code",
   "execution_count": null,
   "outputs": [],
   "source": [
    "save_directory_generator=r\"C:\\Users\\DenisovDmitrii\\OneDrive - ITMO UNIVERSITY\\peopleDetector\\refinement\\weights\\generator\\session4\"\n",
    "save_directory_discriminator=r\"C:\\Users\\DenisovDmitrii\\OneDrive - ITMO UNIVERSITY\\peopleDetector\\refinement\\weights\\discriminator\\session4\"\n",
    "check_path_and_creat(save_directory_generator)\n",
    "check_path_and_creat(save_directory_discriminator)\n"
   ],
   "metadata": {
    "collapsed": false
   }
  },
  {
   "cell_type": "code",
   "execution_count": null,
   "outputs": [],
   "source": [
    "torch.backends.cuda.matmul.allow_tf32 = False\n",
    "torch.backends.cudnn.benchmark = True"
   ],
   "metadata": {
    "collapsed": false
   }
  },
  {
   "cell_type": "code",
   "execution_count": null,
   "outputs": [],
   "source": [
    "def fit(model, criterion, train_dl, device, epochs, g_lr, d_lr):\n",
    "    model[\"discriminator\"].train()\n",
    "    model[\"generator\"].train()\n",
    "    torch.cuda.empty_cache()\n",
    "\n",
    "    # Losses & scores\n",
    "    losses_g = []\n",
    "    losses_d = []\n",
    "    real_scores = []\n",
    "    fake_scores = []\n",
    "\n",
    "    # Create optimizers\n",
    "    optimizer = {\n",
    "        \"discriminator\": torch.optim.Adam(model[\"discriminator\"].parameters(),\n",
    "                                          lr=d_lr, betas=(0.5, 0.999)),\n",
    "        \"generator\": torch.optim.Adam(model[\"generator\"].parameters(),\n",
    "                                      lr=g_lr, betas=(0.5, 0.999))\n",
    "    }\n",
    "\n",
    "    for epoch in range(epochs):\n",
    "        loss_d_per_epoch = []\n",
    "        loss_g_per_epoch = []\n",
    "        real_score_per_epoch = []\n",
    "        fake_score_per_epoch = []\n",
    "        for input_images, real_images in tqdm(train_dl):\n",
    "            input_images = input_images.to(device)\n",
    "            real_images = real_images.to(device)\n",
    "            # Train discriminator\n",
    "            # Clear discriminator gradients\n",
    "            optimizer[\"discriminator\"].zero_grad()\n",
    "\n",
    "            real_images = real_images.to(device)\n",
    "\n",
    "            # Pass real images through discriminator\n",
    "            real_preds = model[\"discriminator\"](real_images)\n",
    "            real_targets = torch.ones(real_images.shape[0], 1, device=device)\n",
    "            real_loss = criterion[\"discriminator\"](real_preds, real_targets)\n",
    "            cur_real_score = torch.mean(real_preds).item()\n",
    "\n",
    "            # Generate fake images\n",
    "            fake_images = model[\"generator\"](input_images)\n",
    "\n",
    "            # Pass fake images through discriminator\n",
    "            fake_targets = torch.ones(fake_images.shape[0], 1, device=device)\n",
    "            fake_preds = model[\"discriminator\"](fake_images)\n",
    "            fake_loss = criterion[\"discriminator\"](fake_preds, fake_targets)\n",
    "            cur_fake_score = torch.mean(fake_preds).item()\n",
    "\n",
    "            real_score_per_epoch.append(cur_real_score)\n",
    "            fake_score_per_epoch.append(cur_fake_score)\n",
    "\n",
    "            # Update discriminator weights\n",
    "            loss_d = real_loss + fake_loss\n",
    "            loss_d.backward()\n",
    "            optimizer[\"discriminator\"].step()\n",
    "            loss_d_per_epoch.append(loss_d.item())\n",
    "\n",
    "            # Train generator\n",
    "\n",
    "            # Clear generator gradients\n",
    "            optimizer[\"generator\"].zero_grad()\n",
    "\n",
    "            # Generate fake images\n",
    "            fake_images = model[\"generator\"](input_images)\n",
    "\n",
    "            # Try to fool the discriminator\n",
    "            preds = model[\"discriminator\"](fake_images)\n",
    "            targets = torch.ones(real_images.shape[0], 1, device=device)\n",
    "            loss_g = criterion[\"generator\"](preds, targets)\n",
    "\n",
    "            # Update generator weights\n",
    "            loss_g.backward()\n",
    "            optimizer[\"generator\"].step()\n",
    "            loss_g_per_epoch.append(loss_g.item())\n",
    "\n",
    "            losses_g.append(np.mean(loss_g_per_epoch))\n",
    "\n",
    "        # Record losses & scores\n",
    "        losses_d.append(np.mean(loss_d_per_epoch))\n",
    "        real_scores.append(np.mean(real_score_per_epoch))\n",
    "        fake_scores.append(np.mean(fake_score_per_epoch))\n",
    "\n",
    "        # Log losses & scores (last batch)\n",
    "        print(\"Epoch [{}/{}], loss_g: {:.4f}, loss_d: {:.4f}, real_score: {:.4f}, fake_score: {:.4f}\".format(\n",
    "            epoch+1, epochs,\n",
    "            losses_g[-1], losses_d[-1], real_scores[-1], fake_scores[-1])\n",
    "        )\n",
    "\n",
    "    return losses_g, losses_d, real_scores, fake_scores"
   ],
   "metadata": {
    "collapsed": false
   }
  },
  {
   "cell_type": "code",
   "execution_count": null,
   "outputs": [],
   "source": [
    "generator = EncoderDecoderGenerator()\n",
    "discriminator = Discriminator()\n",
    "\n",
    "device = 'cuda' if torch.cuda.is_available() else 'cpu'\n",
    "\n",
    "criterion_generator = FineGANLoss(adversarial_criterion=nn.BCELoss())\n",
    "criterion_discriminator = nn.BCELoss()\n",
    "\n",
    "print(device)"
   ],
   "metadata": {
    "collapsed": false
   }
  },
  {
   "cell_type": "code",
   "execution_count": null,
   "outputs": [],
   "source": [
    "model = {\n",
    "    \"discriminator\": generator.to(device),\n",
    "    \"generator\": discriminator.to(device)\n",
    "}\n",
    "\n",
    "criterion = {\n",
    "    \"discriminator\": criterion_discriminator,\n",
    "    \"generator\": criterion_generator\n",
    "}"
   ],
   "metadata": {
    "collapsed": false
   }
  },
  {
   "cell_type": "code",
   "execution_count": null,
   "outputs": [],
   "source": [
    "history = fit(model=model,\n",
    "              criterion=criterion,\n",
    "              train_dl=train_dataloader,\n",
    "              device=device,\n",
    "              epochs=30,\n",
    "              g_lr=0.0004,\n",
    "              d_lr=0.0008)"
   ],
   "metadata": {
    "collapsed": false
   }
  },
  {
   "cell_type": "code",
   "execution_count": null,
   "outputs": [],
   "source": [
    "generator.to('cpu')\n",
    "discriminator.to('cpu')\n",
    "image, real_image = train_dataset[1]\n",
    "image = image.unsqueeze(0)\n",
    "print(image)\n",
    "print(image.shape)\n",
    "image = generator(image)\n",
    "imaged = discriminator(image)\n",
    "image = transforms.ToPILImage()(image[0, :, :, :])\n",
    "image.show()\n",
    "print(imaged)\n"
   ],
   "metadata": {
    "collapsed": false
   }
  }
 ],
 "metadata": {
  "kernelspec": {
   "display_name": "Python 3",
   "language": "python",
   "name": "python3"
  },
  "language_info": {
   "codemirror_mode": {
    "name": "ipython",
    "version": 2
   },
   "file_extension": ".py",
   "mimetype": "text/x-python",
   "name": "python",
   "nbconvert_exporter": "python",
   "pygments_lexer": "ipython2",
   "version": "2.7.6"
  }
 },
 "nbformat": 4,
 "nbformat_minor": 0
}
