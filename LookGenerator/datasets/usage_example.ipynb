{
 "cells": [
  {
   "cell_type": "code",
   "execution_count": 7,
   "metadata": {
    "collapsed": false
   },
   "outputs": [],
   "source": [
    "from torch.utils.data import DataLoader\n",
    "from torchvision.transforms import RandomHorizontalFlip, ToPILImage\n",
    "from classes import PersonSegmentationDataset, ClothesSegmentationDataset\n",
    "import matplotlib.pyplot as plt\n",
    "from LookGenerator.networks.segmentation import UNet, train_UNet"
   ]
  },
  {
   "cell_type": "code",
   "execution_count": null,
   "metadata": {
    "collapsed": false
   },
   "outputs": [],
   "source": [
    "transforms = torch.nn.Sequential(\n",
    "    RandomHorizontalFlip(),\n",
    ")\n",
    "train_dataset = ClothesSegmentationDataset('./train', transform=transforms)\n",
    "train_loader = DataLoader(train_dataset, batch_size=4, shuffle=True)"
   ]
  },
  {
   "cell_type": "code",
   "execution_count": null,
   "metadata": {
    "collapsed": false
   },
   "outputs": [],
   "source": [
    "for i, data in enumerate(train_loader, 0):\n",
    "    person, seg = data\n",
    "\n",
    "    # Visual representation\n",
    "    fig = plt.figure(figsize=(10, 7))\n",
    "    for j in range(4):\n",
    "        fig.add_subplot(2, 4, j + 1)\n",
    "        plt.imshow(ToPILImage()(person[j]))\n",
    "    for j in range(4):\n",
    "        fig.add_subplot(2, 4, 5 + j)\n",
    "        plt.imshow(ToPILImage()(seg[j]))\n",
    "    if i == 0:\n",
    "        break"
   ]
  },
  {
   "cell_type": "code",
   "execution_count": null,
   "metadata": {
    "collapsed": false
   },
   "outputs": [],
   "source": [
    "train_dataset = PersonSegmentationDataset('./train', transform=transforms)\n",
    "train_loader = DataLoader(train_dataset, batch_size=4, shuffle=True)"
   ]
  },
  {
   "cell_type": "code",
   "execution_count": null,
   "metadata": {
    "collapsed": false
   },
   "outputs": [],
   "source": [
    "for i, data in enumerate(train_loader, 0):\n",
    "    person, seg1, seg2, seg3 = data\n",
    "\n",
    "    # Visual representation\n",
    "    fig = plt.figure(figsize=(10, 7))\n",
    "    for j in range(4):\n",
    "        fig.add_subplot(4, 4, j + 1)\n",
    "        plt.imshow(ToPILImage()(person[j]))\n",
    "    for j in range(4):\n",
    "        fig.add_subplot(4, 4, 5 + j)\n",
    "        plt.imshow(ToPILImage()(seg1[j]))\n",
    "    for j in range(4):\n",
    "        fig.add_subplot(4, 4, 9 + j)\n",
    "        plt.imshow(ToPILImage()(seg2[j]))\n",
    "    for j in range(4):\n",
    "        fig.add_subplot(4, 4, 13 + j)\n",
    "        plt.imshow(ToPILImage()(seg3[j]))\n",
    "    if i == 0:\n",
    "        break"
   ]
  },
  {
   "cell_type": "code",
   "execution_count": 5,
   "metadata": {
    "collapsed": false
   },
   "outputs": [],
   "source": []
  }
 ],
 "metadata": {
  "kernelspec": {
   "display_name": "Python 3",
   "language": "python",
   "name": "python3"
  },
  "language_info": {
   "codemirror_mode": {
    "name": "ipython",
    "version": 3
   },
   "file_extension": ".py",
   "mimetype": "text/x-python",
   "name": "python",
   "nbconvert_exporter": "python",
   "pygments_lexer": "ipython3",
   "version": "3.10.0"
  },
  "vscode": {
   "interpreter": {
    "hash": "876db7d3f8682b7e4c5477e5f1e2dc2bd1b19fe05d9aabd59218369070754b39"
   }
  }
 },
 "nbformat": 4,
 "nbformat_minor": 0
}
